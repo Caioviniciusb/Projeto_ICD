{
 "cells": [
  {
   "cell_type": "markdown",
   "metadata": {},
   "source": [
    "# Projeto ICD - Fórmula 1\n",
    "### Caio Araújo e William Xavier"
   ]
  },
  {
   "cell_type": "markdown",
   "metadata": {},
   "source": [
    "## Quais pilotos venceram mais corridas desde 1950 até 2021 ?"
   ]
  },
  {
   "cell_type": "code",
   "execution_count": 1,
   "metadata": {},
   "outputs": [],
   "source": [
    "import numpy as np\n",
    "import pandas as pd \n",
    "import seaborn as sns\n",
    "import matplotlib.pyplot as plt\n",
    "import datetime as dt\n",
    "sns.set_palette('Set2')\n",
    "\n",
    "results = pd.read_csv(\"../../caiov/ICD/projeto_csv/results.csv\")\n",
    "drivers = pd.read_csv(\"../../caiov/ICD/projeto_csv/drivers.csv\")"
   ]
  },
  {
   "cell_type": "code",
   "execution_count": 2,
   "metadata": {},
   "outputs": [],
   "source": [
    "results = results.drop([\"statusId\", \"points\", \"positionText\", \"number\", \"position\", \"milliseconds\"], axis=1)\n",
    "results = results.rename(columns={\"positionOrder\":\"Vitórias_P\"})\n",
    "results = results[results.Vitórias_P == 1]"
   ]
  },
  {
   "cell_type": "code",
   "execution_count": 3,
   "metadata": {},
   "outputs": [],
   "source": [
    "drivers = drivers.loc[\"0\":,\"driverId\":\"nationality\"]\n",
    "drivers[\"Pilotos\"] = drivers[\"forename\"] + \" \" + drivers[\"surname\"]\n",
    "drivers = drivers.drop([\"dob\",\"number\",\"forename\",\"surname\"], axis=1)\n",
    "drivers = drivers.reindex(columns=['driverId','driverRef','code','Pilotos','nationality'])"
   ]
  },
  {
   "cell_type": "code",
   "execution_count": 4,
   "metadata": {},
   "outputs": [
    {
     "data": {
      "text/html": [
       "<div>\n",
       "<style scoped>\n",
       "    .dataframe tbody tr th:only-of-type {\n",
       "        vertical-align: middle;\n",
       "    }\n",
       "\n",
       "    .dataframe tbody tr th {\n",
       "        vertical-align: top;\n",
       "    }\n",
       "\n",
       "    .dataframe thead th {\n",
       "        text-align: right;\n",
       "    }\n",
       "</style>\n",
       "<table border=\"1\" class=\"dataframe\">\n",
       "  <thead>\n",
       "    <tr style=\"text-align: right;\">\n",
       "      <th></th>\n",
       "      <th>Vitórias_P</th>\n",
       "    </tr>\n",
       "    <tr>\n",
       "      <th>Pilotos</th>\n",
       "      <th></th>\n",
       "    </tr>\n",
       "  </thead>\n",
       "  <tbody>\n",
       "    <tr>\n",
       "      <th>Lewis Hamilton</th>\n",
       "      <td>96</td>\n",
       "    </tr>\n",
       "    <tr>\n",
       "      <th>Michael Schumacher</th>\n",
       "      <td>91</td>\n",
       "    </tr>\n",
       "    <tr>\n",
       "      <th>Sebastian Vettel</th>\n",
       "      <td>53</td>\n",
       "    </tr>\n",
       "    <tr>\n",
       "      <th>Alain Prost</th>\n",
       "      <td>51</td>\n",
       "    </tr>\n",
       "    <tr>\n",
       "      <th>Ayrton Senna</th>\n",
       "      <td>41</td>\n",
       "    </tr>\n",
       "    <tr>\n",
       "      <th>Fernando Alonso</th>\n",
       "      <td>32</td>\n",
       "    </tr>\n",
       "    <tr>\n",
       "      <th>Nigel Mansell</th>\n",
       "      <td>31</td>\n",
       "    </tr>\n",
       "    <tr>\n",
       "      <th>Jackie Stewart</th>\n",
       "      <td>27</td>\n",
       "    </tr>\n",
       "    <tr>\n",
       "      <th>Niki Lauda</th>\n",
       "      <td>25</td>\n",
       "    </tr>\n",
       "    <tr>\n",
       "      <th>Jim Clark</th>\n",
       "      <td>25</td>\n",
       "    </tr>\n",
       "    <tr>\n",
       "      <th>Juan Fangio</th>\n",
       "      <td>24</td>\n",
       "    </tr>\n",
       "    <tr>\n",
       "      <th>Nico Rosberg</th>\n",
       "      <td>23</td>\n",
       "    </tr>\n",
       "    <tr>\n",
       "      <th>Nelson Piquet</th>\n",
       "      <td>23</td>\n",
       "    </tr>\n",
       "    <tr>\n",
       "      <th>Damon Hill</th>\n",
       "      <td>22</td>\n",
       "    </tr>\n",
       "    <tr>\n",
       "      <th>Kimi Räikkönen</th>\n",
       "      <td>21</td>\n",
       "    </tr>\n",
       "  </tbody>\n",
       "</table>\n",
       "</div>"
      ],
      "text/plain": [
       "                    Vitórias_P\n",
       "Pilotos                       \n",
       "Lewis Hamilton              96\n",
       "Michael Schumacher          91\n",
       "Sebastian Vettel            53\n",
       "Alain Prost                 51\n",
       "Ayrton Senna                41\n",
       "Fernando Alonso             32\n",
       "Nigel Mansell               31\n",
       "Jackie Stewart              27\n",
       "Niki Lauda                  25\n",
       "Jim Clark                   25\n",
       "Juan Fangio                 24\n",
       "Nico Rosberg                23\n",
       "Nelson Piquet               23\n",
       "Damon Hill                  22\n",
       "Kimi Räikkönen              21"
      ]
     },
     "execution_count": 4,
     "metadata": {},
     "output_type": "execute_result"
    }
   ],
   "source": [
    "drivers_results = pd.merge(drivers,results, on=\"driverId\")\n",
    "\n",
    "drivers_wins = drivers_results.groupby(\"Pilotos\").count()\n",
    "drivers_wins = drivers_wins.sort_values(by=\"Vitórias_P\", ascending=False)[[\"Vitórias_P\"]]\n",
    "d_w_barplot = drivers_wins.iloc[:10]\n",
    "drivers_wins.iloc[:15]"
   ]
  },
  {
   "cell_type": "markdown",
   "metadata": {},
   "source": [
    "## Medidas de Centralidade e Dispersão"
   ]
  },
  {
   "cell_type": "code",
   "execution_count": 5,
   "metadata": {},
   "outputs": [
    {
     "data": {
      "text/html": [
       "<div>\n",
       "<style scoped>\n",
       "    .dataframe tbody tr th:only-of-type {\n",
       "        vertical-align: middle;\n",
       "    }\n",
       "\n",
       "    .dataframe tbody tr th {\n",
       "        vertical-align: top;\n",
       "    }\n",
       "\n",
       "    .dataframe thead th {\n",
       "        text-align: right;\n",
       "    }\n",
       "</style>\n",
       "<table border=\"1\" class=\"dataframe\">\n",
       "  <thead>\n",
       "    <tr style=\"text-align: right;\">\n",
       "      <th></th>\n",
       "      <th>Vitórias_P</th>\n",
       "    </tr>\n",
       "  </thead>\n",
       "  <tbody>\n",
       "    <tr>\n",
       "      <th>Média</th>\n",
       "      <td>9.445455</td>\n",
       "    </tr>\n",
       "    <tr>\n",
       "      <th>Mediana</th>\n",
       "      <td>4.000000</td>\n",
       "    </tr>\n",
       "    <tr>\n",
       "      <th>Desvio Padrão</th>\n",
       "      <td>15.269798</td>\n",
       "    </tr>\n",
       "  </tbody>\n",
       "</table>\n",
       "</div>"
      ],
      "text/plain": [
       "               Vitórias_P\n",
       "Média            9.445455\n",
       "Mediana          4.000000\n",
       "Desvio Padrão   15.269798"
      ]
     },
     "execution_count": 5,
     "metadata": {},
     "output_type": "execute_result"
    }
   ],
   "source": [
    "Medidas_P = {\"Média\": drivers_wins[\"Vitórias_P\"].mean(),\n",
    "                  \"Mediana\": drivers_wins[\"Vitórias_P\"].median(),\n",
    "                  \"Desvio Padrão\": drivers_wins[\"Vitórias_P\"].std()}\n",
    "medidas_p = pd.Series(Medidas_P)\n",
    "\n",
    "d_w_medidas = pd.DataFrame({\"Vitórias_P\": medidas_p})\n",
    "d_w_medidas"
   ]
  },
  {
   "cell_type": "markdown",
   "metadata": {},
   "source": [
    "## Boxplot"
   ]
  },
  {
   "cell_type": "code",
   "execution_count": 6,
   "metadata": {},
   "outputs": [
    {
     "data": {
      "text/plain": [
       "<matplotlib.axes._subplots.AxesSubplot at 0x1b570a20888>"
      ]
     },
     "execution_count": 6,
     "metadata": {},
     "output_type": "execute_result"
    },
    {
     "data": {
      "image/png": "[encoded data removed]",
      "text/plain": [
       "<Figure size 432x288 with 1 Axes>"
      ]
     },
     "metadata": {
      "needs_background": "light"
     },
     "output_type": "display_data"
    }
   ],
   "source": [
    "drivers_wins.boxplot(column=\"Vitórias_P\")"
   ]
  },
  {
   "cell_type": "markdown",
   "metadata": {},
   "source": [
    "## Gráfico de Barra"
   ]
  },
  {
   "cell_type": "code",
   "execution_count": 7,
   "metadata": {},
   "outputs": [
    {
     "data": {
      "text/plain": [
       "Text(0.5, 1.0, 'Top 10 Pilotos Vencedores')"
      ]
     },
     "execution_count": 7,
     "metadata": {},
     "output_type": "execute_result"
    },
    {
     "data": {
      "image/png": "[encoded data removed]",
      "text/plain": [
       "<Figure size 432x288 with 1 Axes>"
      ]
     },
     "metadata": {
      "needs_background": "light"
     },
     "output_type": "display_data"
    }
   ],
   "source": [
    "d_w_barplot = d_w_barplot.reset_index()\n",
    "sns.barplot(data=d_w_barplot, x=\"Pilotos\", y=\"Vitórias_P\")\n",
    "plt.xticks(rotation=60)\n",
    "plt.title(\"Top 10 Pilotos Vencedores\")"
   ]
  },
  {
   "cell_type": "code",
   "execution_count": null,
   "metadata": {},
   "outputs": [],
   "source": []
  },
  {
   "cell_type": "markdown",
   "metadata": {},
   "source": [
    "## Quais montadoras/equipes venceram mais corridas ?"
   ]
  },
  {
   "cell_type": "code",
   "execution_count": 8,
   "metadata": {},
   "outputs": [],
   "source": [
    "teams = pd.read_csv(\"../../caiov/ICD/projeto_csv/constructors.csv\")"
   ]
  },
  {
   "cell_type": "code",
   "execution_count": 9,
   "metadata": {},
   "outputs": [],
   "source": [
    "teams_results = pd.merge(teams,results, on=\"constructorId\")\n",
    "teams_results = teams_results.drop([\"constructorRef\",\"url\"], axis=1)"
   ]
  },
  {
   "cell_type": "code",
   "execution_count": 10,
   "metadata": {},
   "outputs": [],
   "source": [
    "teams_results = teams_results.rename(columns={\"name\":\"Equipes\"})\n",
    "teams_results = teams_results.rename(columns={\"constructorId\":\"Vitórias_E\"})"
   ]
  },
  {
   "cell_type": "code",
   "execution_count": 11,
   "metadata": {},
   "outputs": [
    {
     "data": {
      "text/html": [
       "<div>\n",
       "<style scoped>\n",
       "    .dataframe tbody tr th:only-of-type {\n",
       "        vertical-align: middle;\n",
       "    }\n",
       "\n",
       "    .dataframe tbody tr th {\n",
       "        vertical-align: top;\n",
       "    }\n",
       "\n",
       "    .dataframe thead th {\n",
       "        text-align: right;\n",
       "    }\n",
       "</style>\n",
       "<table border=\"1\" class=\"dataframe\">\n",
       "  <thead>\n",
       "    <tr style=\"text-align: right;\">\n",
       "      <th></th>\n",
       "      <th>Vitórias_E</th>\n",
       "    </tr>\n",
       "    <tr>\n",
       "      <th>Equipes</th>\n",
       "      <th></th>\n",
       "    </tr>\n",
       "  </thead>\n",
       "  <tbody>\n",
       "    <tr>\n",
       "      <th>Ferrari</th>\n",
       "      <td>239</td>\n",
       "    </tr>\n",
       "    <tr>\n",
       "      <th>McLaren</th>\n",
       "      <td>178</td>\n",
       "    </tr>\n",
       "    <tr>\n",
       "      <th>Mercedes</th>\n",
       "      <td>116</td>\n",
       "    </tr>\n",
       "    <tr>\n",
       "      <th>Williams</th>\n",
       "      <td>114</td>\n",
       "    </tr>\n",
       "    <tr>\n",
       "      <th>Red Bull</th>\n",
       "      <td>64</td>\n",
       "    </tr>\n",
       "    <tr>\n",
       "      <th>Team Lotus</th>\n",
       "      <td>45</td>\n",
       "    </tr>\n",
       "    <tr>\n",
       "      <th>Renault</th>\n",
       "      <td>35</td>\n",
       "    </tr>\n",
       "    <tr>\n",
       "      <th>Benetton</th>\n",
       "      <td>27</td>\n",
       "    </tr>\n",
       "    <tr>\n",
       "      <th>Brabham</th>\n",
       "      <td>23</td>\n",
       "    </tr>\n",
       "    <tr>\n",
       "      <th>Tyrrell</th>\n",
       "      <td>23</td>\n",
       "    </tr>\n",
       "    <tr>\n",
       "      <th>Lotus-Climax</th>\n",
       "      <td>22</td>\n",
       "    </tr>\n",
       "    <tr>\n",
       "      <th>BRM</th>\n",
       "      <td>17</td>\n",
       "    </tr>\n",
       "    <tr>\n",
       "      <th>Cooper-Climax</th>\n",
       "      <td>12</td>\n",
       "    </tr>\n",
       "    <tr>\n",
       "      <th>Alfa Romeo</th>\n",
       "      <td>11</td>\n",
       "    </tr>\n",
       "    <tr>\n",
       "      <th>Lotus-Ford</th>\n",
       "      <td>11</td>\n",
       "    </tr>\n",
       "  </tbody>\n",
       "</table>\n",
       "</div>"
      ],
      "text/plain": [
       "               Vitórias_E\n",
       "Equipes                  \n",
       "Ferrari               239\n",
       "McLaren               178\n",
       "Mercedes              116\n",
       "Williams              114\n",
       "Red Bull               64\n",
       "Team Lotus             45\n",
       "Renault                35\n",
       "Benetton               27\n",
       "Brabham                23\n",
       "Tyrrell                23\n",
       "Lotus-Climax           22\n",
       "BRM                    17\n",
       "Cooper-Climax          12\n",
       "Alfa Romeo             11\n",
       "Lotus-Ford             11"
      ]
     },
     "execution_count": 11,
     "metadata": {},
     "output_type": "execute_result"
    }
   ],
   "source": [
    "teams_wins = teams_results.groupby(\"Equipes\").count()\n",
    "teams_wins = teams_wins.sort_values(by=\"Vitórias_E\", ascending=False)[[\"Vitórias_E\"]]\n",
    "t_w_barplot = teams_wins.iloc[:10]\n",
    "teams_wins.iloc[:15]"
   ]
  },
  {
   "cell_type": "markdown",
   "metadata": {},
   "source": [
    "## Medidas de Centralidade e Dispersão"
   ]
  },
  {
   "cell_type": "code",
   "execution_count": 12,
   "metadata": {},
   "outputs": [
    {
     "data": {
      "text/html": [
       "<div>\n",
       "<style scoped>\n",
       "    .dataframe tbody tr th:only-of-type {\n",
       "        vertical-align: middle;\n",
       "    }\n",
       "\n",
       "    .dataframe tbody tr th {\n",
       "        vertical-align: top;\n",
       "    }\n",
       "\n",
       "    .dataframe thead th {\n",
       "        text-align: right;\n",
       "    }\n",
       "</style>\n",
       "<table border=\"1\" class=\"dataframe\">\n",
       "  <thead>\n",
       "    <tr style=\"text-align: right;\">\n",
       "      <th></th>\n",
       "      <th>Vitórias_E</th>\n",
       "    </tr>\n",
       "  </thead>\n",
       "  <tbody>\n",
       "    <tr>\n",
       "      <th>Média</th>\n",
       "      <td>22.586957</td>\n",
       "    </tr>\n",
       "    <tr>\n",
       "      <th>Mediana</th>\n",
       "      <td>4.000000</td>\n",
       "    </tr>\n",
       "    <tr>\n",
       "      <th>Desvio Padrão</th>\n",
       "      <td>47.768226</td>\n",
       "    </tr>\n",
       "  </tbody>\n",
       "</table>\n",
       "</div>"
      ],
      "text/plain": [
       "               Vitórias_E\n",
       "Média           22.586957\n",
       "Mediana          4.000000\n",
       "Desvio Padrão   47.768226"
      ]
     },
     "execution_count": 12,
     "metadata": {},
     "output_type": "execute_result"
    }
   ],
   "source": [
    "Medidas_E = {\"Média\": teams_wins[\"Vitórias_E\"].mean(),\n",
    "                  \"Mediana\": teams_wins[\"Vitórias_E\"].median(),\n",
    "                  \"Desvio Padrão\": teams_wins[\"Vitórias_E\"].std()}\n",
    "medidas_e = pd.Series(Medidas_E)\n",
    "\n",
    "t_w_medidas = pd.DataFrame({\"Vitórias_E\": medidas_e})\n",
    "t_w_medidas"
   ]
  },
  {
   "cell_type": "markdown",
   "metadata": {},
   "source": [
    "## Boxplot"
   ]
  },
  {
   "cell_type": "code",
   "execution_count": 13,
   "metadata": {},
   "outputs": [
    {
     "data": {
      "text/plain": [
       "<matplotlib.axes._subplots.AxesSubplot at 0x1b570a07fc8>"
      ]
     },
     "execution_count": 13,
     "metadata": {},
     "output_type": "execute_result"
    },
    {
     "data": {
      "image/png": "[encoded data removed]",
      "text/plain": [
       "<Figure size 432x288 with 1 Axes>"
      ]
     },
     "metadata": {
      "needs_background": "light"
     },
     "output_type": "display_data"
    }
   ],
   "source": [
    "teams_wins.boxplot(column=\"Vitórias_E\")"
   ]
  },
  {
   "cell_type": "markdown",
   "metadata": {},
   "source": [
    "## Gráfico de Barra"
   ]
  },
  {
   "cell_type": "code",
   "execution_count": 14,
   "metadata": {},
   "outputs": [
    {
     "data": {
      "text/plain": [
       "Text(0.5, 1.0, 'Top 10 Equipes Vencedores')"
      ]
     },
     "execution_count": 14,
     "metadata": {},
     "output_type": "execute_result"
    },
    {
     "data": {
      "image/png": "[encoded data removed]",
      "text/plain": [
       "<Figure size 432x288 with 1 Axes>"
      ]
     },
     "metadata": {
      "needs_background": "light"
     },
     "output_type": "display_data"
    }
   ],
   "source": [
    "t_w_barplot = t_w_barplot.reset_index()\n",
    "sns.barplot(data=t_w_barplot, x=\"Equipes\", y=\"Vitórias_E\")\n",
    "plt.xticks(rotation=45)\n",
    "plt.title(\"Top 10 Equipes Vencedores\")"
   ]
  },
  {
   "cell_type": "code",
   "execution_count": null,
   "metadata": {},
   "outputs": [],
   "source": []
  },
  {
   "cell_type": "markdown",
   "metadata": {},
   "source": [
    "## Acidentes + Colisões por Temporada"
   ]
  },
  {
   "cell_type": "code",
   "execution_count": 15,
   "metadata": {},
   "outputs": [],
   "source": [
    "races = pd.read_csv(\"../../caiov/ICD/projeto_csv/races.csv\")\n",
    "estatistica = pd.read_csv(\"../../caiov/ICD/projeto_csv/status.csv\")\n",
    "resultados = pd.read_csv(\"../../caiov/ICD/projeto_csv/results.csv\")\n",
    "\n",
    "df_acidentes = resultados[(resultados.statusId == 3) | (resultados.statusId == 4)]\n",
    "df_acidentes = df_acidentes.drop([\"points\", \"position\", \"positionText\", \"number\", \"time\", \"milliseconds\", \n",
    "                            \"fastestLap\", \"fastestLapTime\", \"fastestLapSpeed\",\"laps\", \"rank\", \"positionOrder\"], axis=1)"
   ]
  },
  {
   "cell_type": "code",
   "execution_count": 16,
   "metadata": {},
   "outputs": [
    {
     "data": {
      "text/html": [
       "<div>\n",
       "<style scoped>\n",
       "    .dataframe tbody tr th:only-of-type {\n",
       "        vertical-align: middle;\n",
       "    }\n",
       "\n",
       "    .dataframe tbody tr th {\n",
       "        vertical-align: top;\n",
       "    }\n",
       "\n",
       "    .dataframe thead th {\n",
       "        text-align: right;\n",
       "    }\n",
       "</style>\n",
       "<table border=\"1\" class=\"dataframe\">\n",
       "  <thead>\n",
       "    <tr style=\"text-align: right;\">\n",
       "      <th></th>\n",
       "      <th>Acidentes</th>\n",
       "    </tr>\n",
       "    <tr>\n",
       "      <th>Temporada</th>\n",
       "      <th></th>\n",
       "    </tr>\n",
       "  </thead>\n",
       "  <tbody>\n",
       "    <tr>\n",
       "      <th>2010</th>\n",
       "      <td>42</td>\n",
       "    </tr>\n",
       "    <tr>\n",
       "      <th>2011</th>\n",
       "      <td>30</td>\n",
       "    </tr>\n",
       "    <tr>\n",
       "      <th>2012</th>\n",
       "      <td>43</td>\n",
       "    </tr>\n",
       "    <tr>\n",
       "      <th>2013</th>\n",
       "      <td>23</td>\n",
       "    </tr>\n",
       "    <tr>\n",
       "      <th>2014</th>\n",
       "      <td>23</td>\n",
       "    </tr>\n",
       "    <tr>\n",
       "      <th>2015</th>\n",
       "      <td>18</td>\n",
       "    </tr>\n",
       "    <tr>\n",
       "      <th>2016</th>\n",
       "      <td>20</td>\n",
       "    </tr>\n",
       "    <tr>\n",
       "      <th>2017</th>\n",
       "      <td>26</td>\n",
       "    </tr>\n",
       "    <tr>\n",
       "      <th>2018</th>\n",
       "      <td>26</td>\n",
       "    </tr>\n",
       "    <tr>\n",
       "      <th>2019</th>\n",
       "      <td>21</td>\n",
       "    </tr>\n",
       "    <tr>\n",
       "      <th>2020</th>\n",
       "      <td>18</td>\n",
       "    </tr>\n",
       "    <tr>\n",
       "      <th>2021</th>\n",
       "      <td>1</td>\n",
       "    </tr>\n",
       "  </tbody>\n",
       "</table>\n",
       "</div>"
      ],
      "text/plain": [
       "           Acidentes\n",
       "Temporada           \n",
       "2010              42\n",
       "2011              30\n",
       "2012              43\n",
       "2013              23\n",
       "2014              23\n",
       "2015              18\n",
       "2016              20\n",
       "2017              26\n",
       "2018              26\n",
       "2019              21\n",
       "2020              18\n",
       "2021               1"
      ]
     },
     "execution_count": 16,
     "metadata": {},
     "output_type": "execute_result"
    }
   ],
   "source": [
    "newdata = pd.merge(races, df_acidentes, on=\"raceId\")\n",
    "newdata = newdata.drop([\"url\", \"grid\", \"time\", \"round\", \"date\", \"resultId\",\n",
    "                        \"driverId\",\"raceId\", \"circuitId\", \"constructorId\",\"name\",\"statusId\"], axis=1)\n",
    "newdata = newdata.rename(columns={\"year\":\"Temporada\"})\n",
    "\n",
    "q_acidentes = np.full((1834), 1)\n",
    "newdata[\"Acidentes\"]= q_acidentes\n",
    "\n",
    "newdata = newdata.sort_values(by=\"Temporada\")\n",
    "newdata = newdata.reset_index(drop=True)\n",
    "newdata = newdata.groupby(\"Temporada\").sum()\n",
    "newdata.iloc[60:]"
   ]
  },
  {
   "cell_type": "code",
   "execution_count": null,
   "metadata": {},
   "outputs": [],
   "source": []
  },
  {
   "cell_type": "markdown",
   "metadata": {},
   "source": [
    "## Medidas de Centralidade e Dispersão"
   ]
  },
  {
   "cell_type": "code",
   "execution_count": 17,
   "metadata": {},
   "outputs": [
    {
     "data": {
      "text/html": [
       "<div>\n",
       "<style scoped>\n",
       "    .dataframe tbody tr th:only-of-type {\n",
       "        vertical-align: middle;\n",
       "    }\n",
       "\n",
       "    .dataframe tbody tr th {\n",
       "        vertical-align: top;\n",
       "    }\n",
       "\n",
       "    .dataframe thead th {\n",
       "        text-align: right;\n",
       "    }\n",
       "</style>\n",
       "<table border=\"1\" class=\"dataframe\">\n",
       "  <thead>\n",
       "    <tr style=\"text-align: right;\">\n",
       "      <th></th>\n",
       "      <th>Acidentes</th>\n",
       "    </tr>\n",
       "  </thead>\n",
       "  <tbody>\n",
       "    <tr>\n",
       "      <th>Média</th>\n",
       "      <td>25.472222</td>\n",
       "    </tr>\n",
       "    <tr>\n",
       "      <th>Mediana</th>\n",
       "      <td>25.000000</td>\n",
       "    </tr>\n",
       "    <tr>\n",
       "      <th>Desvio Padrão</th>\n",
       "      <td>12.844654</td>\n",
       "    </tr>\n",
       "  </tbody>\n",
       "</table>\n",
       "</div>"
      ],
      "text/plain": [
       "               Acidentes\n",
       "Média          25.472222\n",
       "Mediana        25.000000\n",
       "Desvio Padrão  12.844654"
      ]
     },
     "execution_count": 17,
     "metadata": {},
     "output_type": "execute_result"
    }
   ],
   "source": [
    "Medidas_A = {\"Média\": newdata[\"Acidentes\"].mean(),\n",
    "                  \"Mediana\": newdata[\"Acidentes\"].median(),\n",
    "                  \"Desvio Padrão\": newdata[\"Acidentes\"].std()}\n",
    "medidas_a = pd.Series(Medidas_A)\n",
    "\n",
    "d_a_medidas = pd.DataFrame({\"Acidentes\": medidas_a})\n",
    "d_a_medidas"
   ]
  },
  {
   "cell_type": "markdown",
   "metadata": {},
   "source": [
    "## Boxplot"
   ]
  },
  {
   "cell_type": "code",
   "execution_count": 18,
   "metadata": {},
   "outputs": [
    {
     "data": {
      "text/plain": [
       "<matplotlib.axes._subplots.AxesSubplot at 0x1b570780e48>"
      ]
     },
     "execution_count": 18,
     "metadata": {},
     "output_type": "execute_result"
    },
    {
     "data": {
      "image/png": "[encoded data removed]",
      "text/plain": [
       "<Figure size 432x288 with 1 Axes>"
      ]
     },
     "metadata": {
      "needs_background": "light"
     },
     "output_type": "display_data"
    }
   ],
   "source": [
    "newdata.boxplot(column=\"Acidentes\")"
   ]
  },
  {
   "cell_type": "markdown",
   "metadata": {},
   "source": [
    "## Gráfico de Linha"
   ]
  },
  {
   "cell_type": "code",
   "execution_count": 19,
   "metadata": {},
   "outputs": [
    {
     "data": {
      "text/plain": [
       "Text(0.5, 1.0, 'Acidentes por temporada')"
      ]
     },
     "execution_count": 19,
     "metadata": {},
     "output_type": "execute_result"
    },
    {
     "data": {
      "image/png": "[encoded data removed]",
      "text/plain": [
       "<Figure size 432x288 with 1 Axes>"
      ]
     },
     "metadata": {
      "needs_background": "light"
     },
     "output_type": "display_data"
    }
   ],
   "source": [
    "newdata = newdata.reset_index()\n",
    "sns.lineplot(data=newdata, x=\"Temporada\", y=\"Acidentes\", marker=\"o\")\n",
    "plt.title(\"Acidentes por temporada\")"
   ]
  },
  {
   "cell_type": "markdown",
   "metadata": {},
   "source": [
    "## Histograma"
   ]
  },
  {
   "cell_type": "code",
   "execution_count": 20,
   "metadata": {},
   "outputs": [
    {
     "data": {
      "text/plain": [
       "array([[<matplotlib.axes._subplots.AxesSubplot object at 0x000001B570D2DD48>]],\n",
       "      dtype=object)"
      ]
     },
     "execution_count": 20,
     "metadata": {},
     "output_type": "execute_result"
    },
    {
     "data": {
      "image/png": "[encoded data removed]",
      "text/plain": [
       "<Figure size 432x288 with 1 Axes>"
      ]
     },
     "metadata": {
      "needs_background": "light"
     },
     "output_type": "display_data"
    }
   ],
   "source": [
    "newdata.hist(column=\"Acidentes\", bins=15)"
   ]
  },
  {
   "cell_type": "markdown",
   "metadata": {},
   "source": [
    "## Gráfico de dispersão (Agrupamento)"
   ]
  },
  {
   "cell_type": "code",
   "execution_count": 21,
   "metadata": {},
   "outputs": [],
   "source": [
    "newdata = newdata.reset_index()"
   ]
  },
  {
   "cell_type": "code",
   "execution_count": 22,
   "metadata": {},
   "outputs": [
    {
     "data": {
      "text/plain": [
       "<matplotlib.axes._subplots.AxesSubplot at 0x1b571680a48>"
      ]
     },
     "execution_count": 22,
     "metadata": {},
     "output_type": "execute_result"
    },
    {
     "data": {
      "image/png": "[encoded data removed]",
      "text/plain": [
       "<Figure size 432x288 with 1 Axes>"
      ]
     },
     "metadata": {
      "needs_background": "light"
     },
     "output_type": "display_data"
    }
   ],
   "source": [
    "\n",
    "from sklearn.cluster import KMeans\n",
    "kmeans = KMeans(n_clusters=3)\n",
    "kmeans.fit(newdata)\n",
    "sns.scatterplot(data=newdata, x=\"Temporada\", y=\"Acidentes\", hue=kmeans.labels_, palette=\"muted\")"
   ]
  },
  {
   "cell_type": "code",
   "execution_count": null,
   "metadata": {},
   "outputs": [],
   "source": []
  },
  {
   "cell_type": "markdown",
   "metadata": {},
   "source": [
    "# DataFrame - Fórmula 1"
   ]
  },
  {
   "cell_type": "code",
   "execution_count": 23,
   "metadata": {},
   "outputs": [],
   "source": [
    "pd.options.display.float_format = '{:.2f}'.format\n",
    "\n",
    "races = pd.read_csv(\"../../caiov/ICD/projeto_csv/races.csv\")\n",
    "races = races.drop([\"time\",\"url\"], axis=1)\n",
    "\n",
    "teams_results2 = pd.merge(results,teams, on=\"constructorId\")\n",
    "teams_results2 = teams_results2.drop([\"constructorRef\",\"url\", \"Vitórias_P\"], axis=1)\n",
    "teams_results2 = teams_results2.drop([\"nationality\",\"raceId\",\"resultId\",\"grid\",\"laps\",\n",
    "                                      \"time\",\"fastestLap\",\"rank\",\"fastestLapTime\",\"fastestLapSpeed\"], axis=1)\n",
    "teams_results2 #(F15)\n",
    "\n",
    "drivers_results2 = pd.merge(results, drivers, on=\"driverId\")\n",
    "drivers_results2 = drivers_results2.rename(columns={\"Vitórias_P\":\"Posição_Final\"})\n",
    "drivers_results2 #(F10)\n",
    "\n",
    "t_d_results = pd.merge(teams_results2,drivers_results2, on=[\"driverId\",\"constructorId\"])\n",
    "t_d_results = t_d_results.drop([\"rank\",\"fastestLap\",\"driverRef\",\"laps\",\"resultId\"],axis=1)\n",
    "t_d_results = t_d_results.reindex(columns=[\"raceId\",\"driverId\",\"Pilotos\",\"code\",\"nationality\",\"constructorId\",\"name\",\n",
    "                                           \"grid\",\"Posição_Final\",\"time\",\"fastestLapTime\",\"fastestLapSpeed\"])\n",
    "\n",
    "t_d_results = t_d_results.rename(columns={\"name\":\"Montadoras\"})\n",
    "\n",
    "formula_1 = pd.merge(t_d_results,races, on=\"raceId\")\n",
    "formula_1 = formula_1.reindex(columns=[\"raceId\",\"round\",\"circuitId\",\"name\",\"date\",\"year\",\"driverId\",\"Pilotos\",\"code\",\"nationality\",\n",
    "                                       \"Montadoras\",\"constructorId\",\"grid\",\"Posição_Final\",\"time\",\"fastestLapTime\",\"fastestLapSpeed\"])\n",
    "formula_1 = formula_1.drop_duplicates()\n",
    "formula_1 = formula_1.sort_values(by=\"date\")"
   ]
  },
  {
   "cell_type": "code",
   "execution_count": null,
   "metadata": {},
   "outputs": [],
   "source": []
  },
  {
   "cell_type": "markdown",
   "metadata": {},
   "source": [
    "# Porcentagem Pole-Vitória\n"
   ]
  },
  {
   "cell_type": "code",
   "execution_count": 24,
   "metadata": {},
   "outputs": [],
   "source": [
    "soma_p = formula_1['Posição_Final'].sum()\n",
    "\n",
    "soma_grid = formula_1[formula_1.grid == 1]\n",
    "soma_grid = soma_grid[\"grid\"].count()\n",
    "porc = (soma_grid * 100) / soma_p\n",
    "\n",
    "\n",
    "soma_grid_2 = formula_1[formula_1.grid == 2]\n",
    "soma_grid_2 = soma_grid_2[\"grid\"].count()\n",
    "porc_2 = (soma_grid_2 * 100) / soma_p\n",
    "\n",
    "\n",
    "soma_grid_3 = formula_1[formula_1.grid == 3]\n",
    "soma_grid_3 = soma_grid_3[\"grid\"].count()\n",
    "porc_3 = (soma_grid_3 * 100) / soma_p"
   ]
  },
  {
   "cell_type": "code",
   "execution_count": 25,
   "metadata": {},
   "outputs": [
    {
     "data": {
      "text/html": [
       "<div>\n",
       "<style scoped>\n",
       "    .dataframe tbody tr th:only-of-type {\n",
       "        vertical-align: middle;\n",
       "    }\n",
       "\n",
       "    .dataframe tbody tr th {\n",
       "        vertical-align: top;\n",
       "    }\n",
       "\n",
       "    .dataframe thead th {\n",
       "        text-align: right;\n",
       "    }\n",
       "</style>\n",
       "<table border=\"1\" class=\"dataframe\">\n",
       "  <thead>\n",
       "    <tr style=\"text-align: right;\">\n",
       "      <th></th>\n",
       "      <th>Saída-Chegada</th>\n",
       "      <th>Porcentagem</th>\n",
       "    </tr>\n",
       "  </thead>\n",
       "  <tbody>\n",
       "    <tr>\n",
       "      <th>Q1</th>\n",
       "      <td>1°- 1°</td>\n",
       "      <td>41.87</td>\n",
       "    </tr>\n",
       "    <tr>\n",
       "      <th>Q2</th>\n",
       "      <td>2°- 1°</td>\n",
       "      <td>23.97</td>\n",
       "    </tr>\n",
       "    <tr>\n",
       "      <th>Q3</th>\n",
       "      <td>3°- 1°</td>\n",
       "      <td>12.32</td>\n",
       "    </tr>\n",
       "  </tbody>\n",
       "</table>\n",
       "</div>"
      ],
      "text/plain": [
       "   Saída-Chegada  Porcentagem\n",
       "Q1        1°- 1°        41.87\n",
       "Q2        2°- 1°        23.97\n",
       "Q3        3°- 1°        12.32"
      ]
     },
     "execution_count": 25,
     "metadata": {},
     "output_type": "execute_result"
    }
   ],
   "source": [
    "valores_dict = {\"Q1\": porc, \"Q2\": porc_2, \"Q3\": porc_3}\n",
    "valores_dict_2 = {\"Q1\": \"1°- 1°\", \"Q2\": \"2°- 1°\", \"Q3\": \"3°- 1°\"}\n",
    "\n",
    "valores = pd.Series(valores_dict)\n",
    "valores_2 = pd.Series(valores_dict_2)\n",
    "\n",
    "porc_valores = pd.DataFrame({\"Saída-Chegada\": valores_2 ,\"Porcentagem\" : valores_dict})\n",
    "porc_valores"
   ]
  },
  {
   "cell_type": "code",
   "execution_count": null,
   "metadata": {},
   "outputs": [],
   "source": []
  },
  {
   "cell_type": "markdown",
   "metadata": {},
   "source": [
    "# Análise Tempo (OK)\n",
    "\n",
    "Análise da variação das velocidades em diferentes circuitos ano a ano."
   ]
  },
  {
   "cell_type": "code",
   "execution_count": 26,
   "metadata": {},
   "outputs": [],
   "source": [
    "formula_1_speed =  formula_1\n",
    "formula_1_speed = formula_1_speed.drop([\"round\",\"driverId\",\n",
    "                          \"code\",\"constructorId\",\"fastestLapTime\",\"fastestLapSpeed\"], axis=1)\n",
    "\n",
    "formula_1_speed = formula_1_speed[(formula_1_speed.circuitId == 6) | (formula_1_speed.circuitId == 14) | \n",
    "                                  (formula_1_speed.circuitId == 18) | (formula_1_speed.circuitId == 9)]\n",
    "\n",
    "formula_1_speed = formula_1_speed.drop(14186)\n",
    "formula_1_speed = formula_1_speed.sort_values(by=\"circuitId\")\n",
    "\n",
    "formula_1_speed_t = formula_1_speed[\"time\"]\n",
    "formula_1_speed_dt = pd.to_datetime(formula_1_speed_t, format='%H:%M:%S.%f', errors='ignore')\n",
    "formula_1_speed_seconds = (formula_1_speed_dt.dt.hour*60+formula_1_speed_dt.dt.minute)*60 + formula_1_speed_dt.dt.second\n",
    "formula_1_speed[\"Seconds\"] = formula_1_speed_seconds"
   ]
  },
  {
   "cell_type": "code",
   "execution_count": 27,
   "metadata": {},
   "outputs": [
    {
     "data": {
      "text/plain": [
       "Text(0.5, 1.0, 'Análise Tempos')"
      ]
     },
     "execution_count": 27,
     "metadata": {},
     "output_type": "execute_result"
    },
    {
     "data": {
      "image/png": "[encoded data removed]",
      "text/plain": [
       "<Figure size 432x288 with 1 Axes>"
      ]
     },
     "metadata": {
      "needs_background": "light"
     },
     "output_type": "display_data"
    }
   ],
   "source": [
    "sns.lineplot(data=formula_1_speed, x=\"year\", y=\"Seconds\", hue=\"name\", marker=\"o\")\n",
    "plt.title(\"Análise Tempos\")"
   ]
  },
  {
   "cell_type": "markdown",
   "metadata": {},
   "source": [
    "Análise: Podemos observar que aproximadamente no ano de 2010 houve uma mudança brusca na variação dos tempos que estavam em constante diminuição. Tal acontecimento foi ocasionado por uma série de mudanças em algumas regras da Fórmula 1, como: \n",
    "\n",
    "* **Volta da regra de 107%** (*Durante a qualificação, o piloto que não efetuar uma volta dentro de 107% do menor tempo na primeira sessão de qualificação não pode começar a corrida*);\n",
    "* **Proibição de ordens de equipe** (*Equipe não pode exigir ultrapassagens para favorecer um determinado piloto*);  \n",
    "* **Novas normas técnicas impostas pela pirelli;**  \n",
    "* **Mudanças na aerodinâmica dos carros;**  \n",
    "* **Leve aumento do peso mínimo dos veículos;**  \n",
    "* **Impedimento de acessar o circuito 9 horas antes da primeira sessão do dia.**\n",
    "\n",
    "Essas mudanças favoreceram a segurança dos pilotos e de todas as pessoas envolvidas na organização da corrida, como pode ser observado no gráfico abaixo:"
   ]
  },
  {
   "cell_type": "code",
   "execution_count": 28,
   "metadata": {},
   "outputs": [
    {
     "data": {
      "text/plain": [
       "Text(0.5, 1.0, 'Acidentes por temporada')"
      ]
     },
     "execution_count": 28,
     "metadata": {},
     "output_type": "execute_result"
    },
    {
     "data": {
      "image/png": "[encoded data removed]",
      "text/plain": [
       "<Figure size 432x288 with 1 Axes>"
      ]
     },
     "metadata": {
      "needs_background": "light"
     },
     "output_type": "display_data"
    }
   ],
   "source": [
    "sns.lineplot(data=newdata, x=\"Temporada\", y=\"Acidentes\", marker=\"o\")\n",
    "plt.title(\"Acidentes por temporada\")"
   ]
  },
  {
   "cell_type": "markdown",
   "metadata": {},
   "source": [
    "Houve uma diminuição na quantidade de acidentes por volta da temporada de 2013, demostrando a eficácia das novas normas impostas pela FIA (Federação Internacional do Automóvel). Em suma, os carros se tornaram levemente mais lentos, mas as corridas se tornaram mais seguras, o que eticamente foi a decisão mais correta para evitar a morte de profissionais deste esporte que vem nos impressionando ao longo dos anos com tamanha velocidade e adrenalina."
   ]
  },
  {
   "cell_type": "code",
   "execution_count": null,
   "metadata": {},
   "outputs": [],
   "source": []
  },
  {
   "cell_type": "code",
   "execution_count": null,
   "metadata": {},
   "outputs": [],
   "source": [
    "#Organizar depois\n",
    "\n",
    "for i in range(3):\n",
    "    Porcentagem_t = []\n",
    "    string = str(porc_valores[\"Porcentagem\"][i]) + \"%\"\n",
    "    Porcentagem_t.append(string)\n",
    "    \n",
    "    porc_valores.insert(loc=0, column=\"Porcentagem_t\", value=Porcentagem_t)"
   ]
  },
  {
   "cell_type": "code",
   "execution_count": null,
   "metadata": {},
   "outputs": [],
   "source": []
  },
  {
   "cell_type": "markdown",
   "metadata": {},
   "source": [
    "# Dados Monaco (1950-1968) e (2005-2019)"
   ]
  },
  {
   "cell_type": "markdown",
   "metadata": {},
   "source": [
    "## Monaco (1950-1968)"
   ]
  },
  {
   "cell_type": "code",
   "execution_count": 29,
   "metadata": {
    "scrolled": false
   },
   "outputs": [
    {
     "data": {
      "text/html": [
       "<div>\n",
       "<style scoped>\n",
       "    .dataframe tbody tr th:only-of-type {\n",
       "        vertical-align: middle;\n",
       "    }\n",
       "\n",
       "    .dataframe tbody tr th {\n",
       "        vertical-align: top;\n",
       "    }\n",
       "\n",
       "    .dataframe thead th {\n",
       "        text-align: right;\n",
       "    }\n",
       "</style>\n",
       "<table border=\"1\" class=\"dataframe\">\n",
       "  <thead>\n",
       "    <tr style=\"text-align: right;\">\n",
       "      <th></th>\n",
       "      <th>name</th>\n",
       "      <th>date</th>\n",
       "      <th>year</th>\n",
       "      <th>Pilotos</th>\n",
       "      <th>nationality</th>\n",
       "      <th>Montadoras</th>\n",
       "      <th>grid</th>\n",
       "      <th>Posição_Final</th>\n",
       "      <th>time</th>\n",
       "      <th>Seconds</th>\n",
       "    </tr>\n",
       "  </thead>\n",
       "  <tbody>\n",
       "    <tr>\n",
       "      <th>0</th>\n",
       "      <td>Monaco Grand Prix</td>\n",
       "      <td>1968-05-26</td>\n",
       "      <td>1968</td>\n",
       "      <td>Graham Hill</td>\n",
       "      <td>British</td>\n",
       "      <td>Lotus-Ford</td>\n",
       "      <td>1</td>\n",
       "      <td>1</td>\n",
       "      <td>2:00:32.3</td>\n",
       "      <td>7232</td>\n",
       "    </tr>\n",
       "    <tr>\n",
       "      <th>1</th>\n",
       "      <td>Monaco Grand Prix</td>\n",
       "      <td>1966-05-22</td>\n",
       "      <td>1966</td>\n",
       "      <td>Jackie Stewart</td>\n",
       "      <td>British</td>\n",
       "      <td>BRM</td>\n",
       "      <td>3</td>\n",
       "      <td>1</td>\n",
       "      <td>2:33:10.5</td>\n",
       "      <td>9190</td>\n",
       "    </tr>\n",
       "    <tr>\n",
       "      <th>2</th>\n",
       "      <td>Monaco Grand Prix</td>\n",
       "      <td>1967-05-07</td>\n",
       "      <td>1967</td>\n",
       "      <td>Denny Hulme</td>\n",
       "      <td>New Zealander</td>\n",
       "      <td>Brabham-Repco</td>\n",
       "      <td>4</td>\n",
       "      <td>1</td>\n",
       "      <td>2:34:34.3</td>\n",
       "      <td>9274</td>\n",
       "    </tr>\n",
       "    <tr>\n",
       "      <th>3</th>\n",
       "      <td>Monaco Grand Prix</td>\n",
       "      <td>1965-05-30</td>\n",
       "      <td>1965</td>\n",
       "      <td>Graham Hill</td>\n",
       "      <td>British</td>\n",
       "      <td>BRM</td>\n",
       "      <td>1</td>\n",
       "      <td>1</td>\n",
       "      <td>2:37:39.6</td>\n",
       "      <td>9459</td>\n",
       "    </tr>\n",
       "    <tr>\n",
       "      <th>4</th>\n",
       "      <td>Monaco Grand Prix</td>\n",
       "      <td>1964-05-10</td>\n",
       "      <td>1964</td>\n",
       "      <td>Graham Hill</td>\n",
       "      <td>British</td>\n",
       "      <td>BRM</td>\n",
       "      <td>3</td>\n",
       "      <td>1</td>\n",
       "      <td>2:41:19.5</td>\n",
       "      <td>9679</td>\n",
       "    </tr>\n",
       "    <tr>\n",
       "      <th>5</th>\n",
       "      <td>Monaco Grand Prix</td>\n",
       "      <td>1963-05-26</td>\n",
       "      <td>1963</td>\n",
       "      <td>Graham Hill</td>\n",
       "      <td>British</td>\n",
       "      <td>BRM</td>\n",
       "      <td>2</td>\n",
       "      <td>1</td>\n",
       "      <td>2:41:49.7</td>\n",
       "      <td>9709</td>\n",
       "    </tr>\n",
       "    <tr>\n",
       "      <th>6</th>\n",
       "      <td>Monaco Grand Prix</td>\n",
       "      <td>1961-05-14</td>\n",
       "      <td>1961</td>\n",
       "      <td>Stirling Moss</td>\n",
       "      <td>British</td>\n",
       "      <td>Lotus-Climax</td>\n",
       "      <td>1</td>\n",
       "      <td>1</td>\n",
       "      <td>2:45:50.1</td>\n",
       "      <td>9950</td>\n",
       "    </tr>\n",
       "    <tr>\n",
       "      <th>7</th>\n",
       "      <td>Monaco Grand Prix</td>\n",
       "      <td>1962-06-03</td>\n",
       "      <td>1962</td>\n",
       "      <td>Bruce McLaren</td>\n",
       "      <td>New Zealander</td>\n",
       "      <td>Cooper-Climax</td>\n",
       "      <td>3</td>\n",
       "      <td>1</td>\n",
       "      <td>2:46:29.7</td>\n",
       "      <td>9989</td>\n",
       "    </tr>\n",
       "    <tr>\n",
       "      <th>8</th>\n",
       "      <td>Monaco Grand Prix</td>\n",
       "      <td>1958-05-18</td>\n",
       "      <td>1958</td>\n",
       "      <td>Maurice Trintignant</td>\n",
       "      <td>French</td>\n",
       "      <td>Cooper</td>\n",
       "      <td>5</td>\n",
       "      <td>1</td>\n",
       "      <td>2:52:27.9</td>\n",
       "      <td>10347</td>\n",
       "    </tr>\n",
       "    <tr>\n",
       "      <th>9</th>\n",
       "      <td>Monaco Grand Prix</td>\n",
       "      <td>1960-05-29</td>\n",
       "      <td>1960</td>\n",
       "      <td>Stirling Moss</td>\n",
       "      <td>British</td>\n",
       "      <td>Team Lotus</td>\n",
       "      <td>1</td>\n",
       "      <td>1</td>\n",
       "      <td>2:53:45.5</td>\n",
       "      <td>10425</td>\n",
       "    </tr>\n",
       "    <tr>\n",
       "      <th>10</th>\n",
       "      <td>Monaco Grand Prix</td>\n",
       "      <td>1959-05-10</td>\n",
       "      <td>1959</td>\n",
       "      <td>Jack Brabham</td>\n",
       "      <td>Australian</td>\n",
       "      <td>Cooper-Climax</td>\n",
       "      <td>3</td>\n",
       "      <td>1</td>\n",
       "      <td>2:55:51.3</td>\n",
       "      <td>10551</td>\n",
       "    </tr>\n",
       "    <tr>\n",
       "      <th>11</th>\n",
       "      <td>Monaco Grand Prix</td>\n",
       "      <td>1955-05-22</td>\n",
       "      <td>1955</td>\n",
       "      <td>Maurice Trintignant</td>\n",
       "      <td>French</td>\n",
       "      <td>Ferrari</td>\n",
       "      <td>9</td>\n",
       "      <td>1</td>\n",
       "      <td>2:58:09.8</td>\n",
       "      <td>10689</td>\n",
       "    </tr>\n",
       "    <tr>\n",
       "      <th>12</th>\n",
       "      <td>Monaco Grand Prix</td>\n",
       "      <td>1956-05-13</td>\n",
       "      <td>1956</td>\n",
       "      <td>Stirling Moss</td>\n",
       "      <td>British</td>\n",
       "      <td>Maserati</td>\n",
       "      <td>2</td>\n",
       "      <td>1</td>\n",
       "      <td>3:00:32.9</td>\n",
       "      <td>10832</td>\n",
       "    </tr>\n",
       "    <tr>\n",
       "      <th>13</th>\n",
       "      <td>Monaco Grand Prix</td>\n",
       "      <td>1957-05-19</td>\n",
       "      <td>1957</td>\n",
       "      <td>Juan Fangio</td>\n",
       "      <td>Argentine</td>\n",
       "      <td>Maserati</td>\n",
       "      <td>1</td>\n",
       "      <td>1</td>\n",
       "      <td>3:10:12.8</td>\n",
       "      <td>11412</td>\n",
       "    </tr>\n",
       "    <tr>\n",
       "      <th>14</th>\n",
       "      <td>Monaco Grand Prix</td>\n",
       "      <td>1950-05-21</td>\n",
       "      <td>1950</td>\n",
       "      <td>Juan Fangio</td>\n",
       "      <td>Argentine</td>\n",
       "      <td>Alfa Romeo</td>\n",
       "      <td>1</td>\n",
       "      <td>1</td>\n",
       "      <td>3:13:18.7</td>\n",
       "      <td>11598</td>\n",
       "    </tr>\n",
       "  </tbody>\n",
       "</table>\n",
       "</div>"
      ],
      "text/plain": [
       "                 name        date  year              Pilotos    nationality  \\\n",
       "0   Monaco Grand Prix  1968-05-26  1968          Graham Hill        British   \n",
       "1   Monaco Grand Prix  1966-05-22  1966       Jackie Stewart        British   \n",
       "2   Monaco Grand Prix  1967-05-07  1967          Denny Hulme  New Zealander   \n",
       "3   Monaco Grand Prix  1965-05-30  1965          Graham Hill        British   \n",
       "4   Monaco Grand Prix  1964-05-10  1964          Graham Hill        British   \n",
       "5   Monaco Grand Prix  1963-05-26  1963          Graham Hill        British   \n",
       "6   Monaco Grand Prix  1961-05-14  1961        Stirling Moss        British   \n",
       "7   Monaco Grand Prix  1962-06-03  1962        Bruce McLaren  New Zealander   \n",
       "8   Monaco Grand Prix  1958-05-18  1958  Maurice Trintignant         French   \n",
       "9   Monaco Grand Prix  1960-05-29  1960        Stirling Moss        British   \n",
       "10  Monaco Grand Prix  1959-05-10  1959         Jack Brabham     Australian   \n",
       "11  Monaco Grand Prix  1955-05-22  1955  Maurice Trintignant         French   \n",
       "12  Monaco Grand Prix  1956-05-13  1956        Stirling Moss        British   \n",
       "13  Monaco Grand Prix  1957-05-19  1957          Juan Fangio      Argentine   \n",
       "14  Monaco Grand Prix  1950-05-21  1950          Juan Fangio      Argentine   \n",
       "\n",
       "       Montadoras  grid  Posição_Final       time  Seconds  \n",
       "0      Lotus-Ford     1              1  2:00:32.3     7232  \n",
       "1             BRM     3              1  2:33:10.5     9190  \n",
       "2   Brabham-Repco     4              1  2:34:34.3     9274  \n",
       "3             BRM     1              1  2:37:39.6     9459  \n",
       "4             BRM     3              1  2:41:19.5     9679  \n",
       "5             BRM     2              1  2:41:49.7     9709  \n",
       "6    Lotus-Climax     1              1  2:45:50.1     9950  \n",
       "7   Cooper-Climax     3              1  2:46:29.7     9989  \n",
       "8          Cooper     5              1  2:52:27.9    10347  \n",
       "9      Team Lotus     1              1  2:53:45.5    10425  \n",
       "10  Cooper-Climax     3              1  2:55:51.3    10551  \n",
       "11        Ferrari     9              1  2:58:09.8    10689  \n",
       "12       Maserati     2              1  3:00:32.9    10832  \n",
       "13       Maserati     1              1  3:10:12.8    11412  \n",
       "14     Alfa Romeo     1              1  3:13:18.7    11598  "
      ]
     },
     "execution_count": 29,
     "metadata": {},
     "output_type": "execute_result"
    }
   ],
   "source": [
    "Monaco_1 = formula_1[formula_1.circuitId == 6]\n",
    "Monaco_1 = Monaco_1[Monaco_1.year <= 1968]\n",
    "Monaco_1 = Monaco_1.sort_values(by=\"time\")\n",
    "Monaco_1 = Monaco_1.drop([\"raceId\",\"round\",\"driverId\",\"circuitId\",\n",
    "                          \"code\",\"constructorId\",\"fastestLapTime\",\"fastestLapSpeed\"], axis=1)\n",
    "Monaco_1 = Monaco_1.reset_index(drop=True)\n",
    "\n",
    "#Transformando tempo em str para segundos.\n",
    "Monaco_1_time = Monaco_1[\"time\"]\n",
    "Monaco_1_dt = pd.to_datetime(Monaco_1_time, format='%H:%M:%S.%f', errors='ignore')\n",
    "Monaco_1_seconds = (Monaco_1_dt.dt.hour*60+Monaco_1_dt.dt.minute)*60 + Monaco_1_dt.dt.second\n",
    "Monaco_1[\"Seconds\"] = Monaco_1_seconds\n",
    "Monaco_1"
   ]
  },
  {
   "cell_type": "code",
   "execution_count": 30,
   "metadata": {},
   "outputs": [
    {
     "data": {
      "text/plain": [
       "([0, 1, 2, 3, 4, 5, 6, 7, 8, 9, 10, 11, 12, 13, 14],\n",
       " <a list of 15 Text xticklabel objects>)"
      ]
     },
     "execution_count": 30,
     "metadata": {},
     "output_type": "execute_result"
    },
    {
     "data": {
      "image/png": "[encoded data removed]",
      "text/plain": [
       "<Figure size 432x288 with 1 Axes>"
      ]
     },
     "metadata": {
      "needs_background": "light"
     },
     "output_type": "display_data"
    }
   ],
   "source": [
    "sns.lineplot(data=Monaco_1, x=\"date\", y=\"Seconds\", marker=\"o\")\n",
    "plt.xticks(rotation=90)"
   ]
  },
  {
   "cell_type": "markdown",
   "metadata": {},
   "source": [
    "## Monaco (2005-2019)"
   ]
  },
  {
   "cell_type": "code",
   "execution_count": 31,
   "metadata": {
    "scrolled": false
   },
   "outputs": [
    {
     "data": {
      "text/html": [
       "<div>\n",
       "<style scoped>\n",
       "    .dataframe tbody tr th:only-of-type {\n",
       "        vertical-align: middle;\n",
       "    }\n",
       "\n",
       "    .dataframe tbody tr th {\n",
       "        vertical-align: top;\n",
       "    }\n",
       "\n",
       "    .dataframe thead th {\n",
       "        text-align: right;\n",
       "    }\n",
       "</style>\n",
       "<table border=\"1\" class=\"dataframe\">\n",
       "  <thead>\n",
       "    <tr style=\"text-align: right;\">\n",
       "      <th></th>\n",
       "      <th>name</th>\n",
       "      <th>date</th>\n",
       "      <th>year</th>\n",
       "      <th>Pilotos</th>\n",
       "      <th>code</th>\n",
       "      <th>nationality</th>\n",
       "      <th>Montadoras</th>\n",
       "      <th>grid</th>\n",
       "      <th>Posição_Final</th>\n",
       "      <th>time</th>\n",
       "      <th>Seconds</th>\n",
       "    </tr>\n",
       "  </thead>\n",
       "  <tbody>\n",
       "    <tr>\n",
       "      <th>0</th>\n",
       "      <td>Monaco Grand Prix</td>\n",
       "      <td>2007-05-27</td>\n",
       "      <td>2007</td>\n",
       "      <td>Fernando Alonso</td>\n",
       "      <td>ALO</td>\n",
       "      <td>Spanish</td>\n",
       "      <td>McLaren</td>\n",
       "      <td>1</td>\n",
       "      <td>1</td>\n",
       "      <td>1:40:29.329</td>\n",
       "      <td>6029</td>\n",
       "    </tr>\n",
       "    <tr>\n",
       "      <th>1</th>\n",
       "      <td>Monaco Grand Prix</td>\n",
       "      <td>2009-05-24</td>\n",
       "      <td>2009</td>\n",
       "      <td>Jenson Button</td>\n",
       "      <td>BUT</td>\n",
       "      <td>British</td>\n",
       "      <td>Brawn</td>\n",
       "      <td>1</td>\n",
       "      <td>1</td>\n",
       "      <td>1:40:44.282</td>\n",
       "      <td>6044</td>\n",
       "    </tr>\n",
       "    <tr>\n",
       "      <th>2</th>\n",
       "      <td>Monaco Grand Prix</td>\n",
       "      <td>2018-05-27</td>\n",
       "      <td>2018</td>\n",
       "      <td>Daniel Ricciardo</td>\n",
       "      <td>RIC</td>\n",
       "      <td>Australian</td>\n",
       "      <td>Red Bull</td>\n",
       "      <td>1</td>\n",
       "      <td>1</td>\n",
       "      <td>1:42:54.807</td>\n",
       "      <td>6174</td>\n",
       "    </tr>\n",
       "    <tr>\n",
       "      <th>3</th>\n",
       "      <td>Monaco Grand Prix</td>\n",
       "      <td>2019-05-26</td>\n",
       "      <td>2019</td>\n",
       "      <td>Lewis Hamilton</td>\n",
       "      <td>HAM</td>\n",
       "      <td>British</td>\n",
       "      <td>Mercedes</td>\n",
       "      <td>1</td>\n",
       "      <td>1</td>\n",
       "      <td>1:43:28.437</td>\n",
       "      <td>6208</td>\n",
       "    </tr>\n",
       "    <tr>\n",
       "      <th>4</th>\n",
       "      <td>Monaco Grand Prix</td>\n",
       "      <td>2006-05-28</td>\n",
       "      <td>2006</td>\n",
       "      <td>Fernando Alonso</td>\n",
       "      <td>ALO</td>\n",
       "      <td>Spanish</td>\n",
       "      <td>Renault</td>\n",
       "      <td>1</td>\n",
       "      <td>1</td>\n",
       "      <td>1:43:43.116</td>\n",
       "      <td>6223</td>\n",
       "    </tr>\n",
       "    <tr>\n",
       "      <th>5</th>\n",
       "      <td>Monaco Grand Prix</td>\n",
       "      <td>2017-05-28</td>\n",
       "      <td>2017</td>\n",
       "      <td>Sebastian Vettel</td>\n",
       "      <td>VET</td>\n",
       "      <td>German</td>\n",
       "      <td>Ferrari</td>\n",
       "      <td>2</td>\n",
       "      <td>1</td>\n",
       "      <td>1:44:44.340</td>\n",
       "      <td>6284</td>\n",
       "    </tr>\n",
       "    <tr>\n",
       "      <th>6</th>\n",
       "      <td>Monaco Grand Prix</td>\n",
       "      <td>2005-05-22</td>\n",
       "      <td>2005</td>\n",
       "      <td>Kimi Räikkönen</td>\n",
       "      <td>RAI</td>\n",
       "      <td>Finnish</td>\n",
       "      <td>McLaren</td>\n",
       "      <td>1</td>\n",
       "      <td>1</td>\n",
       "      <td>1:45:15.556</td>\n",
       "      <td>6315</td>\n",
       "    </tr>\n",
       "    <tr>\n",
       "      <th>7</th>\n",
       "      <td>Monaco Grand Prix</td>\n",
       "      <td>2012-05-27</td>\n",
       "      <td>2012</td>\n",
       "      <td>Mark Webber</td>\n",
       "      <td>WEB</td>\n",
       "      <td>Australian</td>\n",
       "      <td>Red Bull</td>\n",
       "      <td>1</td>\n",
       "      <td>1</td>\n",
       "      <td>1:46:06.557</td>\n",
       "      <td>6366</td>\n",
       "    </tr>\n",
       "    <tr>\n",
       "      <th>8</th>\n",
       "      <td>Monaco Grand Prix</td>\n",
       "      <td>2015-05-24</td>\n",
       "      <td>2015</td>\n",
       "      <td>Nico Rosberg</td>\n",
       "      <td>ROS</td>\n",
       "      <td>German</td>\n",
       "      <td>Mercedes</td>\n",
       "      <td>2</td>\n",
       "      <td>1</td>\n",
       "      <td>1:49:18.420</td>\n",
       "      <td>6558</td>\n",
       "    </tr>\n",
       "    <tr>\n",
       "      <th>9</th>\n",
       "      <td>Monaco Grand Prix</td>\n",
       "      <td>2014-05-25</td>\n",
       "      <td>2014</td>\n",
       "      <td>Nico Rosberg</td>\n",
       "      <td>ROS</td>\n",
       "      <td>German</td>\n",
       "      <td>Mercedes</td>\n",
       "      <td>1</td>\n",
       "      <td>1</td>\n",
       "      <td>1:49:27.661</td>\n",
       "      <td>6567</td>\n",
       "    </tr>\n",
       "    <tr>\n",
       "      <th>10</th>\n",
       "      <td>Monaco Grand Prix</td>\n",
       "      <td>2010-05-16</td>\n",
       "      <td>2010</td>\n",
       "      <td>Mark Webber</td>\n",
       "      <td>WEB</td>\n",
       "      <td>Australian</td>\n",
       "      <td>Red Bull</td>\n",
       "      <td>1</td>\n",
       "      <td>1</td>\n",
       "      <td>1:50:13.355</td>\n",
       "      <td>6613</td>\n",
       "    </tr>\n",
       "    <tr>\n",
       "      <th>11</th>\n",
       "      <td>Monaco Grand Prix</td>\n",
       "      <td>2016-05-29</td>\n",
       "      <td>2016</td>\n",
       "      <td>Lewis Hamilton</td>\n",
       "      <td>HAM</td>\n",
       "      <td>British</td>\n",
       "      <td>Mercedes</td>\n",
       "      <td>3</td>\n",
       "      <td>1</td>\n",
       "      <td>1:59:29.133</td>\n",
       "      <td>7169</td>\n",
       "    </tr>\n",
       "    <tr>\n",
       "      <th>12</th>\n",
       "      <td>Monaco Grand Prix</td>\n",
       "      <td>2008-05-25</td>\n",
       "      <td>2008</td>\n",
       "      <td>Lewis Hamilton</td>\n",
       "      <td>HAM</td>\n",
       "      <td>British</td>\n",
       "      <td>McLaren</td>\n",
       "      <td>3</td>\n",
       "      <td>1</td>\n",
       "      <td>2:00:42.742</td>\n",
       "      <td>7242</td>\n",
       "    </tr>\n",
       "    <tr>\n",
       "      <th>13</th>\n",
       "      <td>Monaco Grand Prix</td>\n",
       "      <td>2011-05-29</td>\n",
       "      <td>2011</td>\n",
       "      <td>Sebastian Vettel</td>\n",
       "      <td>VET</td>\n",
       "      <td>German</td>\n",
       "      <td>Red Bull</td>\n",
       "      <td>1</td>\n",
       "      <td>1</td>\n",
       "      <td>2:09:38.373</td>\n",
       "      <td>7778</td>\n",
       "    </tr>\n",
       "    <tr>\n",
       "      <th>14</th>\n",
       "      <td>Monaco Grand Prix</td>\n",
       "      <td>2013-05-26</td>\n",
       "      <td>2013</td>\n",
       "      <td>Nico Rosberg</td>\n",
       "      <td>ROS</td>\n",
       "      <td>German</td>\n",
       "      <td>Mercedes</td>\n",
       "      <td>1</td>\n",
       "      <td>1</td>\n",
       "      <td>2:17:52.056</td>\n",
       "      <td>8272</td>\n",
       "    </tr>\n",
       "  </tbody>\n",
       "</table>\n",
       "</div>"
      ],
      "text/plain": [
       "                 name        date  year           Pilotos code nationality  \\\n",
       "0   Monaco Grand Prix  2007-05-27  2007   Fernando Alonso  ALO     Spanish   \n",
       "1   Monaco Grand Prix  2009-05-24  2009     Jenson Button  BUT     British   \n",
       "2   Monaco Grand Prix  2018-05-27  2018  Daniel Ricciardo  RIC  Australian   \n",
       "3   Monaco Grand Prix  2019-05-26  2019    Lewis Hamilton  HAM     British   \n",
       "4   Monaco Grand Prix  2006-05-28  2006   Fernando Alonso  ALO     Spanish   \n",
       "5   Monaco Grand Prix  2017-05-28  2017  Sebastian Vettel  VET      German   \n",
       "6   Monaco Grand Prix  2005-05-22  2005    Kimi Räikkönen  RAI     Finnish   \n",
       "7   Monaco Grand Prix  2012-05-27  2012       Mark Webber  WEB  Australian   \n",
       "8   Monaco Grand Prix  2015-05-24  2015      Nico Rosberg  ROS      German   \n",
       "9   Monaco Grand Prix  2014-05-25  2014      Nico Rosberg  ROS      German   \n",
       "10  Monaco Grand Prix  2010-05-16  2010       Mark Webber  WEB  Australian   \n",
       "11  Monaco Grand Prix  2016-05-29  2016    Lewis Hamilton  HAM     British   \n",
       "12  Monaco Grand Prix  2008-05-25  2008    Lewis Hamilton  HAM     British   \n",
       "13  Monaco Grand Prix  2011-05-29  2011  Sebastian Vettel  VET      German   \n",
       "14  Monaco Grand Prix  2013-05-26  2013      Nico Rosberg  ROS      German   \n",
       "\n",
       "   Montadoras  grid  Posição_Final         time  Seconds  \n",
       "0     McLaren     1              1  1:40:29.329     6029  \n",
       "1       Brawn     1              1  1:40:44.282     6044  \n",
       "2    Red Bull     1              1  1:42:54.807     6174  \n",
       "3    Mercedes     1              1  1:43:28.437     6208  \n",
       "4     Renault     1              1  1:43:43.116     6223  \n",
       "5     Ferrari     2              1  1:44:44.340     6284  \n",
       "6     McLaren     1              1  1:45:15.556     6315  \n",
       "7    Red Bull     1              1  1:46:06.557     6366  \n",
       "8    Mercedes     2              1  1:49:18.420     6558  \n",
       "9    Mercedes     1              1  1:49:27.661     6567  \n",
       "10   Red Bull     1              1  1:50:13.355     6613  \n",
       "11   Mercedes     3              1  1:59:29.133     7169  \n",
       "12    McLaren     3              1  2:00:42.742     7242  \n",
       "13   Red Bull     1              1  2:09:38.373     7778  \n",
       "14   Mercedes     1              1  2:17:52.056     8272  "
      ]
     },
     "execution_count": 31,
     "metadata": {},
     "output_type": "execute_result"
    }
   ],
   "source": [
    "Monaco_2 = formula_1[formula_1.circuitId == 6]\n",
    "Monaco_2 = Monaco_2[Monaco_2.year >= 2005]\n",
    "Monaco_2 = Monaco_2.sort_values(by=\"time\")\n",
    "Monaco_2 = Monaco_2.drop([\"raceId\",\"round\",\"driverId\",\"circuitId\",\"constructorId\",\"fastestLapSpeed\",\"fastestLapTime\"], axis=1)\n",
    "Monaco_2 = Monaco_2.reset_index(drop=True)\n",
    "\n",
    "Monaco_2_time = Monaco_2[\"time\"]\n",
    "Monaco_2_dt = pd.to_datetime(Monaco_2_time, format='%H:%M:%S.%f', errors='ignore')\n",
    "Monaco_2_seconds = (Monaco_2_dt.dt.hour*60+Monaco_2_dt.dt.minute)*60 + Monaco_2_dt.dt.second\n",
    "Monaco_2[\"Seconds\"] = Monaco_2_seconds\n",
    "Monaco_2"
   ]
  },
  {
   "cell_type": "code",
   "execution_count": 32,
   "metadata": {},
   "outputs": [
    {
     "data": {
      "text/plain": [
       "<matplotlib.axes._subplots.AxesSubplot at 0x1b571f41d48>"
      ]
     },
     "execution_count": 32,
     "metadata": {},
     "output_type": "execute_result"
    },
    {
     "data": {
      "image/png": "[encoded data removed]",
      "text/plain": [
       "<Figure size 432x288 with 1 Axes>"
      ]
     },
     "metadata": {
      "needs_background": "light"
     },
     "output_type": "display_data"
    }
   ],
   "source": [
    "sns.lineplot(data=Monaco_2, x=\"year\", y=\"Seconds\", marker=\"o\")"
   ]
  },
  {
   "cell_type": "code",
   "execution_count": null,
   "metadata": {},
   "outputs": [],
   "source": []
  },
  {
   "cell_type": "markdown",
   "metadata": {},
   "source": [
    "# Comparação Velocidades"
   ]
  },
  {
   "cell_type": "code",
   "execution_count": null,
   "metadata": {},
   "outputs": [],
   "source": [
    "from scipy.stats import zscore"
   ]
  },
  {
   "cell_type": "code",
   "execution_count": null,
   "metadata": {},
   "outputs": [],
   "source": [
    "z_score_1 = zscore(Monaco_1[\"Seconds\"])\n",
    "z_score_1"
   ]
  },
  {
   "cell_type": "code",
   "execution_count": null,
   "metadata": {},
   "outputs": [],
   "source": [
    "z_score_2 = zscore(Monaco_2[\"Seconds\"])\n",
    "z_score_2"
   ]
  },
  {
   "cell_type": "code",
   "execution_count": null,
   "metadata": {},
   "outputs": [],
   "source": []
  },
  {
   "cell_type": "code",
   "execution_count": 33,
   "metadata": {},
   "outputs": [
    {
     "data": {
      "text/html": [
       "<div>\n",
       "<style scoped>\n",
       "    .dataframe tbody tr th:only-of-type {\n",
       "        vertical-align: middle;\n",
       "    }\n",
       "\n",
       "    .dataframe tbody tr th {\n",
       "        vertical-align: top;\n",
       "    }\n",
       "\n",
       "    .dataframe thead th {\n",
       "        text-align: right;\n",
       "    }\n",
       "</style>\n",
       "<table border=\"1\" class=\"dataframe\">\n",
       "  <thead>\n",
       "    <tr style=\"text-align: right;\">\n",
       "      <th></th>\n",
       "      <th>Monaco_1</th>\n",
       "      <th>Monaco_2</th>\n",
       "    </tr>\n",
       "  </thead>\n",
       "  <tbody>\n",
       "    <tr>\n",
       "      <th>Média</th>\n",
       "      <td>10022.40</td>\n",
       "      <td>6656.13</td>\n",
       "    </tr>\n",
       "    <tr>\n",
       "      <th>Desvio Padrão</th>\n",
       "      <td>1056.93</td>\n",
       "      <td>666.72</td>\n",
       "    </tr>\n",
       "    <tr>\n",
       "      <th>Fastest Pilot</th>\n",
       "      <td>7232.00</td>\n",
       "      <td>6029.00</td>\n",
       "    </tr>\n",
       "  </tbody>\n",
       "</table>\n",
       "</div>"
      ],
      "text/plain": [
       "               Monaco_1  Monaco_2\n",
       "Média          10022.40   6656.13\n",
       "Desvio Padrão   1056.93    666.72\n",
       "Fastest Pilot   7232.00   6029.00"
      ]
     },
     "execution_count": 33,
     "metadata": {},
     "output_type": "execute_result"
    }
   ],
   "source": [
    "Monaco_a = {\"Média\": Monaco_1[\"Seconds\"].mean(),\n",
    "                  \"Desvio Padrão\": Monaco_1[\"Seconds\"].std(),\n",
    "                       \"Fastest Pilot\": Monaco_1[\"Seconds\"][0]}\n",
    "\n",
    "Monaco_b = {\"Média\": Monaco_2[\"Seconds\"].mean(),\n",
    "                  \"Desvio Padrão\": Monaco_2[\"Seconds\"].std(),\n",
    "                       \"Fastest Pilot\": Monaco_2[\"Seconds\"][0]}\n",
    "\n",
    "medidas_a = pd.Series(Monaco_a)\n",
    "medidas_b = pd.Series(Monaco_b)\n",
    "\n",
    "d_ab_medidas = pd.DataFrame({\"Monaco_1\": medidas_a, \"Monaco_2\": medidas_b})\n",
    "d_ab_medidas"
   ]
  },
  {
   "cell_type": "code",
   "execution_count": null,
   "metadata": {},
   "outputs": [],
   "source": [
    "import scipy.stats as stats\n",
    "import math\n",
    "x_values = [6851.7,7908.6,8965.5,10022.4,11079.3,12136.2,13193.4]\n",
    "\n",
    "mu = d_ab_medidas[\"Monaco_1\"][0]\n",
    "variance = d_ab_medidas[\"Monaco_1\"][1]\n",
    "sigma = math.sqrt(variance)\n",
    "x = np.linspace(mu - 3*sigma, mu + 3*sigma, 100)\n",
    "plt.plot(x, stats.norm.pdf(x, mu, sigma))\n",
    "plt.xticks(x_values)\n",
    "plt.show()"
   ]
  },
  {
   "cell_type": "code",
   "execution_count": null,
   "metadata": {},
   "outputs": [],
   "source": [
    "value = np.random.normal(loc=10022.4,scale=1000,size=1000)\n",
    "sns.distplot(value)"
   ]
  },
  {
   "cell_type": "code",
   "execution_count": null,
   "metadata": {},
   "outputs": [],
   "source": [
    "mu = d_ab_medidas[\"Monaco_2\"][0]\n",
    "variance = d_ab_medidas[\"Monaco_2\"][1]\n",
    "sigma = math.sqrt(variance)\n",
    "x = np.linspace(mu - 3*sigma, mu + 3*sigma, 100)\n",
    "plt.plot(x, stats.norm.pdf(x, mu, sigma))\n",
    "plt.show()"
   ]
  },
  {
   "cell_type": "code",
   "execution_count": null,
   "metadata": {},
   "outputs": [],
   "source": [
    "Monaco_a = {\"Piloto\": Monaco_1[\"Pilotos\"][0],\n",
    "                  \"Tempo\": Monaco_1[\"time\"][0],\n",
    "                       \"Z-Score\": Monaco_1[\"Seconds\"][0]}\n",
    "\n",
    "Monaco_b = {\"Piloto\": Monaco_2[\"Pilotos\"][0],\n",
    "                  \"Tempo\": Monaco_2[\"time\"][0],\n",
    "                       \"Z-Score\": Monaco_2[\"Seconds\"][0]}\n",
    "\n",
    "medidas_a = pd.Series(Monaco_a)\n",
    "medidas_b = pd.Series(Monaco_b)\n",
    "\n",
    "battle_a_b = pd.DataFrame({\"Monaco_1\": medidas_a, \"Monaco_2\": medidas_b})\n",
    "battle_a_b"
   ]
  },
  {
   "cell_type": "code",
   "execution_count": null,
   "metadata": {},
   "outputs": [],
   "source": []
  },
  {
   "cell_type": "markdown",
   "metadata": {},
   "source": [
    "# Dados Monza (1950-1964) e (2006-2020)"
   ]
  },
  {
   "cell_type": "markdown",
   "metadata": {},
   "source": [
    "## Monza (1950-1964)"
   ]
  },
  {
   "cell_type": "code",
   "execution_count": null,
   "metadata": {},
   "outputs": [],
   "source": [
    "Monza_1 = formula_1[formula_1.circuitId == 14]\n",
    "Monza_1 = Monza_1[Monza_1.year <= 1964]\n",
    "Monza_1 = Monza_1.sort_values(by=\"date\")\n",
    "Monza_1 = Monza_1.drop([\"raceId\",\"round\",\"driverId\",\"circuitId\",\n",
    "                          \"code\",\"constructorId\",\"fastestLapTime\",\"fastestLapSpeed\"], axis=1)\n",
    "Monza_1 = Monza_1.reset_index(drop=True)\n",
    "\n",
    "#Transformando tempo em str para segundos.\n",
    "Monza_1_time = Monza_1[\"time\"]\n",
    "Monza_1_dt = pd.to_datetime(Monza_1_time, format='%H:%M:%S.%f', errors='ignore')\n",
    "Monza_1_seconds = (Monza_1_dt.dt.hour*60+Monza_1_dt.dt.minute)*60 + Monza_1_dt.dt.second\n",
    "Monza_1[\"Seconds\"] = Monza_1_seconds\n",
    "Monza_1"
   ]
  },
  {
   "cell_type": "markdown",
   "metadata": {},
   "source": [
    "## Monza (2006-2020)"
   ]
  },
  {
   "cell_type": "code",
   "execution_count": null,
   "metadata": {},
   "outputs": [],
   "source": [
    "Monza_2 = formula_1[formula_1.circuitId == 14]\n",
    "Monza_2 = Monza_2[Monza_2.year >= 2006]\n",
    "Monza_2 = Monza_2.sort_values(by=\"date\")\n",
    "Monza_2 = Monza_2.drop([\"raceId\",\"round\",\"driverId\",\"circuitId\",\"constructorId\",\"fastestLapSpeed\",\"fastestLapTime\"], axis=1)\n",
    "Monza_2 = Monza_2.reset_index(drop=True)\n",
    "\n",
    "Monza_2_time = Monza_2[\"time\"]\n",
    "Monza_2_dt = pd.to_datetime(Monza_2_time, format='%H:%M:%S.%f', errors='ignore')\n",
    "Monza_2_seconds = (Monza_2_dt.dt.hour*60+Monza_2_dt.dt.minute)*60 + Monza_2_dt.dt.second\n",
    "Monza_2[\"Seconds\"] = Monza_2_seconds\n",
    "Monza_2"
   ]
  },
  {
   "cell_type": "code",
   "execution_count": null,
   "metadata": {},
   "outputs": [],
   "source": []
  }
 ],
 "metadata": {
  "kernelspec": {
   "display_name": "Python 3",
   "language": "python",
   "name": "python3"
  },
  "language_info": {
   "codemirror_mode": {
    "name": "ipython",
    "version": 3
   },
   "file_extension": ".py",
   "mimetype": "text/x-python",
   "name": "python",
   "nbconvert_exporter": "python",
   "pygments_lexer": "ipython3",
   "version": "3.7.6"
  }
 },
 "nbformat": 4,
 "nbformat_minor": 4
}
