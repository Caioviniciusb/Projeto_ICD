{
 "cells": [
  {
   "cell_type": "markdown",
   "metadata": {},
   "source": [
    "# Introdução à Ciência de Dados - UFPB \n",
    "#### Professor: Yuri Malheiros\n",
    "## Projeto Final   \n",
    "\n",
    "<img src=\"formula_1.png\" style=\"width:500px;height:125px\"/>\n",
    "\n",
    "### Caio Araújo e William Xavier  \n",
    "\n",
    "\n",
    "Neste projeto analisaremos diversos dados sobre as corridas de Fórmula 1 desde seu início em 1950 até 2020.  \n",
    "Dados como: maiores vencedores, números de acidentes, evolução das velocidades com o passar dos anos, etc."
   ]
  },
  {
   "cell_type": "markdown",
   "metadata": {},
   "source": [
    "## Quais pilotos venceram mais corridas desde 1950 até 2020 ?"
   ]
  },
  {
   "cell_type": "code",
   "execution_count": 1,
   "metadata": {},
   "outputs": [],
   "source": [
    "import numpy as np\n",
    "import pandas as pd \n",
    "import seaborn as sns\n",
    "import matplotlib.pyplot as plt\n",
    "import datetime as dt\n",
    "sns.set_palette('Set2')\n",
    "\n",
    "results = pd.read_csv(\"../../caiov/ICD/projeto_csv/results.csv\")\n",
    "drivers = pd.read_csv(\"../../caiov/ICD/projeto_csv/drivers.csv\")"
   ]
  },
  {
   "cell_type": "code",
   "execution_count": 2,
   "metadata": {},
   "outputs": [
    {
     "data": {
      "text/html": [
       "<div>\n",
       "<style scoped>\n",
       "    .dataframe tbody tr th:only-of-type {\n",
       "        vertical-align: middle;\n",
       "    }\n",
       "\n",
       "    .dataframe tbody tr th {\n",
       "        vertical-align: top;\n",
       "    }\n",
       "\n",
       "    .dataframe thead th {\n",
       "        text-align: right;\n",
       "    }\n",
       "</style>\n",
       "<table border=\"1\" class=\"dataframe\">\n",
       "  <thead>\n",
       "    <tr style=\"text-align: right;\">\n",
       "      <th></th>\n",
       "      <th>Vitórias_P</th>\n",
       "    </tr>\n",
       "    <tr>\n",
       "      <th>Pilotos</th>\n",
       "      <th></th>\n",
       "    </tr>\n",
       "  </thead>\n",
       "  <tbody>\n",
       "    <tr>\n",
       "      <th>Lewis Hamilton</th>\n",
       "      <td>96</td>\n",
       "    </tr>\n",
       "    <tr>\n",
       "      <th>Michael Schumacher</th>\n",
       "      <td>91</td>\n",
       "    </tr>\n",
       "    <tr>\n",
       "      <th>Sebastian Vettel</th>\n",
       "      <td>53</td>\n",
       "    </tr>\n",
       "    <tr>\n",
       "      <th>Alain Prost</th>\n",
       "      <td>51</td>\n",
       "    </tr>\n",
       "    <tr>\n",
       "      <th>Ayrton Senna</th>\n",
       "      <td>41</td>\n",
       "    </tr>\n",
       "    <tr>\n",
       "      <th>Fernando Alonso</th>\n",
       "      <td>32</td>\n",
       "    </tr>\n",
       "    <tr>\n",
       "      <th>Nigel Mansell</th>\n",
       "      <td>31</td>\n",
       "    </tr>\n",
       "    <tr>\n",
       "      <th>Jackie Stewart</th>\n",
       "      <td>27</td>\n",
       "    </tr>\n",
       "    <tr>\n",
       "      <th>Niki Lauda</th>\n",
       "      <td>25</td>\n",
       "    </tr>\n",
       "    <tr>\n",
       "      <th>Jim Clark</th>\n",
       "      <td>25</td>\n",
       "    </tr>\n",
       "    <tr>\n",
       "      <th>Juan Fangio</th>\n",
       "      <td>24</td>\n",
       "    </tr>\n",
       "    <tr>\n",
       "      <th>Nico Rosberg</th>\n",
       "      <td>23</td>\n",
       "    </tr>\n",
       "    <tr>\n",
       "      <th>Nelson Piquet</th>\n",
       "      <td>23</td>\n",
       "    </tr>\n",
       "    <tr>\n",
       "      <th>Damon Hill</th>\n",
       "      <td>22</td>\n",
       "    </tr>\n",
       "    <tr>\n",
       "      <th>Kimi Räikkönen</th>\n",
       "      <td>21</td>\n",
       "    </tr>\n",
       "  </tbody>\n",
       "</table>\n",
       "</div>"
      ],
      "text/plain": [
       "                    Vitórias_P\n",
       "Pilotos                       \n",
       "Lewis Hamilton              96\n",
       "Michael Schumacher          91\n",
       "Sebastian Vettel            53\n",
       "Alain Prost                 51\n",
       "Ayrton Senna                41\n",
       "Fernando Alonso             32\n",
       "Nigel Mansell               31\n",
       "Jackie Stewart              27\n",
       "Niki Lauda                  25\n",
       "Jim Clark                   25\n",
       "Juan Fangio                 24\n",
       "Nico Rosberg                23\n",
       "Nelson Piquet               23\n",
       "Damon Hill                  22\n",
       "Kimi Räikkönen              21"
      ]
     },
     "execution_count": 2,
     "metadata": {},
     "output_type": "execute_result"
    }
   ],
   "source": [
    "results = results.drop([\"statusId\", \"points\", \"positionText\", \"number\", \"position\", \"milliseconds\"], axis=1)\n",
    "results = results.rename(columns={\"positionOrder\":\"Vitórias_P\"})\n",
    "results = results[results.Vitórias_P == 1]\n",
    "\n",
    "drivers = drivers.loc[\"0\":,\"driverId\":\"nationality\"]\n",
    "drivers[\"Pilotos\"] = drivers[\"forename\"] + \" \" + drivers[\"surname\"]\n",
    "drivers = drivers.drop([\"dob\",\"number\",\"forename\",\"surname\"], axis=1)\n",
    "drivers = drivers.reindex(columns=['driverId','driverRef','code','Pilotos','nationality'])\n",
    "\n",
    "drivers_results = pd.merge(drivers,results, on=\"driverId\")\n",
    "\n",
    "drivers_wins = drivers_results.groupby(\"Pilotos\").count()\n",
    "drivers_wins = drivers_wins.sort_values(by=\"Vitórias_P\", ascending=False)[[\"Vitórias_P\"]]\n",
    "d_w_barplot = drivers_wins.iloc[:10]\n",
    "drivers_wins.iloc[:15]"
   ]
  },
  {
   "cell_type": "markdown",
   "metadata": {},
   "source": [
    "<img src=\"hamilton.jpg\" style=\"width:500px;height:350px\"/>"
   ]
  },
  {
   "cell_type": "markdown",
   "metadata": {},
   "source": [
    "Análise: Vemos que Lewis Hamilton após **15 temporadas** na Fórmula 1, e **267 GP's** disputados, alcançou o recorde do grande campeão Michael Schumacher que era de **91 vitórias** em **308 GP's**, que disputou durante **19 temporadas**, estabelecendo o recorde que atualmente é de **96 vitórias**. Ambos possuem **7 títulos** da Fórmula 1."
   ]
  },
  {
   "cell_type": "markdown",
   "metadata": {},
   "source": [
    "## Medidas de Centralidade e Dispersão"
   ]
  },
  {
   "cell_type": "code",
   "execution_count": 3,
   "metadata": {},
   "outputs": [
    {
     "data": {
      "text/html": [
       "<div>\n",
       "<style scoped>\n",
       "    .dataframe tbody tr th:only-of-type {\n",
       "        vertical-align: middle;\n",
       "    }\n",
       "\n",
       "    .dataframe tbody tr th {\n",
       "        vertical-align: top;\n",
       "    }\n",
       "\n",
       "    .dataframe thead th {\n",
       "        text-align: right;\n",
       "    }\n",
       "</style>\n",
       "<table border=\"1\" class=\"dataframe\">\n",
       "  <thead>\n",
       "    <tr style=\"text-align: right;\">\n",
       "      <th></th>\n",
       "      <th>Vitórias_P</th>\n",
       "    </tr>\n",
       "  </thead>\n",
       "  <tbody>\n",
       "    <tr>\n",
       "      <th>Média</th>\n",
       "      <td>9.445455</td>\n",
       "    </tr>\n",
       "    <tr>\n",
       "      <th>Mediana</th>\n",
       "      <td>4.000000</td>\n",
       "    </tr>\n",
       "    <tr>\n",
       "      <th>Desvio Padrão</th>\n",
       "      <td>15.269798</td>\n",
       "    </tr>\n",
       "  </tbody>\n",
       "</table>\n",
       "</div>"
      ],
      "text/plain": [
       "               Vitórias_P\n",
       "Média            9.445455\n",
       "Mediana          4.000000\n",
       "Desvio Padrão   15.269798"
      ]
     },
     "execution_count": 3,
     "metadata": {},
     "output_type": "execute_result"
    }
   ],
   "source": [
    "Medidas_P = {\"Média\": drivers_wins[\"Vitórias_P\"].mean(),\n",
    "                  \"Mediana\": drivers_wins[\"Vitórias_P\"].median(),\n",
    "                  \"Desvio Padrão\": drivers_wins[\"Vitórias_P\"].std()}\n",
    "medidas_p = pd.Series(Medidas_P)\n",
    "\n",
    "d_w_medidas = pd.DataFrame({\"Vitórias_P\": medidas_p})\n",
    "d_w_medidas"
   ]
  },
  {
   "cell_type": "markdown",
   "metadata": {},
   "source": [
    "Análise: A **média** encontrada a partir desses valores não condiz muito com os dados que vemos em nosso **top 15**, pois há vários\n",
    "    pilotos que venceram um GP, mas não seguiram vencendo, fazendo com que a média baixe, é por isso que temos um **desvio padrão** tão elevado."
   ]
  },
  {
   "cell_type": "markdown",
   "metadata": {},
   "source": [
    "## Boxplot"
   ]
  },
  {
   "cell_type": "code",
   "execution_count": 4,
   "metadata": {},
   "outputs": [
    {
     "data": {
      "text/plain": [
       "<matplotlib.axes._subplots.AxesSubplot at 0x212531b3d88>"
      ]
     },
     "execution_count": 4,
     "metadata": {},
     "output_type": "execute_result"
    },
    {
     "data": {
      "image/png": "[encoded data removed]",
      "text/plain": [
       "<Figure size 432x288 with 1 Axes>"
      ]
     },
     "metadata": {
      "needs_background": "light"
     },
     "output_type": "display_data"
    }
   ],
   "source": [
    "drivers_wins.boxplot(column=\"Vitórias_P\")"
   ]
  },
  {
   "cell_type": "markdown",
   "metadata": {},
   "source": [
    "## Gráfico de Barra"
   ]
  },
  {
   "cell_type": "code",
   "execution_count": 5,
   "metadata": {},
   "outputs": [
    {
     "data": {
      "text/plain": [
       "Text(0.5, 1.0, 'Top 10 Pilotos Vencedores')"
      ]
     },
     "execution_count": 5,
     "metadata": {},
     "output_type": "execute_result"
    },
    {
     "data": {
      "image/png": "[encoded data removed]",
      "text/plain": [
       "<Figure size 432x288 with 1 Axes>"
      ]
     },
     "metadata": {
      "needs_background": "light"
     },
     "output_type": "display_data"
    }
   ],
   "source": [
    "d_w_barplot = d_w_barplot.reset_index()\n",
    "sns.barplot(data=d_w_barplot, x=\"Pilotos\", y=\"Vitórias_P\")\n",
    "plt.xticks(rotation=60)\n",
    "plt.title(\"Top 10 Pilotos Vencedores\")"
   ]
  },
  {
   "cell_type": "code",
   "execution_count": null,
   "metadata": {},
   "outputs": [],
   "source": []
  },
  {
   "cell_type": "markdown",
   "metadata": {},
   "source": [
    "## Quais montadoras/equipes venceram mais corridas ?"
   ]
  },
  {
   "cell_type": "code",
   "execution_count": 6,
   "metadata": {},
   "outputs": [],
   "source": [
    "teams = pd.read_csv(\"../../caiov/ICD/projeto_csv/constructors.csv\")"
   ]
  },
  {
   "cell_type": "code",
   "execution_count": 7,
   "metadata": {},
   "outputs": [
    {
     "data": {
      "text/html": [
       "<div>\n",
       "<style scoped>\n",
       "    .dataframe tbody tr th:only-of-type {\n",
       "        vertical-align: middle;\n",
       "    }\n",
       "\n",
       "    .dataframe tbody tr th {\n",
       "        vertical-align: top;\n",
       "    }\n",
       "\n",
       "    .dataframe thead th {\n",
       "        text-align: right;\n",
       "    }\n",
       "</style>\n",
       "<table border=\"1\" class=\"dataframe\">\n",
       "  <thead>\n",
       "    <tr style=\"text-align: right;\">\n",
       "      <th></th>\n",
       "      <th>Vitórias_E</th>\n",
       "    </tr>\n",
       "    <tr>\n",
       "      <th>Equipes</th>\n",
       "      <th></th>\n",
       "    </tr>\n",
       "  </thead>\n",
       "  <tbody>\n",
       "    <tr>\n",
       "      <th>Ferrari</th>\n",
       "      <td>239</td>\n",
       "    </tr>\n",
       "    <tr>\n",
       "      <th>McLaren</th>\n",
       "      <td>178</td>\n",
       "    </tr>\n",
       "    <tr>\n",
       "      <th>Mercedes</th>\n",
       "      <td>116</td>\n",
       "    </tr>\n",
       "    <tr>\n",
       "      <th>Williams</th>\n",
       "      <td>114</td>\n",
       "    </tr>\n",
       "    <tr>\n",
       "      <th>Red Bull</th>\n",
       "      <td>64</td>\n",
       "    </tr>\n",
       "    <tr>\n",
       "      <th>Team Lotus</th>\n",
       "      <td>45</td>\n",
       "    </tr>\n",
       "    <tr>\n",
       "      <th>Renault</th>\n",
       "      <td>35</td>\n",
       "    </tr>\n",
       "    <tr>\n",
       "      <th>Benetton</th>\n",
       "      <td>27</td>\n",
       "    </tr>\n",
       "    <tr>\n",
       "      <th>Brabham</th>\n",
       "      <td>23</td>\n",
       "    </tr>\n",
       "    <tr>\n",
       "      <th>Tyrrell</th>\n",
       "      <td>23</td>\n",
       "    </tr>\n",
       "    <tr>\n",
       "      <th>Lotus-Climax</th>\n",
       "      <td>22</td>\n",
       "    </tr>\n",
       "    <tr>\n",
       "      <th>BRM</th>\n",
       "      <td>17</td>\n",
       "    </tr>\n",
       "    <tr>\n",
       "      <th>Cooper-Climax</th>\n",
       "      <td>12</td>\n",
       "    </tr>\n",
       "    <tr>\n",
       "      <th>Alfa Romeo</th>\n",
       "      <td>11</td>\n",
       "    </tr>\n",
       "    <tr>\n",
       "      <th>Lotus-Ford</th>\n",
       "      <td>11</td>\n",
       "    </tr>\n",
       "  </tbody>\n",
       "</table>\n",
       "</div>"
      ],
      "text/plain": [
       "               Vitórias_E\n",
       "Equipes                  \n",
       "Ferrari               239\n",
       "McLaren               178\n",
       "Mercedes              116\n",
       "Williams              114\n",
       "Red Bull               64\n",
       "Team Lotus             45\n",
       "Renault                35\n",
       "Benetton               27\n",
       "Brabham                23\n",
       "Tyrrell                23\n",
       "Lotus-Climax           22\n",
       "BRM                    17\n",
       "Cooper-Climax          12\n",
       "Alfa Romeo             11\n",
       "Lotus-Ford             11"
      ]
     },
     "execution_count": 7,
     "metadata": {},
     "output_type": "execute_result"
    }
   ],
   "source": [
    "teams_results = pd.merge(teams,results, on=\"constructorId\")\n",
    "teams_results = teams_results.drop([\"constructorRef\",\"url\"], axis=1)\n",
    "\n",
    "teams_results = teams_results.rename(columns={\"name\":\"Equipes\"})\n",
    "teams_results = teams_results.rename(columns={\"constructorId\":\"Vitórias_E\"})\n",
    "\n",
    "teams_wins = teams_results.groupby(\"Equipes\").count()\n",
    "teams_wins = teams_wins.sort_values(by=\"Vitórias_E\", ascending=False)[[\"Vitórias_E\"]]\n",
    "t_w_barplot = teams_wins.iloc[:10]\n",
    "teams_wins.iloc[:15]"
   ]
  },
  {
   "cell_type": "markdown",
   "metadata": {},
   "source": [
    "<img src=\"ferrari.jpg\" style=\"width:450px;height:325px\"/>"
   ]
  },
  {
   "cell_type": "markdown",
   "metadata": {},
   "source": [
    "Análise: Aqui vemos a hegemonia no quesito mais vitórias da Ferrari, fundada em 1939 por **Enzo Ferrari**, a equipe **Scuderia Ferrari**\n",
    "    é a equipe **mais antiga** em atividade na Fórmula 1, é a única a ter competido em todas as temporadas do mundial até hoje.\n",
    "    Curiosamente a Ferrari só veio a ganhar seu primeiro GP em **1951** na **Grã-Bretanha**, perdendo todos os 11 GP's disputados em\n",
    "    1950 para a equipe **Alfa Romeo** que mais tarde, em 1951, se retirou da Fórmula 1.\n",
    "    "
   ]
  },
  {
   "cell_type": "markdown",
   "metadata": {},
   "source": [
    "## Medidas de Centralidade e Dispersão"
   ]
  },
  {
   "cell_type": "code",
   "execution_count": 8,
   "metadata": {},
   "outputs": [
    {
     "data": {
      "text/html": [
       "<div>\n",
       "<style scoped>\n",
       "    .dataframe tbody tr th:only-of-type {\n",
       "        vertical-align: middle;\n",
       "    }\n",
       "\n",
       "    .dataframe tbody tr th {\n",
       "        vertical-align: top;\n",
       "    }\n",
       "\n",
       "    .dataframe thead th {\n",
       "        text-align: right;\n",
       "    }\n",
       "</style>\n",
       "<table border=\"1\" class=\"dataframe\">\n",
       "  <thead>\n",
       "    <tr style=\"text-align: right;\">\n",
       "      <th></th>\n",
       "      <th>Vitórias_E</th>\n",
       "    </tr>\n",
       "  </thead>\n",
       "  <tbody>\n",
       "    <tr>\n",
       "      <th>Média</th>\n",
       "      <td>22.586957</td>\n",
       "    </tr>\n",
       "    <tr>\n",
       "      <th>Mediana</th>\n",
       "      <td>4.000000</td>\n",
       "    </tr>\n",
       "    <tr>\n",
       "      <th>Desvio Padrão</th>\n",
       "      <td>47.768226</td>\n",
       "    </tr>\n",
       "  </tbody>\n",
       "</table>\n",
       "</div>"
      ],
      "text/plain": [
       "               Vitórias_E\n",
       "Média           22.586957\n",
       "Mediana          4.000000\n",
       "Desvio Padrão   47.768226"
      ]
     },
     "execution_count": 8,
     "metadata": {},
     "output_type": "execute_result"
    }
   ],
   "source": [
    "Medidas_E = {\"Média\": teams_wins[\"Vitórias_E\"].mean(),\n",
    "                  \"Mediana\": teams_wins[\"Vitórias_E\"].median(),\n",
    "                  \"Desvio Padrão\": teams_wins[\"Vitórias_E\"].std()}\n",
    "medidas_e = pd.Series(Medidas_E)\n",
    "\n",
    "t_w_medidas = pd.DataFrame({\"Vitórias_E\": medidas_e})\n",
    "t_w_medidas"
   ]
  },
  {
   "cell_type": "markdown",
   "metadata": {},
   "source": [
    "Análise: Pelo mesmo motivo citado acima aqui vemos um **desvio padrão muito elevado** pela quantidade de equipes que já disputaram\n",
    "    algum GP na fórmula 1, que são 46 equipes listadas nos dados encontrados."
   ]
  },
  {
   "cell_type": "markdown",
   "metadata": {},
   "source": [
    "## Boxplot"
   ]
  },
  {
   "cell_type": "code",
   "execution_count": 9,
   "metadata": {},
   "outputs": [
    {
     "data": {
      "text/plain": [
       "<matplotlib.axes._subplots.AxesSubplot at 0x2125317c348>"
      ]
     },
     "execution_count": 9,
     "metadata": {},
     "output_type": "execute_result"
    },
    {
     "data": {
      "image/png": "[encoded data removed]",
      "text/plain": [
       "<Figure size 432x288 with 1 Axes>"
      ]
     },
     "metadata": {
      "needs_background": "light"
     },
     "output_type": "display_data"
    }
   ],
   "source": [
    "teams_wins.boxplot(column=\"Vitórias_E\")"
   ]
  },
  {
   "cell_type": "markdown",
   "metadata": {},
   "source": [
    "## Gráfico de Barra"
   ]
  },
  {
   "cell_type": "code",
   "execution_count": 10,
   "metadata": {},
   "outputs": [
    {
     "data": {
      "text/plain": [
       "Text(0.5, 1.0, 'Top 10 Equipes Vencedores')"
      ]
     },
     "execution_count": 10,
     "metadata": {},
     "output_type": "execute_result"
    },
    {
     "data": {
      "image/png": "[encoded data removed]",
      "text/plain": [
       "<Figure size 432x288 with 1 Axes>"
      ]
     },
     "metadata": {
      "needs_background": "light"
     },
     "output_type": "display_data"
    }
   ],
   "source": [
    "t_w_barplot = t_w_barplot.reset_index()\n",
    "sns.barplot(data=t_w_barplot, x=\"Equipes\", y=\"Vitórias_E\")\n",
    "plt.xticks(rotation=45)\n",
    "plt.title(\"Top 10 Equipes Vencedores\")"
   ]
  },
  {
   "cell_type": "code",
   "execution_count": null,
   "metadata": {},
   "outputs": [],
   "source": []
  },
  {
   "cell_type": "markdown",
   "metadata": {},
   "source": [
    "## Acidentes + Colisões por Temporada\n",
    "Com carros que chegam a mais de 300Km/h em uma corrida, a possibilidade de acontecer acidentes neste esporte é grande. É por isso que analisaremos as temporadas que mais ocorreram acidentes na Fórmula 1, e veremos mais tarde medidas que foram tomadas\n",
    "para evitar que tais acontececem. "
   ]
  },
  {
   "cell_type": "code",
   "execution_count": 11,
   "metadata": {},
   "outputs": [],
   "source": [
    "races = pd.read_csv(\"../../caiov/ICD/projeto_csv/races.csv\")\n",
    "estatistica = pd.read_csv(\"../../caiov/ICD/projeto_csv/status.csv\")\n",
    "resultados = pd.read_csv(\"../../caiov/ICD/projeto_csv/results.csv\")\n",
    "\n",
    "df_acidentes = resultados[(resultados.statusId == 3) | (resultados.statusId == 4)]\n",
    "df_acidentes = df_acidentes.drop([\"points\", \"position\", \"positionText\", \"number\", \"time\", \"milliseconds\", \n",
    "                            \"fastestLap\", \"fastestLapTime\", \"fastestLapSpeed\",\"laps\", \"rank\", \"positionOrder\"], axis=1)"
   ]
  },
  {
   "cell_type": "code",
   "execution_count": 12,
   "metadata": {},
   "outputs": [
    {
     "data": {
      "text/html": [
       "<div>\n",
       "<style scoped>\n",
       "    .dataframe tbody tr th:only-of-type {\n",
       "        vertical-align: middle;\n",
       "    }\n",
       "\n",
       "    .dataframe tbody tr th {\n",
       "        vertical-align: top;\n",
       "    }\n",
       "\n",
       "    .dataframe thead th {\n",
       "        text-align: right;\n",
       "    }\n",
       "</style>\n",
       "<table border=\"1\" class=\"dataframe\">\n",
       "  <thead>\n",
       "    <tr style=\"text-align: right;\">\n",
       "      <th></th>\n",
       "      <th>Acidentes</th>\n",
       "    </tr>\n",
       "    <tr>\n",
       "      <th>Temporada</th>\n",
       "      <th></th>\n",
       "    </tr>\n",
       "  </thead>\n",
       "  <tbody>\n",
       "    <tr>\n",
       "      <th>1977</th>\n",
       "      <td>63</td>\n",
       "    </tr>\n",
       "    <tr>\n",
       "      <th>1975</th>\n",
       "      <td>54</td>\n",
       "    </tr>\n",
       "    <tr>\n",
       "      <th>1976</th>\n",
       "      <td>50</td>\n",
       "    </tr>\n",
       "    <tr>\n",
       "      <th>1994</th>\n",
       "      <td>49</td>\n",
       "    </tr>\n",
       "    <tr>\n",
       "      <th>1978</th>\n",
       "      <td>49</td>\n",
       "    </tr>\n",
       "    <tr>\n",
       "      <th>1981</th>\n",
       "      <td>48</td>\n",
       "    </tr>\n",
       "    <tr>\n",
       "      <th>2012</th>\n",
       "      <td>43</td>\n",
       "    </tr>\n",
       "    <tr>\n",
       "      <th>2010</th>\n",
       "      <td>42</td>\n",
       "    </tr>\n",
       "    <tr>\n",
       "      <th>2006</th>\n",
       "      <td>41</td>\n",
       "    </tr>\n",
       "    <tr>\n",
       "      <th>1982</th>\n",
       "      <td>41</td>\n",
       "    </tr>\n",
       "  </tbody>\n",
       "</table>\n",
       "</div>"
      ],
      "text/plain": [
       "           Acidentes\n",
       "Temporada           \n",
       "1977              63\n",
       "1975              54\n",
       "1976              50\n",
       "1994              49\n",
       "1978              49\n",
       "1981              48\n",
       "2012              43\n",
       "2010              42\n",
       "2006              41\n",
       "1982              41"
      ]
     },
     "execution_count": 12,
     "metadata": {},
     "output_type": "execute_result"
    }
   ],
   "source": [
    "newdata = pd.merge(races, df_acidentes, on=\"raceId\")\n",
    "newdata = newdata.drop([\"url\", \"grid\", \"time\", \"round\", \"date\", \"resultId\",\n",
    "                        \"driverId\",\"raceId\", \"circuitId\", \"constructorId\",\"name\",\"statusId\"], axis=1)\n",
    "newdata = newdata.rename(columns={\"year\":\"Temporada\"})\n",
    "\n",
    "q_acidentes = np.full((1834), 1)\n",
    "newdata[\"Acidentes\"]= q_acidentes\n",
    "\n",
    "newdata = newdata.reset_index(drop=True)\n",
    "newdata = newdata.groupby(\"Temporada\").sum()\n",
    "newdata = newdata.sort_values(by=\"Acidentes\", ascending=False)\n",
    "newdata.iloc[:10]"
   ]
  },
  {
   "cell_type": "markdown",
   "metadata": {},
   "source": [
    "Análise: Nestes dados vemos claramente um **alto índice** de acidentes em alguns anos da **década de 70**, em um gráfico que será mostrado abaixo será possível ver o que **possivelmente causou** tantos acidentes neste período."
   ]
  },
  {
   "cell_type": "markdown",
   "metadata": {},
   "source": [
    "## Medidas de Centralidade e Dispersão"
   ]
  },
  {
   "cell_type": "code",
   "execution_count": 13,
   "metadata": {},
   "outputs": [
    {
     "data": {
      "text/html": [
       "<div>\n",
       "<style scoped>\n",
       "    .dataframe tbody tr th:only-of-type {\n",
       "        vertical-align: middle;\n",
       "    }\n",
       "\n",
       "    .dataframe tbody tr th {\n",
       "        vertical-align: top;\n",
       "    }\n",
       "\n",
       "    .dataframe thead th {\n",
       "        text-align: right;\n",
       "    }\n",
       "</style>\n",
       "<table border=\"1\" class=\"dataframe\">\n",
       "  <thead>\n",
       "    <tr style=\"text-align: right;\">\n",
       "      <th></th>\n",
       "      <th>Acidentes</th>\n",
       "    </tr>\n",
       "  </thead>\n",
       "  <tbody>\n",
       "    <tr>\n",
       "      <th>Média</th>\n",
       "      <td>25.472222</td>\n",
       "    </tr>\n",
       "    <tr>\n",
       "      <th>Mediana</th>\n",
       "      <td>25.000000</td>\n",
       "    </tr>\n",
       "    <tr>\n",
       "      <th>Desvio Padrão</th>\n",
       "      <td>12.844654</td>\n",
       "    </tr>\n",
       "  </tbody>\n",
       "</table>\n",
       "</div>"
      ],
      "text/plain": [
       "               Acidentes\n",
       "Média          25.472222\n",
       "Mediana        25.000000\n",
       "Desvio Padrão  12.844654"
      ]
     },
     "execution_count": 13,
     "metadata": {},
     "output_type": "execute_result"
    }
   ],
   "source": [
    "Medidas_A = {\"Média\": newdata[\"Acidentes\"].mean(),\n",
    "                  \"Mediana\": newdata[\"Acidentes\"].median(),\n",
    "                  \"Desvio Padrão\": newdata[\"Acidentes\"].std()}\n",
    "medidas_a = pd.Series(Medidas_A)\n",
    "\n",
    "d_a_medidas = pd.DataFrame({\"Acidentes\": medidas_a})\n",
    "d_a_medidas"
   ]
  },
  {
   "cell_type": "markdown",
   "metadata": {},
   "source": [
    "## Boxplot"
   ]
  },
  {
   "cell_type": "code",
   "execution_count": 14,
   "metadata": {},
   "outputs": [
    {
     "data": {
      "text/plain": [
       "<matplotlib.axes._subplots.AxesSubplot at 0x21252f094c8>"
      ]
     },
     "execution_count": 14,
     "metadata": {},
     "output_type": "execute_result"
    },
    {
     "data": {
      "image/png": "[encoded data removed]",
      "text/plain": [
       "<Figure size 432x288 with 1 Axes>"
      ]
     },
     "metadata": {
      "needs_background": "light"
     },
     "output_type": "display_data"
    }
   ],
   "source": [
    "newdata.boxplot(column=\"Acidentes\")"
   ]
  },
  {
   "cell_type": "markdown",
   "metadata": {},
   "source": [
    "## Histograma"
   ]
  },
  {
   "cell_type": "code",
   "execution_count": 15,
   "metadata": {},
   "outputs": [
    {
     "data": {
      "text/plain": [
       "array([[<matplotlib.axes._subplots.AxesSubplot object at 0x0000021253425488>]],\n",
       "      dtype=object)"
      ]
     },
     "execution_count": 15,
     "metadata": {},
     "output_type": "execute_result"
    },
    {
     "data": {
      "image/png": "[encoded data removed]",
      "text/plain": [
       "<Figure size 432x288 with 1 Axes>"
      ]
     },
     "metadata": {
      "needs_background": "light"
     },
     "output_type": "display_data"
    }
   ],
   "source": [
    "newdata.hist(column=\"Acidentes\", bins=15)"
   ]
  },
  {
   "cell_type": "markdown",
   "metadata": {},
   "source": [
    "## Gráfico de dispersão (Agrupamento)"
   ]
  },
  {
   "cell_type": "code",
   "execution_count": 16,
   "metadata": {},
   "outputs": [],
   "source": [
    "newdata = newdata.reset_index()"
   ]
  },
  {
   "cell_type": "code",
   "execution_count": 17,
   "metadata": {},
   "outputs": [
    {
     "data": {
      "text/plain": [
       "<matplotlib.axes._subplots.AxesSubplot at 0x21253489308>"
      ]
     },
     "execution_count": 17,
     "metadata": {},
     "output_type": "execute_result"
    },
    {
     "data": {
      "image/png": "[encoded data removed]",
      "text/plain": [
       "<Figure size 432x288 with 1 Axes>"
      ]
     },
     "metadata": {
      "needs_background": "light"
     },
     "output_type": "display_data"
    }
   ],
   "source": [
    "from sklearn.cluster import KMeans\n",
    "kmeans = KMeans(n_clusters=3)\n",
    "kmeans.fit(newdata)\n",
    "sns.scatterplot(data=newdata, x=\"Temporada\", y=\"Acidentes\", hue=kmeans.labels_, palette=\"muted\")"
   ]
  },
  {
   "cell_type": "markdown",
   "metadata": {},
   "source": [
    "## Gráfico de Linha"
   ]
  },
  {
   "cell_type": "code",
   "execution_count": 18,
   "metadata": {},
   "outputs": [
    {
     "data": {
      "text/plain": [
       "Text(0.5, 1.0, 'Acidentes por temporada')"
      ]
     },
     "execution_count": 18,
     "metadata": {},
     "output_type": "execute_result"
    },
    {
     "data": {
      "image/png": "[encoded data removed]",
      "text/plain": [
       "<Figure size 432x288 with 1 Axes>"
      ]
     },
     "metadata": {
      "needs_background": "light"
     },
     "output_type": "display_data"
    }
   ],
   "source": [
    "newdata = newdata.reset_index()\n",
    "sns.lineplot(data=newdata, x=\"Temporada\", y=\"Acidentes\", marker=\"o\")\n",
    "plt.title(\"Acidentes por temporada\")"
   ]
  },
  {
   "cell_type": "markdown",
   "metadata": {},
   "source": [
    "Análise: Como citamos acima podemos observar um **alto índice** de acidentes na decáda de 70 e também entre os **anos 2005-2012**,\n",
    "    seguido de uma queda destes números, quais foram os **fatores que culminaram** neste **declínio**?"
   ]
  },
  {
   "cell_type": "code",
   "execution_count": null,
   "metadata": {},
   "outputs": [],
   "source": []
  },
  {
   "cell_type": "markdown",
   "metadata": {},
   "source": [
    "## DataFrame - Fórmula 1\n",
    "Aqui nós transformamos e limpamos alguns outros dados que estevam separados, para que pudéssemos fazer outras análises mais profundas\n",
    "como:   \n",
    "* Analisar as velocidades dos carros no decorrer dos anos;  \n",
    "* Fazer uma comparação entre os pilotos da década de 50 e os atuais;  \n",
    "* Calcular e analisar porcentagens da relação Pole-Vitória."
   ]
  },
  {
   "cell_type": "code",
   "execution_count": 19,
   "metadata": {},
   "outputs": [],
   "source": [
    "pd.options.display.float_format = '{:.2f}'.format\n",
    "\n",
    "races = pd.read_csv(\"../../caiov/ICD/projeto_csv/races.csv\")\n",
    "races = races.drop([\"time\",\"url\"], axis=1)\n",
    "\n",
    "teams_results2 = pd.merge(results,teams, on=\"constructorId\")\n",
    "teams_results2 = teams_results2.drop([\"constructorRef\",\"url\", \"Vitórias_P\"], axis=1)\n",
    "teams_results2 = teams_results2.drop([\"nationality\",\"raceId\",\"resultId\",\"grid\",\"laps\",\n",
    "                                      \"time\",\"fastestLap\",\"rank\",\"fastestLapTime\",\"fastestLapSpeed\"], axis=1)\n",
    "teams_results2 #(F15)\n",
    "\n",
    "drivers_results2 = pd.merge(results, drivers, on=\"driverId\")\n",
    "drivers_results2 = drivers_results2.rename(columns={\"Vitórias_P\":\"Posição_Final\"})\n",
    "drivers_results2 #(F10)\n",
    "\n",
    "t_d_results = pd.merge(teams_results2,drivers_results2, on=[\"driverId\",\"constructorId\"])\n",
    "t_d_results = t_d_results.drop([\"rank\",\"fastestLap\",\"driverRef\",\"laps\",\"resultId\"],axis=1)\n",
    "t_d_results = t_d_results.reindex(columns=[\"raceId\",\"driverId\",\"Pilotos\",\"code\",\"nationality\",\"constructorId\",\"name\",\n",
    "                                           \"grid\",\"Posição_Final\",\"time\",\"fastestLapTime\",\"fastestLapSpeed\"])\n",
    "\n",
    "t_d_results = t_d_results.rename(columns={\"name\":\"Montadoras\"})\n",
    "\n",
    "formula_1 = pd.merge(t_d_results,races, on=\"raceId\")\n",
    "formula_1 = formula_1.reindex(columns=[\"raceId\",\"round\",\"circuitId\",\"name\",\"date\",\"year\",\"driverId\",\"Pilotos\",\"code\",\"nationality\",\n",
    "                                       \"Montadoras\",\"constructorId\",\"grid\",\"Posição_Final\",\"time\",\"fastestLapTime\",\"fastestLapSpeed\"])\n",
    "formula_1 = formula_1.drop_duplicates()\n",
    "formula_1 = formula_1.sort_values(by=\"date\")"
   ]
  },
  {
   "cell_type": "markdown",
   "metadata": {},
   "source": [
    "## Análise Tempo \n",
    "\n",
    "As corridas de Fórmula 1 sempre envolveram muita **velocidade**, era certo que com o passar dos anos as equipes de **engenheiros** \n",
    "melhorariam cada vez mais os carros, que teriam **motores mais potentes** e uma **melhor aerodinâmica** tudo em troca de mais\n",
    "velocidade. Entretando como vimos acima os acidentes também se acentuaram. Aqui veremos a **evolução das velocidades** dos carros, e as **medidas de segurança** que foram tomadas para garantir a preservação da vida dos pilotos."
   ]
  },
  {
   "cell_type": "code",
   "execution_count": 20,
   "metadata": {},
   "outputs": [],
   "source": [
    "formula_1_speed =  formula_1\n",
    "formula_1_speed = formula_1_speed.drop([\"round\",\"driverId\",\n",
    "                          \"code\",\"constructorId\",\"fastestLapTime\",\"fastestLapSpeed\"], axis=1)\n",
    "\n",
    "formula_1_speed = formula_1_speed[(formula_1_speed.circuitId == 6) | (formula_1_speed.circuitId == 14) | \n",
    "                                  (formula_1_speed.circuitId == 18) | (formula_1_speed.circuitId == 9)]\n",
    "\n",
    "formula_1_speed = formula_1_speed.drop(14186)\n",
    "formula_1_speed = formula_1_speed.sort_values(by=\"circuitId\")\n",
    "\n",
    "formula_1_speed_t = formula_1_speed[\"time\"]\n",
    "formula_1_speed_dt = pd.to_datetime(formula_1_speed_t, format='%H:%M:%S.%f', errors='ignore')\n",
    "formula_1_speed_seconds = (formula_1_speed_dt.dt.hour*60+formula_1_speed_dt.dt.minute)*60 + formula_1_speed_dt.dt.second\n",
    "formula_1_speed[\"Seconds\"] = formula_1_speed_seconds"
   ]
  },
  {
   "cell_type": "code",
   "execution_count": 21,
   "metadata": {},
   "outputs": [
    {
     "data": {
      "text/plain": [
       "Text(0.5, 1.0, 'Análise Tempos')"
      ]
     },
     "execution_count": 21,
     "metadata": {},
     "output_type": "execute_result"
    },
    {
     "data": {
      "image/png": "[encoded data removed]",
      "text/plain": [
       "<Figure size 432x288 with 1 Axes>"
      ]
     },
     "metadata": {
      "needs_background": "light"
     },
     "output_type": "display_data"
    }
   ],
   "source": [
    "sns.lineplot(data=formula_1_speed, x=\"year\", y=\"Seconds\", hue=\"name\", marker=\"o\")\n",
    "plt.title(\"Análise Tempos\")"
   ]
  },
  {
   "cell_type": "markdown",
   "metadata": {},
   "source": [
    "Análise: Podemos observar que aproximadamente no ano de 2010 houve uma mudança brusca na variação dos tempos que estavam em constante diminuição. Tal acontecimento foi ocasionado por uma série de mudanças em algumas regras da Fórmula 1, como: \n",
    "\n",
    "* **Volta da regra de 107%** (*Durante a qualificação, o piloto que não efetuar uma volta dentro de 107% do menor tempo na primeira sessão de qualificação não pode começar a corrida*);\n",
    "* **Proibição de ordens de equipe** (*Equipe não pode exigir ultrapassagens para favorecer um determinado piloto*);  \n",
    "* **Novas normas técnicas impostas pela pirelli;**  \n",
    "* **Mudanças na aerodinâmica dos carros;**  \n",
    "* **Leve aumento do peso mínimo dos veículos;**  \n",
    "* **Impedimento de acessar o circuito 9 horas antes da primeira sessão do dia.**\n",
    "\n",
    "Essas mudanças favoreceram a segurança dos pilotos e de todas as pessoas envolvidas na organização da corrida, como pode ser observado no gráfico abaixo:"
   ]
  },
  {
   "cell_type": "code",
   "execution_count": 22,
   "metadata": {},
   "outputs": [
    {
     "data": {
      "text/plain": [
       "Text(0.5, 1.0, 'Acidentes por temporada')"
      ]
     },
     "execution_count": 22,
     "metadata": {},
     "output_type": "execute_result"
    },
    {
     "data": {
      "image/png": "[encoded data removed]",
      "text/plain": [
       "<Figure size 432x288 with 1 Axes>"
      ]
     },
     "metadata": {
      "needs_background": "light"
     },
     "output_type": "display_data"
    }
   ],
   "source": [
    "sns.lineplot(data=newdata, x=\"Temporada\", y=\"Acidentes\", marker=\"o\")\n",
    "plt.title(\"Acidentes por temporada\")"
   ]
  },
  {
   "cell_type": "markdown",
   "metadata": {},
   "source": [
    "Análise: Houve uma diminuição na quantidade de acidentes por volta da temporada de 2013, demostrando a eficácia das novas normas impostas pela FIA (Federação Internacional do Automóvel). Em suma, os carros se tornaram levemente mais lentos, mas as corridas se tornaram mais seguras, o que eticamente foi a decisão mais correta para evitar a morte de profissionais deste esporte que vem nos impressionando ao longo dos anos com tamanha velocidade e adrenalina."
   ]
  },
  {
   "cell_type": "code",
   "execution_count": null,
   "metadata": {},
   "outputs": [],
   "source": []
  },
  {
   "cell_type": "markdown",
   "metadata": {},
   "source": [
    "## Porcentagem Pole-Vitória\n",
    "Na Fórmula 1 os pilotos fazem um **treino qualificatória** na pista para decidir as posições de largada da corrida, o piloto que tem o **tempo mais rápido** neste treino larga em primeiro, ele possui o que é chamado de **Pole Position** ( _Primeira Posição_ ). O piloto que larga em primeiro tem a **vantagem**, mas nem sempre ele é o que vence a corrida, as vezes um piloto\n",
    "retardatário rouba-lhe a vitória, é por isso que vamos analisar a **porcentagem de vitória** dos pilotos que largam em 1°, 2° e 3° lugar."
   ]
  },
  {
   "cell_type": "code",
   "execution_count": 23,
   "metadata": {},
   "outputs": [],
   "source": [
    "soma_p = formula_1['Posição_Final'].sum()\n",
    "\n",
    "soma_grid = formula_1[formula_1.grid == 1]\n",
    "soma_grid = soma_grid[\"grid\"].count()\n",
    "porc = (soma_grid * 100) / soma_p\n",
    "\n",
    "soma_grid_2 = formula_1[formula_1.grid == 2]\n",
    "soma_grid_2 = soma_grid_2[\"grid\"].count()\n",
    "porc_2 = (soma_grid_2 * 100) / soma_p\n",
    "\n",
    "soma_grid_3 = formula_1[formula_1.grid == 3]\n",
    "soma_grid_3 = soma_grid_3[\"grid\"].count()\n",
    "porc_3 = (soma_grid_3 * 100) / soma_p"
   ]
  },
  {
   "cell_type": "code",
   "execution_count": 24,
   "metadata": {},
   "outputs": [
    {
     "data": {
      "text/html": [
       "<div>\n",
       "<style scoped>\n",
       "    .dataframe tbody tr th:only-of-type {\n",
       "        vertical-align: middle;\n",
       "    }\n",
       "\n",
       "    .dataframe tbody tr th {\n",
       "        vertical-align: top;\n",
       "    }\n",
       "\n",
       "    .dataframe thead th {\n",
       "        text-align: right;\n",
       "    }\n",
       "</style>\n",
       "<table border=\"1\" class=\"dataframe\">\n",
       "  <thead>\n",
       "    <tr style=\"text-align: right;\">\n",
       "      <th></th>\n",
       "      <th>Saída</th>\n",
       "      <th>Porcentagem</th>\n",
       "    </tr>\n",
       "  </thead>\n",
       "  <tbody>\n",
       "    <tr>\n",
       "      <th>Q1</th>\n",
       "      <td>1°</td>\n",
       "      <td>41.87</td>\n",
       "    </tr>\n",
       "    <tr>\n",
       "      <th>Q2</th>\n",
       "      <td>2°</td>\n",
       "      <td>23.97</td>\n",
       "    </tr>\n",
       "    <tr>\n",
       "      <th>Q3</th>\n",
       "      <td>3°</td>\n",
       "      <td>12.32</td>\n",
       "    </tr>\n",
       "  </tbody>\n",
       "</table>\n",
       "</div>"
      ],
      "text/plain": [
       "   Saída  Porcentagem\n",
       "Q1    1°        41.87\n",
       "Q2    2°        23.97\n",
       "Q3    3°        12.32"
      ]
     },
     "execution_count": 24,
     "metadata": {},
     "output_type": "execute_result"
    }
   ],
   "source": [
    "valores_dict = {\"Q1\":porc, \"Q2\":porc_2, \"Q3\":porc_3}\n",
    "valores_dict_2 = {\"Q1\":\"1°\", \"Q2\":\"2°\", \"Q3\":\"3°\"}\n",
    "\n",
    "valores = pd.Series(valores_dict)\n",
    "valores_2 = pd.Series(valores_dict_2)\n",
    "\n",
    "porc_valores = pd.DataFrame({\"Saída\":valores_2 ,\"Porcentagem\":valores_dict})\n",
    "porc_valores"
   ]
  },
  {
   "cell_type": "markdown",
   "metadata": {},
   "source": [
    "Análise: Podemos observar que a diferença entre essas 3 posições cai quase **pela metade** quando vamos aumentando uma posição, além disso podemos ver que apenas **41,87%** dos pilotos que largaram na primeira posição em toda a história ganharam a corrida, então **mais da metade** desses pilotos **não conseguiram** a **vitória** após terem obtido o melhor tempo no treino classificatório, tal fato demonstra o quão **imprevisíveis** são as corridas da Fórmula 1."
   ]
  },
  {
   "cell_type": "code",
   "execution_count": null,
   "metadata": {},
   "outputs": [],
   "source": []
  },
  {
   "cell_type": "markdown",
   "metadata": {},
   "source": [
    "# Dados Monaco (1950-1968) e (2005-2019)"
   ]
  },
  {
   "cell_type": "markdown",
   "metadata": {},
   "source": [
    "## Monaco (1950-1968)"
   ]
  },
  {
   "cell_type": "code",
   "execution_count": null,
   "metadata": {
    "scrolled": false
   },
   "outputs": [],
   "source": [
    "Monaco_1 = formula_1[formula_1.circuitId == 6]\n",
    "Monaco_1 = Monaco_1[Monaco_1.year <= 1968]\n",
    "Monaco_1 = Monaco_1.sort_values(by=\"time\")\n",
    "Monaco_1 = Monaco_1.drop([\"raceId\",\"round\",\"driverId\",\"circuitId\",\n",
    "                          \"code\",\"constructorId\",\"fastestLapTime\",\"fastestLapSpeed\"], axis=1)\n",
    "Monaco_1 = Monaco_1.reset_index(drop=True)\n",
    "\n",
    "#Transformando tempo em str para segundos.\n",
    "Monaco_1_time = Monaco_1[\"time\"]\n",
    "Monaco_1_dt = pd.to_datetime(Monaco_1_time, format='%H:%M:%S.%f', errors='ignore')\n",
    "Monaco_1_seconds = (Monaco_1_dt.dt.hour*60+Monaco_1_dt.dt.minute)*60 + Monaco_1_dt.dt.second\n",
    "Monaco_1[\"Seconds\"] = Monaco_1_seconds\n",
    "Monaco_1"
   ]
  },
  {
   "cell_type": "code",
   "execution_count": null,
   "metadata": {},
   "outputs": [],
   "source": [
    "sns.lineplot(data=Monaco_1, x=\"date\", y=\"Seconds\", marker=\"o\")\n",
    "plt.xticks(rotation=90)"
   ]
  },
  {
   "cell_type": "markdown",
   "metadata": {},
   "source": [
    "## Monaco (2005-2019)"
   ]
  },
  {
   "cell_type": "code",
   "execution_count": null,
   "metadata": {
    "scrolled": false
   },
   "outputs": [],
   "source": [
    "Monaco_2 = formula_1[formula_1.circuitId == 6]\n",
    "Monaco_2 = Monaco_2[Monaco_2.year >= 2005]\n",
    "Monaco_2 = Monaco_2.sort_values(by=\"time\")\n",
    "Monaco_2 = Monaco_2.drop([\"raceId\",\"round\",\"driverId\",\"circuitId\",\"constructorId\",\"fastestLapSpeed\",\"fastestLapTime\"], axis=1)\n",
    "Monaco_2 = Monaco_2.reset_index(drop=True)\n",
    "\n",
    "Monaco_2_time = Monaco_2[\"time\"]\n",
    "Monaco_2_dt = pd.to_datetime(Monaco_2_time, format='%H:%M:%S.%f', errors='ignore')\n",
    "Monaco_2_seconds = (Monaco_2_dt.dt.hour*60+Monaco_2_dt.dt.minute)*60 + Monaco_2_dt.dt.second\n",
    "Monaco_2[\"Seconds\"] = Monaco_2_seconds\n",
    "Monaco_2"
   ]
  },
  {
   "cell_type": "code",
   "execution_count": null,
   "metadata": {},
   "outputs": [],
   "source": [
    "sns.lineplot(data=Monaco_2, x=\"year\", y=\"Seconds\", marker=\"o\")"
   ]
  },
  {
   "cell_type": "code",
   "execution_count": null,
   "metadata": {},
   "outputs": [],
   "source": []
  },
  {
   "cell_type": "markdown",
   "metadata": {},
   "source": [
    "# Comparação Velocidades"
   ]
  },
  {
   "cell_type": "code",
   "execution_count": null,
   "metadata": {},
   "outputs": [],
   "source": [
    "from scipy.stats import zscore"
   ]
  },
  {
   "cell_type": "code",
   "execution_count": null,
   "metadata": {},
   "outputs": [],
   "source": [
    "z_score_1 = zscore(Monaco_1[\"Seconds\"])\n",
    "z_score_1"
   ]
  },
  {
   "cell_type": "code",
   "execution_count": null,
   "metadata": {},
   "outputs": [],
   "source": [
    "z_score_2 = zscore(Monaco_2[\"Seconds\"])\n",
    "z_score_2"
   ]
  },
  {
   "cell_type": "code",
   "execution_count": null,
   "metadata": {},
   "outputs": [],
   "source": []
  },
  {
   "cell_type": "code",
   "execution_count": null,
   "metadata": {},
   "outputs": [],
   "source": [
    "Monaco_a = {\"Média\": Monaco_1[\"Seconds\"].mean(),\n",
    "                  \"Desvio Padrão\": Monaco_1[\"Seconds\"].std(),\n",
    "                       \"Fastest Pilot\": Monaco_1[\"Seconds\"][0]}\n",
    "\n",
    "Monaco_b = {\"Média\": Monaco_2[\"Seconds\"].mean(),\n",
    "                  \"Desvio Padrão\": Monaco_2[\"Seconds\"].std(),\n",
    "                       \"Fastest Pilot\": Monaco_2[\"Seconds\"][0]}\n",
    "\n",
    "medidas_a = pd.Series(Monaco_a)\n",
    "medidas_b = pd.Series(Monaco_b)\n",
    "\n",
    "d_ab_medidas = pd.DataFrame({\"Monaco_1\": medidas_a, \"Monaco_2\": medidas_b})\n",
    "d_ab_medidas"
   ]
  },
  {
   "cell_type": "code",
   "execution_count": null,
   "metadata": {},
   "outputs": [],
   "source": [
    "import scipy.stats as stats\n",
    "import math\n",
    "x_values = [6851.7,7908.6,8965.5,10022.4,11079.3,12136.2,13193.4]\n",
    "\n",
    "mu = d_ab_medidas[\"Monaco_1\"][0]\n",
    "variance = d_ab_medidas[\"Monaco_1\"][1]\n",
    "sigma = math.sqrt(variance)\n",
    "x = np.linspace(mu - 3*sigma, mu + 3*sigma, 100)\n",
    "plt.plot(x, stats.norm.pdf(x, mu, sigma))\n",
    "plt.xticks(x_values)\n",
    "plt.show()"
   ]
  },
  {
   "cell_type": "code",
   "execution_count": null,
   "metadata": {},
   "outputs": [],
   "source": [
    "value = np.random.normal(loc=10022.4,scale=1000,size=1000)\n",
    "sns.distplot(value)"
   ]
  },
  {
   "cell_type": "code",
   "execution_count": null,
   "metadata": {},
   "outputs": [],
   "source": [
    "mu = d_ab_medidas[\"Monaco_2\"][0]\n",
    "variance = d_ab_medidas[\"Monaco_2\"][1]\n",
    "sigma = math.sqrt(variance)\n",
    "x = np.linspace(mu - 3*sigma, mu + 3*sigma, 100)\n",
    "plt.plot(x, stats.norm.pdf(x, mu, sigma))\n",
    "plt.show()"
   ]
  },
  {
   "cell_type": "code",
   "execution_count": null,
   "metadata": {},
   "outputs": [],
   "source": [
    "Monaco_a = {\"Piloto\": Monaco_1[\"Pilotos\"][0],\n",
    "                  \"Tempo\": Monaco_1[\"time\"][0],\n",
    "                       \"Z-Score\": Monaco_1[\"Seconds\"][0]}\n",
    "\n",
    "Monaco_b = {\"Piloto\": Monaco_2[\"Pilotos\"][0],\n",
    "                  \"Tempo\": Monaco_2[\"time\"][0],\n",
    "                       \"Z-Score\": Monaco_2[\"Seconds\"][0]}\n",
    "\n",
    "medidas_a = pd.Series(Monaco_a)\n",
    "medidas_b = pd.Series(Monaco_b)\n",
    "\n",
    "battle_a_b = pd.DataFrame({\"Monaco_1\": medidas_a, \"Monaco_2\": medidas_b})\n",
    "battle_a_b"
   ]
  },
  {
   "cell_type": "code",
   "execution_count": null,
   "metadata": {},
   "outputs": [],
   "source": []
  },
  {
   "cell_type": "markdown",
   "metadata": {},
   "source": [
    "# Dados Monza (1950-1964) e (2006-2020)"
   ]
  },
  {
   "cell_type": "markdown",
   "metadata": {},
   "source": [
    "## Monza (1950-1964)"
   ]
  },
  {
   "cell_type": "code",
   "execution_count": null,
   "metadata": {},
   "outputs": [],
   "source": [
    "Monza_1 = formula_1[formula_1.circuitId == 14]\n",
    "Monza_1 = Monza_1[Monza_1.year <= 1964]\n",
    "Monza_1 = Monza_1.sort_values(by=\"date\")\n",
    "Monza_1 = Monza_1.drop([\"raceId\",\"round\",\"driverId\",\"circuitId\",\n",
    "                          \"code\",\"constructorId\",\"fastestLapTime\",\"fastestLapSpeed\"], axis=1)\n",
    "Monza_1 = Monza_1.reset_index(drop=True)\n",
    "\n",
    "#Transformando tempo em str para segundos.\n",
    "Monza_1_time = Monza_1[\"time\"]\n",
    "Monza_1_dt = pd.to_datetime(Monza_1_time, format='%H:%M:%S.%f', errors='ignore')\n",
    "Monza_1_seconds = (Monza_1_dt.dt.hour*60+Monza_1_dt.dt.minute)*60 + Monza_1_dt.dt.second\n",
    "Monza_1[\"Seconds\"] = Monza_1_seconds\n",
    "Monza_1"
   ]
  },
  {
   "cell_type": "markdown",
   "metadata": {},
   "source": [
    "## Monza (2006-2020)"
   ]
  },
  {
   "cell_type": "code",
   "execution_count": null,
   "metadata": {},
   "outputs": [],
   "source": [
    "Monza_2 = formula_1[formula_1.circuitId == 14]\n",
    "Monza_2 = Monza_2[Monza_2.year >= 2006]\n",
    "Monza_2 = Monza_2.sort_values(by=\"date\")\n",
    "Monza_2 = Monza_2.drop([\"raceId\",\"round\",\"driverId\",\"circuitId\",\"constructorId\",\"fastestLapSpeed\",\"fastestLapTime\"], axis=1)\n",
    "Monza_2 = Monza_2.reset_index(drop=True)\n",
    "\n",
    "Monza_2_time = Monza_2[\"time\"]\n",
    "Monza_2_dt = pd.to_datetime(Monza_2_time, format='%H:%M:%S.%f', errors='ignore')\n",
    "Monza_2_seconds = (Monza_2_dt.dt.hour*60+Monza_2_dt.dt.minute)*60 + Monza_2_dt.dt.second\n",
    "Monza_2[\"Seconds\"] = Monza_2_seconds\n",
    "Monza_2"
   ]
  },
  {
   "cell_type": "code",
   "execution_count": null,
   "metadata": {},
   "outputs": [],
   "source": []
  }
 ],
 "metadata": {
  "kernelspec": {
   "display_name": "Python 3",
   "language": "python",
   "name": "python3"
  },
  "language_info": {
   "codemirror_mode": {
    "name": "ipython",
    "version": 3
   },
   "file_extension": ".py",
   "mimetype": "text/x-python",
   "name": "python",
   "nbconvert_exporter": "python",
   "pygments_lexer": "ipython3",
   "version": "3.7.6"
  }
 },
 "nbformat": 4,
 "nbformat_minor": 4
}
