{
 "cells": [
  {
   "cell_type": "markdown",
   "metadata": {},
   "source": [
    "# Projeto ICD - Fórmula 1\n",
    "### Caio Araújo e William Xavier"
   ]
  },
  {
   "cell_type": "markdown",
   "metadata": {},
   "source": [
    "## Quais pilotos venceram mais corridas desde 1950 até 2021 ?"
   ]
  },
  {
   "cell_type": "code",
   "execution_count": 1,
   "metadata": {},
   "outputs": [],
   "source": [
    "import numpy as np\n",
    "import pandas as pd \n",
    "import seaborn as sns\n",
    "import matplotlib.pyplot as plt\n",
    "sns.set_palette('Set2')\n",
    "\n",
    "results = pd.read_csv(\"../../caiov/ICD/projeto_csv/results.csv\")\n",
    "drivers = pd.read_csv(\"../../caiov/ICD/projeto_csv/drivers.csv\")"
   ]
  },
  {
   "cell_type": "code",
   "execution_count": 2,
   "metadata": {},
   "outputs": [],
   "source": [
    "results = results.drop([\"statusId\", \"points\", \"positionText\", \"number\", \"position\", \"milliseconds\"], axis=1)\n",
    "results = results.rename(columns={\"positionOrder\":\"Vitórias_P\"})\n",
    "results = results[results.Vitórias_P == 1]"
   ]
  },
  {
   "cell_type": "code",
   "execution_count": 3,
   "metadata": {},
   "outputs": [],
   "source": [
    "drivers = drivers.loc[\"0\":,\"driverId\":\"nationality\"]\n",
    "drivers[\"Pilotos\"] = drivers[\"forename\"] + \" \" + drivers[\"surname\"]\n",
    "drivers = drivers.drop([\"dob\",\"number\",\"forename\",\"surname\"], axis=1)\n",
    "drivers = drivers.reindex(columns=['driverId','driverRef','code','Pilotos','nationality'])"
   ]
  },
  {
   "cell_type": "code",
   "execution_count": 4,
   "metadata": {},
   "outputs": [
    {
     "data": {
      "text/html": [
       "<div>\n",
       "<style scoped>\n",
       "    .dataframe tbody tr th:only-of-type {\n",
       "        vertical-align: middle;\n",
       "    }\n",
       "\n",
       "    .dataframe tbody tr th {\n",
       "        vertical-align: top;\n",
       "    }\n",
       "\n",
       "    .dataframe thead th {\n",
       "        text-align: right;\n",
       "    }\n",
       "</style>\n",
       "<table border=\"1\" class=\"dataframe\">\n",
       "  <thead>\n",
       "    <tr style=\"text-align: right;\">\n",
       "      <th></th>\n",
       "      <th>Vitórias_P</th>\n",
       "    </tr>\n",
       "    <tr>\n",
       "      <th>Pilotos</th>\n",
       "      <th></th>\n",
       "    </tr>\n",
       "  </thead>\n",
       "  <tbody>\n",
       "    <tr>\n",
       "      <th>Lewis Hamilton</th>\n",
       "      <td>96</td>\n",
       "    </tr>\n",
       "    <tr>\n",
       "      <th>Michael Schumacher</th>\n",
       "      <td>91</td>\n",
       "    </tr>\n",
       "    <tr>\n",
       "      <th>Sebastian Vettel</th>\n",
       "      <td>53</td>\n",
       "    </tr>\n",
       "    <tr>\n",
       "      <th>Alain Prost</th>\n",
       "      <td>51</td>\n",
       "    </tr>\n",
       "    <tr>\n",
       "      <th>Ayrton Senna</th>\n",
       "      <td>41</td>\n",
       "    </tr>\n",
       "    <tr>\n",
       "      <th>Fernando Alonso</th>\n",
       "      <td>32</td>\n",
       "    </tr>\n",
       "    <tr>\n",
       "      <th>Nigel Mansell</th>\n",
       "      <td>31</td>\n",
       "    </tr>\n",
       "    <tr>\n",
       "      <th>Jackie Stewart</th>\n",
       "      <td>27</td>\n",
       "    </tr>\n",
       "    <tr>\n",
       "      <th>Niki Lauda</th>\n",
       "      <td>25</td>\n",
       "    </tr>\n",
       "    <tr>\n",
       "      <th>Jim Clark</th>\n",
       "      <td>25</td>\n",
       "    </tr>\n",
       "    <tr>\n",
       "      <th>Juan Fangio</th>\n",
       "      <td>24</td>\n",
       "    </tr>\n",
       "    <tr>\n",
       "      <th>Nico Rosberg</th>\n",
       "      <td>23</td>\n",
       "    </tr>\n",
       "    <tr>\n",
       "      <th>Nelson Piquet</th>\n",
       "      <td>23</td>\n",
       "    </tr>\n",
       "    <tr>\n",
       "      <th>Damon Hill</th>\n",
       "      <td>22</td>\n",
       "    </tr>\n",
       "    <tr>\n",
       "      <th>Kimi Räikkönen</th>\n",
       "      <td>21</td>\n",
       "    </tr>\n",
       "  </tbody>\n",
       "</table>\n",
       "</div>"
      ],
      "text/plain": [
       "                    Vitórias_P\n",
       "Pilotos                       \n",
       "Lewis Hamilton              96\n",
       "Michael Schumacher          91\n",
       "Sebastian Vettel            53\n",
       "Alain Prost                 51\n",
       "Ayrton Senna                41\n",
       "Fernando Alonso             32\n",
       "Nigel Mansell               31\n",
       "Jackie Stewart              27\n",
       "Niki Lauda                  25\n",
       "Jim Clark                   25\n",
       "Juan Fangio                 24\n",
       "Nico Rosberg                23\n",
       "Nelson Piquet               23\n",
       "Damon Hill                  22\n",
       "Kimi Räikkönen              21"
      ]
     },
     "execution_count": 4,
     "metadata": {},
     "output_type": "execute_result"
    }
   ],
   "source": [
    "drivers_results = pd.merge(drivers,results, on=\"driverId\")\n",
    "\n",
    "drivers_wins = drivers_results.groupby(\"Pilotos\").count()\n",
    "drivers_wins = drivers_wins.sort_values(by=\"Vitórias_P\", ascending=False)[[\"Vitórias_P\"]]\n",
    "d_w_barplot = drivers_wins.iloc[:10]\n",
    "drivers_wins.iloc[:15]"
   ]
  },
  {
   "cell_type": "markdown",
   "metadata": {},
   "source": [
    "## Medidas de Centralidade e Dispersão"
   ]
  },
  {
   "cell_type": "code",
   "execution_count": 5,
   "metadata": {},
   "outputs": [
    {
     "data": {
      "text/html": [
       "<div>\n",
       "<style scoped>\n",
       "    .dataframe tbody tr th:only-of-type {\n",
       "        vertical-align: middle;\n",
       "    }\n",
       "\n",
       "    .dataframe tbody tr th {\n",
       "        vertical-align: top;\n",
       "    }\n",
       "\n",
       "    .dataframe thead th {\n",
       "        text-align: right;\n",
       "    }\n",
       "</style>\n",
       "<table border=\"1\" class=\"dataframe\">\n",
       "  <thead>\n",
       "    <tr style=\"text-align: right;\">\n",
       "      <th></th>\n",
       "      <th>Vitórias_P</th>\n",
       "    </tr>\n",
       "  </thead>\n",
       "  <tbody>\n",
       "    <tr>\n",
       "      <th>Média</th>\n",
       "      <td>9.445455</td>\n",
       "    </tr>\n",
       "    <tr>\n",
       "      <th>Mediana</th>\n",
       "      <td>4.000000</td>\n",
       "    </tr>\n",
       "    <tr>\n",
       "      <th>Desvio Padrão</th>\n",
       "      <td>15.269798</td>\n",
       "    </tr>\n",
       "  </tbody>\n",
       "</table>\n",
       "</div>"
      ],
      "text/plain": [
       "               Vitórias_P\n",
       "Média            9.445455\n",
       "Mediana          4.000000\n",
       "Desvio Padrão   15.269798"
      ]
     },
     "execution_count": 5,
     "metadata": {},
     "output_type": "execute_result"
    }
   ],
   "source": [
    "Medidas_P = {\"Média\": drivers_wins[\"Vitórias_P\"].mean(),\n",
    "                  \"Mediana\": drivers_wins[\"Vitórias_P\"].median(),\n",
    "                  \"Desvio Padrão\": drivers_wins[\"Vitórias_P\"].std()}\n",
    "medidas_p = pd.Series(Medidas_P)\n",
    "\n",
    "d_w_medidas = pd.DataFrame({\"Vitórias_P\": medidas_p})\n",
    "d_w_medidas"
   ]
  },
  {
   "cell_type": "markdown",
   "metadata": {},
   "source": [
    "## Boxplot"
   ]
  },
  {
   "cell_type": "code",
   "execution_count": 6,
   "metadata": {},
   "outputs": [
    {
     "data": {
      "text/plain": [
       "<matplotlib.axes._subplots.AxesSubplot at 0x17326911588>"
      ]
     },
     "execution_count": 6,
     "metadata": {},
     "output_type": "execute_result"
    },
    {
     "data": {
      "image/png": "[encoded data removed]",
      "text/plain": [
       "<Figure size 432x288 with 1 Axes>"
      ]
     },
     "metadata": {
      "needs_background": "light"
     },
     "output_type": "display_data"
    }
   ],
   "source": [
    "drivers_wins.boxplot(column=\"Vitórias_P\")"
   ]
  },
  {
   "cell_type": "markdown",
   "metadata": {},
   "source": [
    "## Gráfico de Barra"
   ]
  },
  {
   "cell_type": "code",
   "execution_count": 7,
   "metadata": {},
   "outputs": [
    {
     "data": {
      "text/plain": [
       "Text(0.5, 1.0, 'Top 10 Pilotos Vencedores')"
      ]
     },
     "execution_count": 7,
     "metadata": {},
     "output_type": "execute_result"
    },
    {
     "data": {
      "image/png": "[encoded data removed]",
      "text/plain": [
       "<Figure size 432x288 with 1 Axes>"
      ]
     },
     "metadata": {
      "needs_background": "light"
     },
     "output_type": "display_data"
    }
   ],
   "source": [
    "d_w_barplot = d_w_barplot.reset_index()\n",
    "sns.barplot(data=d_w_barplot, x=\"Pilotos\", y=\"Vitórias_P\")\n",
    "plt.xticks(rotation=60)\n",
    "plt.title(\"Top 10 Pilotos Vencedores\")"
   ]
  },
  {
   "cell_type": "code",
   "execution_count": null,
   "metadata": {},
   "outputs": [],
   "source": []
  },
  {
   "cell_type": "markdown",
   "metadata": {},
   "source": [
    "## Quais montadoras/equipes venceram mais corridas ?"
   ]
  },
  {
   "cell_type": "code",
   "execution_count": 8,
   "metadata": {},
   "outputs": [],
   "source": [
    "teams = pd.read_csv(\"../../caiov/ICD/projeto_csv/constructors.csv\")"
   ]
  },
  {
   "cell_type": "code",
   "execution_count": 9,
   "metadata": {},
   "outputs": [],
   "source": [
    "teams_results = pd.merge(teams,results, on=\"constructorId\")\n",
    "teams_results = teams_results.drop([\"constructorRef\",\"url\"], axis=1)"
   ]
  },
  {
   "cell_type": "code",
   "execution_count": 10,
   "metadata": {},
   "outputs": [],
   "source": [
    "teams_results = teams_results.rename(columns={\"name\":\"Equipes\"})\n",
    "teams_results = teams_results.rename(columns={\"constructorId\":\"Vitórias_E\"})"
   ]
  },
  {
   "cell_type": "code",
   "execution_count": 11,
   "metadata": {},
   "outputs": [
    {
     "data": {
      "text/html": [
       "<div>\n",
       "<style scoped>\n",
       "    .dataframe tbody tr th:only-of-type {\n",
       "        vertical-align: middle;\n",
       "    }\n",
       "\n",
       "    .dataframe tbody tr th {\n",
       "        vertical-align: top;\n",
       "    }\n",
       "\n",
       "    .dataframe thead th {\n",
       "        text-align: right;\n",
       "    }\n",
       "</style>\n",
       "<table border=\"1\" class=\"dataframe\">\n",
       "  <thead>\n",
       "    <tr style=\"text-align: right;\">\n",
       "      <th></th>\n",
       "      <th>Vitórias_E</th>\n",
       "    </tr>\n",
       "    <tr>\n",
       "      <th>Equipes</th>\n",
       "      <th></th>\n",
       "    </tr>\n",
       "  </thead>\n",
       "  <tbody>\n",
       "    <tr>\n",
       "      <th>Ferrari</th>\n",
       "      <td>239</td>\n",
       "    </tr>\n",
       "    <tr>\n",
       "      <th>McLaren</th>\n",
       "      <td>178</td>\n",
       "    </tr>\n",
       "    <tr>\n",
       "      <th>Mercedes</th>\n",
       "      <td>116</td>\n",
       "    </tr>\n",
       "    <tr>\n",
       "      <th>Williams</th>\n",
       "      <td>114</td>\n",
       "    </tr>\n",
       "    <tr>\n",
       "      <th>Red Bull</th>\n",
       "      <td>64</td>\n",
       "    </tr>\n",
       "    <tr>\n",
       "      <th>Team Lotus</th>\n",
       "      <td>45</td>\n",
       "    </tr>\n",
       "    <tr>\n",
       "      <th>Renault</th>\n",
       "      <td>35</td>\n",
       "    </tr>\n",
       "    <tr>\n",
       "      <th>Benetton</th>\n",
       "      <td>27</td>\n",
       "    </tr>\n",
       "    <tr>\n",
       "      <th>Brabham</th>\n",
       "      <td>23</td>\n",
       "    </tr>\n",
       "    <tr>\n",
       "      <th>Tyrrell</th>\n",
       "      <td>23</td>\n",
       "    </tr>\n",
       "    <tr>\n",
       "      <th>Lotus-Climax</th>\n",
       "      <td>22</td>\n",
       "    </tr>\n",
       "    <tr>\n",
       "      <th>BRM</th>\n",
       "      <td>17</td>\n",
       "    </tr>\n",
       "    <tr>\n",
       "      <th>Cooper-Climax</th>\n",
       "      <td>12</td>\n",
       "    </tr>\n",
       "    <tr>\n",
       "      <th>Alfa Romeo</th>\n",
       "      <td>11</td>\n",
       "    </tr>\n",
       "    <tr>\n",
       "      <th>Lotus-Ford</th>\n",
       "      <td>11</td>\n",
       "    </tr>\n",
       "  </tbody>\n",
       "</table>\n",
       "</div>"
      ],
      "text/plain": [
       "               Vitórias_E\n",
       "Equipes                  \n",
       "Ferrari               239\n",
       "McLaren               178\n",
       "Mercedes              116\n",
       "Williams              114\n",
       "Red Bull               64\n",
       "Team Lotus             45\n",
       "Renault                35\n",
       "Benetton               27\n",
       "Brabham                23\n",
       "Tyrrell                23\n",
       "Lotus-Climax           22\n",
       "BRM                    17\n",
       "Cooper-Climax          12\n",
       "Alfa Romeo             11\n",
       "Lotus-Ford             11"
      ]
     },
     "execution_count": 11,
     "metadata": {},
     "output_type": "execute_result"
    }
   ],
   "source": [
    "teams_wins = teams_results.groupby(\"Equipes\").count()\n",
    "teams_wins = teams_wins.sort_values(by=\"Vitórias_E\", ascending=False)[[\"Vitórias_E\"]]\n",
    "t_w_barplot = teams_wins.iloc[:10]\n",
    "teams_wins.iloc[:15]"
   ]
  },
  {
   "cell_type": "markdown",
   "metadata": {},
   "source": [
    "## Medidas de Centralidade e Dispersão"
   ]
  },
  {
   "cell_type": "code",
   "execution_count": 12,
   "metadata": {},
   "outputs": [
    {
     "data": {
      "text/html": [
       "<div>\n",
       "<style scoped>\n",
       "    .dataframe tbody tr th:only-of-type {\n",
       "        vertical-align: middle;\n",
       "    }\n",
       "\n",
       "    .dataframe tbody tr th {\n",
       "        vertical-align: top;\n",
       "    }\n",
       "\n",
       "    .dataframe thead th {\n",
       "        text-align: right;\n",
       "    }\n",
       "</style>\n",
       "<table border=\"1\" class=\"dataframe\">\n",
       "  <thead>\n",
       "    <tr style=\"text-align: right;\">\n",
       "      <th></th>\n",
       "      <th>Vitórias_E</th>\n",
       "    </tr>\n",
       "  </thead>\n",
       "  <tbody>\n",
       "    <tr>\n",
       "      <th>Média</th>\n",
       "      <td>22.586957</td>\n",
       "    </tr>\n",
       "    <tr>\n",
       "      <th>Mediana</th>\n",
       "      <td>4.000000</td>\n",
       "    </tr>\n",
       "    <tr>\n",
       "      <th>Desvio Padrão</th>\n",
       "      <td>47.768226</td>\n",
       "    </tr>\n",
       "  </tbody>\n",
       "</table>\n",
       "</div>"
      ],
      "text/plain": [
       "               Vitórias_E\n",
       "Média           22.586957\n",
       "Mediana          4.000000\n",
       "Desvio Padrão   47.768226"
      ]
     },
     "execution_count": 12,
     "metadata": {},
     "output_type": "execute_result"
    }
   ],
   "source": [
    "Medidas_E = {\"Média\": teams_wins[\"Vitórias_E\"].mean(),\n",
    "                  \"Mediana\": teams_wins[\"Vitórias_E\"].median(),\n",
    "                  \"Desvio Padrão\": teams_wins[\"Vitórias_E\"].std()}\n",
    "medidas_e = pd.Series(Medidas_E)\n",
    "\n",
    "t_w_medidas = pd.DataFrame({\"Vitórias_E\": medidas_e})\n",
    "t_w_medidas"
   ]
  },
  {
   "cell_type": "markdown",
   "metadata": {},
   "source": [
    "## Boxplot"
   ]
  },
  {
   "cell_type": "code",
   "execution_count": 13,
   "metadata": {},
   "outputs": [
    {
     "data": {
      "text/plain": [
       "<matplotlib.axes._subplots.AxesSubplot at 0x1732665a888>"
      ]
     },
     "execution_count": 13,
     "metadata": {},
     "output_type": "execute_result"
    },
    {
     "data": {
      "image/png": "[encoded data removed]",
      "text/plain": [
       "<Figure size 432x288 with 1 Axes>"
      ]
     },
     "metadata": {
      "needs_background": "light"
     },
     "output_type": "display_data"
    }
   ],
   "source": [
    "teams_wins.boxplot(column=\"Vitórias_E\")"
   ]
  },
  {
   "cell_type": "markdown",
   "metadata": {},
   "source": [
    "## Gráfico de Barra"
   ]
  },
  {
   "cell_type": "code",
   "execution_count": 16,
   "metadata": {},
   "outputs": [
    {
     "data": {
      "text/plain": [
       "Text(0.5, 1.0, 'Top 10 Equipes Vencedores')"
      ]
     },
     "execution_count": 16,
     "metadata": {},
     "output_type": "execute_result"
    },
    {
     "data": {
      "image/png": "[encoded data removed]",
      "text/plain": [
       "<Figure size 432x288 with 1 Axes>"
      ]
     },
     "metadata": {
      "needs_background": "light"
     },
     "output_type": "display_data"
    }
   ],
   "source": [
    "t_w_barplot = t_w_barplot.reset_index()\n",
    "sns.barplot(data=t_w_barplot, x=\"Equipes\", y=\"Vitórias_E\")\n",
    "plt.xticks(rotation=45)\n",
    "plt.title(\"Top 10 Equipes Vencedores\")"
   ]
  },
  {
   "cell_type": "code",
   "execution_count": null,
   "metadata": {},
   "outputs": [],
   "source": []
  },
  {
   "cell_type": "markdown",
   "metadata": {},
   "source": [
    "## Acidentes + Colisões por Temporada"
   ]
  },
  {
   "cell_type": "code",
   "execution_count": 17,
   "metadata": {},
   "outputs": [],
   "source": [
    "races = pd.read_csv(\"../../caiov/ICD/projeto_csv/races.csv\")\n",
    "estatistica = pd.read_csv(\"../../caiov/ICD/projeto_csv/status.csv\")\n",
    "resultados = pd.read_csv(\"../../caiov/ICD/projeto_csv/results.csv\")\n",
    "\n",
    "df_acidentes = resultados[(resultados.statusId == 3) | (resultados.statusId == 4)]\n",
    "df_acidentes = df_acidentes.drop([\"points\", \"position\", \"positionText\", \"number\", \"time\", \"milliseconds\", \n",
    "                            \"fastestLap\", \"fastestLapTime\", \"fastestLapSpeed\",\"laps\", \"rank\", \"positionOrder\"], axis=1)"
   ]
  },
  {
   "cell_type": "code",
   "execution_count": 18,
   "metadata": {},
   "outputs": [
    {
     "data": {
      "text/html": [
       "<div>\n",
       "<style scoped>\n",
       "    .dataframe tbody tr th:only-of-type {\n",
       "        vertical-align: middle;\n",
       "    }\n",
       "\n",
       "    .dataframe tbody tr th {\n",
       "        vertical-align: top;\n",
       "    }\n",
       "\n",
       "    .dataframe thead th {\n",
       "        text-align: right;\n",
       "    }\n",
       "</style>\n",
       "<table border=\"1\" class=\"dataframe\">\n",
       "  <thead>\n",
       "    <tr style=\"text-align: right;\">\n",
       "      <th></th>\n",
       "      <th>Acidentes</th>\n",
       "    </tr>\n",
       "    <tr>\n",
       "      <th>Temporada</th>\n",
       "      <th></th>\n",
       "    </tr>\n",
       "  </thead>\n",
       "  <tbody>\n",
       "    <tr>\n",
       "      <th>1950</th>\n",
       "      <td>13</td>\n",
       "    </tr>\n",
       "    <tr>\n",
       "      <th>1951</th>\n",
       "      <td>9</td>\n",
       "    </tr>\n",
       "    <tr>\n",
       "      <th>1952</th>\n",
       "      <td>5</td>\n",
       "    </tr>\n",
       "    <tr>\n",
       "      <th>1953</th>\n",
       "      <td>13</td>\n",
       "    </tr>\n",
       "    <tr>\n",
       "      <th>1954</th>\n",
       "      <td>13</td>\n",
       "    </tr>\n",
       "    <tr>\n",
       "      <th>...</th>\n",
       "      <td>...</td>\n",
       "    </tr>\n",
       "    <tr>\n",
       "      <th>2017</th>\n",
       "      <td>26</td>\n",
       "    </tr>\n",
       "    <tr>\n",
       "      <th>2018</th>\n",
       "      <td>26</td>\n",
       "    </tr>\n",
       "    <tr>\n",
       "      <th>2019</th>\n",
       "      <td>21</td>\n",
       "    </tr>\n",
       "    <tr>\n",
       "      <th>2020</th>\n",
       "      <td>18</td>\n",
       "    </tr>\n",
       "    <tr>\n",
       "      <th>2021</th>\n",
       "      <td>1</td>\n",
       "    </tr>\n",
       "  </tbody>\n",
       "</table>\n",
       "<p>72 rows × 1 columns</p>\n",
       "</div>"
      ],
      "text/plain": [
       "           Acidentes\n",
       "Temporada           \n",
       "1950              13\n",
       "1951               9\n",
       "1952               5\n",
       "1953              13\n",
       "1954              13\n",
       "...              ...\n",
       "2017              26\n",
       "2018              26\n",
       "2019              21\n",
       "2020              18\n",
       "2021               1\n",
       "\n",
       "[72 rows x 1 columns]"
      ]
     },
     "execution_count": 18,
     "metadata": {},
     "output_type": "execute_result"
    }
   ],
   "source": [
    "newdata = pd.merge(races, df_acidentes, on=\"raceId\")\n",
    "newdata = newdata.drop([\"url\", \"grid\", \"time\", \"round\", \"date\", \"resultId\", \"driverId\",\"raceId\", \"circuitId\", \"constructorId\",\"name\",\"statusId\"], axis=1)\n",
    "newdata = newdata.rename(columns={\"year\":\"Temporada\"})\n",
    "\n",
    "q_acidentes = np.full((1834), 1)\n",
    "newdata[\"Acidentes\"]= q_acidentes\n",
    "\n",
    "newdata = newdata.sort_values(by=\"Temporada\")\n",
    "newdata = newdata.reset_index(drop=True)\n",
    "newdata = newdata.groupby(\"Temporada\").sum()\n",
    "newdata"
   ]
  },
  {
   "cell_type": "markdown",
   "metadata": {},
   "source": [
    "## Medidas de Centralidade e Dispersão"
   ]
  },
  {
   "cell_type": "code",
   "execution_count": 19,
   "metadata": {},
   "outputs": [
    {
     "data": {
      "text/html": [
       "<div>\n",
       "<style scoped>\n",
       "    .dataframe tbody tr th:only-of-type {\n",
       "        vertical-align: middle;\n",
       "    }\n",
       "\n",
       "    .dataframe tbody tr th {\n",
       "        vertical-align: top;\n",
       "    }\n",
       "\n",
       "    .dataframe thead th {\n",
       "        text-align: right;\n",
       "    }\n",
       "</style>\n",
       "<table border=\"1\" class=\"dataframe\">\n",
       "  <thead>\n",
       "    <tr style=\"text-align: right;\">\n",
       "      <th></th>\n",
       "      <th>Acidentes</th>\n",
       "    </tr>\n",
       "  </thead>\n",
       "  <tbody>\n",
       "    <tr>\n",
       "      <th>Média</th>\n",
       "      <td>25.472222</td>\n",
       "    </tr>\n",
       "    <tr>\n",
       "      <th>Mediana</th>\n",
       "      <td>25.000000</td>\n",
       "    </tr>\n",
       "    <tr>\n",
       "      <th>Desvio Padrão</th>\n",
       "      <td>12.844654</td>\n",
       "    </tr>\n",
       "  </tbody>\n",
       "</table>\n",
       "</div>"
      ],
      "text/plain": [
       "               Acidentes\n",
       "Média          25.472222\n",
       "Mediana        25.000000\n",
       "Desvio Padrão  12.844654"
      ]
     },
     "execution_count": 19,
     "metadata": {},
     "output_type": "execute_result"
    }
   ],
   "source": [
    "Medidas_A = {\"Média\": newdata[\"Acidentes\"].mean(),\n",
    "                  \"Mediana\": newdata[\"Acidentes\"].median(),\n",
    "                  \"Desvio Padrão\": newdata[\"Acidentes\"].std()}\n",
    "medidas_a = pd.Series(Medidas_A)\n",
    "\n",
    "d_a_medidas = pd.DataFrame({\"Acidentes\": medidas_a})\n",
    "d_a_medidas"
   ]
  },
  {
   "cell_type": "markdown",
   "metadata": {},
   "source": [
    "## Boxplot"
   ]
  },
  {
   "cell_type": "code",
   "execution_count": 20,
   "metadata": {},
   "outputs": [
    {
     "data": {
      "text/plain": [
       "<matplotlib.axes._subplots.AxesSubplot at 0x17326ee3c88>"
      ]
     },
     "execution_count": 20,
     "metadata": {},
     "output_type": "execute_result"
    },
    {
     "data": {
      "image/png": "[encoded data removed]",
      "text/plain": [
       "<Figure size 432x288 with 1 Axes>"
      ]
     },
     "metadata": {
      "needs_background": "light"
     },
     "output_type": "display_data"
    }
   ],
   "source": [
    "newdata.boxplot(column=\"Acidentes\")"
   ]
  },
  {
   "cell_type": "markdown",
   "metadata": {},
   "source": [
    "## Gráfico de Linha"
   ]
  },
  {
   "cell_type": "code",
   "execution_count": 21,
   "metadata": {},
   "outputs": [
    {
     "data": {
      "text/plain": [
       "Text(0.5, 1.0, 'Acidentes por temporada')"
      ]
     },
     "execution_count": 21,
     "metadata": {},
     "output_type": "execute_result"
    },
    {
     "data": {
      "image/png": "[encoded data removed]",
      "text/plain": [
       "<Figure size 432x288 with 1 Axes>"
      ]
     },
     "metadata": {
      "needs_background": "light"
     },
     "output_type": "display_data"
    }
   ],
   "source": [
    "newdata = newdata.reset_index()\n",
    "sns.lineplot(data=newdata, x=\"Temporada\", y=\"Acidentes\", marker=\"o\")\n",
    "plt.title(\"Acidentes por temporada\")"
   ]
  },
  {
   "cell_type": "markdown",
   "metadata": {},
   "source": [
    "## Histograma"
   ]
  },
  {
   "cell_type": "code",
   "execution_count": 22,
   "metadata": {},
   "outputs": [
    {
     "data": {
      "text/plain": [
       "array([[<matplotlib.axes._subplots.AxesSubplot object at 0x0000017324D2B348>]],\n",
       "      dtype=object)"
      ]
     },
     "execution_count": 22,
     "metadata": {},
     "output_type": "execute_result"
    },
    {
     "data": {
      "image/png": "[encoded data removed]",
      "text/plain": [
       "<Figure size 432x288 with 1 Axes>"
      ]
     },
     "metadata": {
      "needs_background": "light"
     },
     "output_type": "display_data"
    }
   ],
   "source": [
    "newdata.hist(column=\"Acidentes\", bins=15)"
   ]
  },
  {
   "cell_type": "code",
   "execution_count": null,
   "metadata": {},
   "outputs": [],
   "source": []
  },
  {
   "cell_type": "markdown",
   "metadata": {},
   "source": [
    "# DataFrame - Fórmula 1"
   ]
  },
  {
   "cell_type": "code",
   "execution_count": null,
   "metadata": {},
   "outputs": [],
   "source": [
    "races = pd.read_csv(\"../../caiov/ICD/projeto_csv/races.csv\")\n",
    "races = races.drop([\"time\",\"url\"], axis=1)\n",
    "\n",
    "results = results.drop([\"statusId\", \"points\", \"positionText\", \"number\", \"position\", \"milliseconds\"], axis=1)\n",
    "results = results.rename(columns={\"positionOrder\":\"Vitórias_P\"})"
   ]
  },
  {
   "cell_type": "code",
   "execution_count": null,
   "metadata": {},
   "outputs": [],
   "source": [
    "teams_results2 = pd.merge(results,teams, on=\"constructorId\")\n",
    "teams_results2 = teams_results2.drop([\"constructorRef\",\"url\", \"Vitórias_P\"], axis=1)\n",
    "teams_results2 = teams_results2.drop([\"nationality\",\"raceId\",\"resultId\",\"grid\",\"laps\",\"time\",\"fastestLap\",\"rank\",\"fastestLapTime\",\"fastestLapSpeed\"], axis=1)\n",
    "teams_results2 #(F15)\n",
    "\n",
    "drivers_results2 = pd.merge(results, drivers, on=\"driverId\")\n",
    "drivers_results2 = drivers_results2.rename(columns={\"Vitórias_P\":\"Posição Final\"})\n",
    "drivers_results2 #(F10)\n",
    "\n",
    "t_d_results = pd.merge(teams_results2,drivers_results2, on=[\"driverId\",\"constructorId\"])\n",
    "t_d_results = t_d_results.drop([\"rank\",\"fastestLap\",\"driverRef\",\"laps\",\"resultId\"],axis=1)\n",
    "t_d_results = t_d_results.reindex(columns=[\"raceId\",\"driverId\",\"Pilotos\",\"code\",\"nationality\",\"constructorId\",\"name\",\"grid\",\"Posição Final\",\"time\",\"fastestLapTime\",\"fastestLapSpeed\"])\n",
    "t_d_results = t_d_results.rename(columns={\"name\":\"Montadoras\"})\n",
    "\n",
    "formula_1 = pd.merge(t_d_results,races, on=\"raceId\")\n",
    "formula_1 = formula_1.reindex(columns=[\"raceId\",\"round\",\"circuitId\",\"name\",\"date\",\"year\",\"driverId\",\"Pilotos\",\"code\",\"nationality\",\"Montadoras\",\"constructorId\",\"grid\",\"Posição Final\",\"time\",\"fastestLapTime\",\"fastestLapSpeed\"])\n",
    "formula_1 = formula_1.drop_duplicates()\n",
    "formula_1 = formula_1.sort_values(by=\"date\")\n",
    "formula_1"
   ]
  },
  {
   "cell_type": "code",
   "execution_count": null,
   "metadata": {},
   "outputs": [],
   "source": []
  },
  {
   "cell_type": "markdown",
   "metadata": {},
   "source": [
    "## Monaco (1950-1968) e (2005-2019)"
   ]
  },
  {
   "cell_type": "code",
   "execution_count": null,
   "metadata": {},
   "outputs": [],
   "source": [
    "Monaco_1 = formula_1[formula_1.circuitId == 6]\n",
    "Monaco_1 = Monaco_1[Monaco_1.year <= 1968]\n",
    "Monaco_1 = Monaco_1.sort_values(by=\"Posição Final\")\n",
    "Monaco_1"
   ]
  },
  {
   "cell_type": "code",
   "execution_count": null,
   "metadata": {},
   "outputs": [],
   "source": [
    "Monaco_2 = formula_1[formula_1.circuitId == 6]\n",
    "Monaco_2 = Monaco_2[Monaco_2.year >= 2005]\n",
    "Monaco_2 = Monaco_2.sort_values(by=\"Posição Final\")\n",
    "Monaco_2"
   ]
  },
  {
   "cell_type": "code",
   "execution_count": null,
   "metadata": {},
   "outputs": [],
   "source": []
  },
  {
   "cell_type": "markdown",
   "metadata": {},
   "source": [
    "## Monza (1950-1964) e (2006-2020)"
   ]
  },
  {
   "cell_type": "code",
   "execution_count": null,
   "metadata": {},
   "outputs": [],
   "source": [
    "Monza_1 = formula_1[formula_1.circuitId == 14]\n",
    "Monza_1 = Monza_1[Monza_1.year <= 1964]\n",
    "Monza_1 = Monza_1.sort_values(by=\"date\")\n",
    "Monza_1"
   ]
  },
  {
   "cell_type": "code",
   "execution_count": null,
   "metadata": {},
   "outputs": [],
   "source": [
    "Monza_2 = formula_1[formula_1.circuitId == 14]\n",
    "Monza_2 = Monza_2[Monza_2.year >= 2006]\n",
    "Monza_2 = Monza_2.sort_values(by=\"date\")\n",
    "Monza_2"
   ]
  },
  {
   "cell_type": "code",
   "execution_count": null,
   "metadata": {},
   "outputs": [],
   "source": []
  }
 ],
 "metadata": {
  "kernelspec": {
   "display_name": "Python 3",
   "language": "python",
   "name": "python3"
  },
  "language_info": {
   "codemirror_mode": {
    "name": "ipython",
    "version": 3
   },
   "file_extension": ".py",
   "mimetype": "text/x-python",
   "name": "python",
   "nbconvert_exporter": "python",
   "pygments_lexer": "ipython3",
   "version": "3.7.6"
  }
 },
 "nbformat": 4,
 "nbformat_minor": 4
}
