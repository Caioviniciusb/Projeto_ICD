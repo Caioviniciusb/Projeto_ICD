{
 "cells": [
  {
   "cell_type": "markdown",
   "metadata": {},
   "source": [
    "# Introdução à Ciência de Dados - UFPB \n",
    "#### Professor: Yuri Malheiros\n",
    "## Projeto Final   \n",
    "\n",
    "<img src=\"formula_1.png\" style=\"width:500px;height:125px\"/>\n",
    "\n",
    "**Caio Araújo - 20200024082  \n",
    "William Xavier - 20200023960**"
   ]
  },
  {
   "cell_type": "markdown",
   "metadata": {},
   "source": [
    "## Introdução\n",
    "\n",
    "Neste projeto analisaremos diversos dados sobre as corridas de Fórmula 1 desde seu início em 1950 até 2020, dados como: maiores vencedores, números de acidentes e a evolução das velocidades com o passar dos anos. Nossa **motivação** e **objetivo** é demonstrar a riqueza dos dados que são gerados a partir das corridas e a evolução deste esporte, que movimenta milhares espectadores pelo mundo, assim como suas mudanças."
   ]
  },
  {
   "cell_type": "code",
   "execution_count": 1,
   "metadata": {},
   "outputs": [],
   "source": [
    "import numpy as np\n",
    "import pandas as pd \n",
    "import seaborn as sns\n",
    "import matplotlib.pyplot as plt\n",
    "import datetime as dt\n",
    "sns.set_palette('Set2')"
   ]
  },
  {
   "cell_type": "markdown",
   "metadata": {},
   "source": [
    "## Dados Utilizados\n",
    "\n",
    "13 datasets foram utilizados tirados do site Kaggle, são dados de diferentes \"setores\" das corridas como: circuitos, pilotos, montadoras, resultados, classificações, pit-stop, etc. Além disso, realizamos uma busca pelas mudanças das regras na Fórmula 1 e utilizamos informações contidas no regulamento de 2011.  \n",
    "**Links:**  \n",
    " * Datasets: [Datasets](https://www.kaggle.com/rohanrao/formula-1-world-championship-1950-2020)  \n",
    " * Regulamento 2011: [Regulamento 2011](https://esporte.ig.com.br/automobilismo/f1/regulamento/)\n",
    "  "
   ]
  },
  {
   "cell_type": "markdown",
   "metadata": {},
   "source": [
    "## Pré-processamento\n",
    "\n",
    "Os datasets escolhidos possuem muitas colunas que não utilizamos em nossa análise, por isso foi necessário fazermos uma limpeza dos dados. \n",
    "\n",
    "**Maiores Vencedores:**\n",
    "* Nos dataframes referentes aos \"Maiores Vencedores\", tiramos as colunas que não eram necessárias, usamos uma máscara para deixar apenas os pilotos que haviam vencido as corridas e também o groupby para realizar a contagem das vitórias. Também calculamos as medidas de centralidade e dispersão e fizemos um gráfico de barra para facilitar a visualização dos dados.\n",
    "\n",
    "**Acidentes:**\n",
    "* Na análise dos acidentes foi necessário mesclar 2 datasets, além disso somamos 2 status _(um dataset possui um tipo de legenda para status de acontecimentos durante um GP. Ex. Vitória, acidente, colisão, etc)_ que foram os de colisões e acidentes, não sabemos ao certo o critério que o autor dos dados utilizou para classificar esses acontecimentos, por isso somamos os 2 para realizar a análise. Além disso utilizamos um gráfico de linha que permitiu vermos os anos em que tivemos altas e baixas na quantidade de acidentes.\n",
    "\n",
    "**Fórmula 1 - Velocidades**\n",
    "* No dataframe que utilizamos como base para calcular as mudanças das velocidades tivemos que mesclar 3 datasets para obtermos os dados necessários, juntamente com isso fizemos a limpeza de algumas colunas, dados nulos e dados repetidos. Utilizamos um gráfico de linha que nos permitiu observar a evolução das velocidades a cada ano em determinados GP's. \n",
    "\n",
    "**Cálculo Z-score**\n",
    "* No dataframe utilizado para calcular o z-score precisamos transformar o tipo dos elementos da coluna \"time\", que era _string_ para o tipo _time_ , pra isso tivemos que transformar usando o `to_datetime` e depois criamos uma coluna com os segundos de acordo com o tempo obtido da transformação, era preciso realizar esse processo para conseguirmos calcular a média e consequentemente o z-score, uma vez que não é possível calcular a média com dados do tipo _time_ .\n",
    "\n"
   ]
  },
  {
   "cell_type": "markdown",
   "metadata": {},
   "source": [
    "# Perguntas:\n",
    "## Quais pilotos venceram mais corridas desde 1950 até 2020 ?"
   ]
  },
  {
   "cell_type": "code",
   "execution_count": 2,
   "metadata": {},
   "outputs": [],
   "source": [
    "results = pd.read_csv(\"../../caiov/ICD/projeto_csv/results.csv\")\n",
    "drivers = pd.read_csv(\"../../caiov/ICD/projeto_csv/drivers.csv\")"
   ]
  },
  {
   "cell_type": "code",
   "execution_count": 3,
   "metadata": {},
   "outputs": [
    {
     "data": {
      "text/html": [
       "<div>\n",
       "<style scoped>\n",
       "    .dataframe tbody tr th:only-of-type {\n",
       "        vertical-align: middle;\n",
       "    }\n",
       "\n",
       "    .dataframe tbody tr th {\n",
       "        vertical-align: top;\n",
       "    }\n",
       "\n",
       "    .dataframe thead th {\n",
       "        text-align: right;\n",
       "    }\n",
       "</style>\n",
       "<table border=\"1\" class=\"dataframe\">\n",
       "  <thead>\n",
       "    <tr style=\"text-align: right;\">\n",
       "      <th></th>\n",
       "      <th>Vitórias_P</th>\n",
       "    </tr>\n",
       "    <tr>\n",
       "      <th>Pilotos</th>\n",
       "      <th></th>\n",
       "    </tr>\n",
       "  </thead>\n",
       "  <tbody>\n",
       "    <tr>\n",
       "      <th>Lewis Hamilton</th>\n",
       "      <td>96</td>\n",
       "    </tr>\n",
       "    <tr>\n",
       "      <th>Michael Schumacher</th>\n",
       "      <td>91</td>\n",
       "    </tr>\n",
       "    <tr>\n",
       "      <th>Sebastian Vettel</th>\n",
       "      <td>53</td>\n",
       "    </tr>\n",
       "    <tr>\n",
       "      <th>Alain Prost</th>\n",
       "      <td>51</td>\n",
       "    </tr>\n",
       "    <tr>\n",
       "      <th>Ayrton Senna</th>\n",
       "      <td>41</td>\n",
       "    </tr>\n",
       "    <tr>\n",
       "      <th>Fernando Alonso</th>\n",
       "      <td>32</td>\n",
       "    </tr>\n",
       "    <tr>\n",
       "      <th>Nigel Mansell</th>\n",
       "      <td>31</td>\n",
       "    </tr>\n",
       "    <tr>\n",
       "      <th>Jackie Stewart</th>\n",
       "      <td>27</td>\n",
       "    </tr>\n",
       "    <tr>\n",
       "      <th>Niki Lauda</th>\n",
       "      <td>25</td>\n",
       "    </tr>\n",
       "    <tr>\n",
       "      <th>Jim Clark</th>\n",
       "      <td>25</td>\n",
       "    </tr>\n",
       "    <tr>\n",
       "      <th>Juan Fangio</th>\n",
       "      <td>24</td>\n",
       "    </tr>\n",
       "    <tr>\n",
       "      <th>Nico Rosberg</th>\n",
       "      <td>23</td>\n",
       "    </tr>\n",
       "    <tr>\n",
       "      <th>Nelson Piquet</th>\n",
       "      <td>23</td>\n",
       "    </tr>\n",
       "    <tr>\n",
       "      <th>Damon Hill</th>\n",
       "      <td>22</td>\n",
       "    </tr>\n",
       "    <tr>\n",
       "      <th>Kimi Räikkönen</th>\n",
       "      <td>21</td>\n",
       "    </tr>\n",
       "  </tbody>\n",
       "</table>\n",
       "</div>"
      ],
      "text/plain": [
       "                    Vitórias_P\n",
       "Pilotos                       \n",
       "Lewis Hamilton              96\n",
       "Michael Schumacher          91\n",
       "Sebastian Vettel            53\n",
       "Alain Prost                 51\n",
       "Ayrton Senna                41\n",
       "Fernando Alonso             32\n",
       "Nigel Mansell               31\n",
       "Jackie Stewart              27\n",
       "Niki Lauda                  25\n",
       "Jim Clark                   25\n",
       "Juan Fangio                 24\n",
       "Nico Rosberg                23\n",
       "Nelson Piquet               23\n",
       "Damon Hill                  22\n",
       "Kimi Räikkönen              21"
      ]
     },
     "execution_count": 3,
     "metadata": {},
     "output_type": "execute_result"
    }
   ],
   "source": [
    "results = results.drop([\"statusId\", \"points\", \"positionText\", \"number\", \"position\", \"milliseconds\"], axis=1)\n",
    "results = results.rename(columns={\"positionOrder\":\"Vitórias_P\"})\n",
    "results = results[results.Vitórias_P == 1]\n",
    "\n",
    "drivers = drivers.loc[\"0\":,\"driverId\":\"nationality\"]\n",
    "drivers[\"Pilotos\"] = drivers[\"forename\"] + \" \" + drivers[\"surname\"]\n",
    "drivers = drivers.drop([\"dob\",\"number\",\"forename\",\"surname\"], axis=1)\n",
    "drivers = drivers.reindex(columns=['driverId','driverRef','code','Pilotos','nationality'])\n",
    "\n",
    "drivers_results = pd.merge(drivers,results, on=\"driverId\")\n",
    "\n",
    "drivers_wins = drivers_results.groupby(\"Pilotos\").count()\n",
    "drivers_wins = drivers_wins.sort_values(by=\"Vitórias_P\", ascending=False)[[\"Vitórias_P\"]]\n",
    "d_w_barplot = drivers_wins.iloc[:10]\n",
    "drivers_wins.iloc[:15]"
   ]
  },
  {
   "cell_type": "markdown",
   "metadata": {},
   "source": [
    "<img src=\"hamilton.jpg\" style=\"width:500px;height:350px\"/>"
   ]
  },
  {
   "cell_type": "markdown",
   "metadata": {},
   "source": [
    "Análise: Vemos que Lewis Hamilton após **15 temporadas** na Fórmula 1, e **267 GP's** disputados, alcançou o recorde do grande campeão Michael Schumacher que era de **91 vitórias** em **308 GP's**, que disputou durante **19 temporadas**, estabelecendo o recorde que atualmente é de **96 vitórias**. Ambos possuem **7 títulos** da Fórmula 1."
   ]
  },
  {
   "cell_type": "markdown",
   "metadata": {},
   "source": [
    "## Medidas de Centralidade e Dispersão"
   ]
  },
  {
   "cell_type": "code",
   "execution_count": 4,
   "metadata": {},
   "outputs": [
    {
     "data": {
      "text/html": [
       "<div>\n",
       "<style scoped>\n",
       "    .dataframe tbody tr th:only-of-type {\n",
       "        vertical-align: middle;\n",
       "    }\n",
       "\n",
       "    .dataframe tbody tr th {\n",
       "        vertical-align: top;\n",
       "    }\n",
       "\n",
       "    .dataframe thead th {\n",
       "        text-align: right;\n",
       "    }\n",
       "</style>\n",
       "<table border=\"1\" class=\"dataframe\">\n",
       "  <thead>\n",
       "    <tr style=\"text-align: right;\">\n",
       "      <th></th>\n",
       "      <th>Vitórias_P</th>\n",
       "    </tr>\n",
       "  </thead>\n",
       "  <tbody>\n",
       "    <tr>\n",
       "      <th>Média</th>\n",
       "      <td>9.445455</td>\n",
       "    </tr>\n",
       "    <tr>\n",
       "      <th>Mediana</th>\n",
       "      <td>4.000000</td>\n",
       "    </tr>\n",
       "    <tr>\n",
       "      <th>Desvio Padrão</th>\n",
       "      <td>15.269798</td>\n",
       "    </tr>\n",
       "  </tbody>\n",
       "</table>\n",
       "</div>"
      ],
      "text/plain": [
       "               Vitórias_P\n",
       "Média            9.445455\n",
       "Mediana          4.000000\n",
       "Desvio Padrão   15.269798"
      ]
     },
     "execution_count": 4,
     "metadata": {},
     "output_type": "execute_result"
    }
   ],
   "source": [
    "Medidas_P = {\"Média\": drivers_wins[\"Vitórias_P\"].mean(),\n",
    "                  \"Mediana\": drivers_wins[\"Vitórias_P\"].median(),\n",
    "                  \"Desvio Padrão\": drivers_wins[\"Vitórias_P\"].std()}\n",
    "medidas_p = pd.Series(Medidas_P)\n",
    "\n",
    "d_w_medidas = pd.DataFrame({\"Vitórias_P\": medidas_p})\n",
    "d_w_medidas"
   ]
  },
  {
   "cell_type": "markdown",
   "metadata": {},
   "source": [
    "Análise: A **média** encontrada a partir desses valores não condiz muito com os dados que vemos em nosso **top 15**, pois há vários\n",
    "    pilotos que venceram um GP, mas não seguiram vencendo, fazendo com que a média baixe, é por isso que temos um **desvio padrão** tão elevado."
   ]
  },
  {
   "cell_type": "markdown",
   "metadata": {},
   "source": [
    "## Boxplot"
   ]
  },
  {
   "cell_type": "code",
   "execution_count": 5,
   "metadata": {},
   "outputs": [
    {
     "data": {
      "text/plain": [
       "<matplotlib.axes._subplots.AxesSubplot at 0x239997f1f08>"
      ]
     },
     "execution_count": 5,
     "metadata": {},
     "output_type": "execute_result"
    },
    {
     "data": {
      "image/png": "[encoded data removed]",
      "text/plain": [
       "<Figure size 432x288 with 1 Axes>"
      ]
     },
     "metadata": {
      "needs_background": "light"
     },
     "output_type": "display_data"
    }
   ],
   "source": [
    "drivers_wins.boxplot(column=\"Vitórias_P\")"
   ]
  },
  {
   "cell_type": "markdown",
   "metadata": {},
   "source": [
    "## Gráfico de Barra"
   ]
  },
  {
   "cell_type": "code",
   "execution_count": 6,
   "metadata": {},
   "outputs": [
    {
     "data": {
      "text/plain": [
       "Text(0.5, 1.0, 'Top 10 Pilotos Vencedores')"
      ]
     },
     "execution_count": 6,
     "metadata": {},
     "output_type": "execute_result"
    },
    {
     "data": {
      "image/png": "[encoded data removed]",
      "text/plain": [
       "<Figure size 432x288 with 1 Axes>"
      ]
     },
     "metadata": {
      "needs_background": "light"
     },
     "output_type": "display_data"
    }
   ],
   "source": [
    "d_w_barplot = d_w_barplot.reset_index()\n",
    "sns.barplot(data=d_w_barplot, x=\"Pilotos\", y=\"Vitórias_P\")\n",
    "plt.xticks(rotation=60)\n",
    "plt.title(\"Top 10 Pilotos Vencedores\")"
   ]
  },
  {
   "cell_type": "markdown",
   "metadata": {},
   "source": [
    "## Quais montadoras/equipes venceram mais corridas ?"
   ]
  },
  {
   "cell_type": "code",
   "execution_count": 7,
   "metadata": {},
   "outputs": [],
   "source": [
    "teams = pd.read_csv(\"../../caiov/ICD/projeto_csv/constructors.csv\")"
   ]
  },
  {
   "cell_type": "code",
   "execution_count": 8,
   "metadata": {},
   "outputs": [
    {
     "data": {
      "text/html": [
       "<div>\n",
       "<style scoped>\n",
       "    .dataframe tbody tr th:only-of-type {\n",
       "        vertical-align: middle;\n",
       "    }\n",
       "\n",
       "    .dataframe tbody tr th {\n",
       "        vertical-align: top;\n",
       "    }\n",
       "\n",
       "    .dataframe thead th {\n",
       "        text-align: right;\n",
       "    }\n",
       "</style>\n",
       "<table border=\"1\" class=\"dataframe\">\n",
       "  <thead>\n",
       "    <tr style=\"text-align: right;\">\n",
       "      <th></th>\n",
       "      <th>Vitórias_E</th>\n",
       "    </tr>\n",
       "    <tr>\n",
       "      <th>Equipes</th>\n",
       "      <th></th>\n",
       "    </tr>\n",
       "  </thead>\n",
       "  <tbody>\n",
       "    <tr>\n",
       "      <th>Ferrari</th>\n",
       "      <td>239</td>\n",
       "    </tr>\n",
       "    <tr>\n",
       "      <th>McLaren</th>\n",
       "      <td>178</td>\n",
       "    </tr>\n",
       "    <tr>\n",
       "      <th>Mercedes</th>\n",
       "      <td>116</td>\n",
       "    </tr>\n",
       "    <tr>\n",
       "      <th>Williams</th>\n",
       "      <td>114</td>\n",
       "    </tr>\n",
       "    <tr>\n",
       "      <th>Red Bull</th>\n",
       "      <td>64</td>\n",
       "    </tr>\n",
       "    <tr>\n",
       "      <th>Team Lotus</th>\n",
       "      <td>45</td>\n",
       "    </tr>\n",
       "    <tr>\n",
       "      <th>Renault</th>\n",
       "      <td>35</td>\n",
       "    </tr>\n",
       "    <tr>\n",
       "      <th>Benetton</th>\n",
       "      <td>27</td>\n",
       "    </tr>\n",
       "    <tr>\n",
       "      <th>Brabham</th>\n",
       "      <td>23</td>\n",
       "    </tr>\n",
       "    <tr>\n",
       "      <th>Tyrrell</th>\n",
       "      <td>23</td>\n",
       "    </tr>\n",
       "    <tr>\n",
       "      <th>Lotus-Climax</th>\n",
       "      <td>22</td>\n",
       "    </tr>\n",
       "    <tr>\n",
       "      <th>BRM</th>\n",
       "      <td>17</td>\n",
       "    </tr>\n",
       "    <tr>\n",
       "      <th>Cooper-Climax</th>\n",
       "      <td>12</td>\n",
       "    </tr>\n",
       "    <tr>\n",
       "      <th>Alfa Romeo</th>\n",
       "      <td>11</td>\n",
       "    </tr>\n",
       "    <tr>\n",
       "      <th>Lotus-Ford</th>\n",
       "      <td>11</td>\n",
       "    </tr>\n",
       "  </tbody>\n",
       "</table>\n",
       "</div>"
      ],
      "text/plain": [
       "               Vitórias_E\n",
       "Equipes                  \n",
       "Ferrari               239\n",
       "McLaren               178\n",
       "Mercedes              116\n",
       "Williams              114\n",
       "Red Bull               64\n",
       "Team Lotus             45\n",
       "Renault                35\n",
       "Benetton               27\n",
       "Brabham                23\n",
       "Tyrrell                23\n",
       "Lotus-Climax           22\n",
       "BRM                    17\n",
       "Cooper-Climax          12\n",
       "Alfa Romeo             11\n",
       "Lotus-Ford             11"
      ]
     },
     "execution_count": 8,
     "metadata": {},
     "output_type": "execute_result"
    }
   ],
   "source": [
    "teams_results = pd.merge(teams,results, on=\"constructorId\")\n",
    "teams_results = teams_results.drop([\"constructorRef\",\"url\"], axis=1)\n",
    "\n",
    "teams_results = teams_results.rename(columns={\"name\":\"Equipes\"})\n",
    "teams_results = teams_results.rename(columns={\"constructorId\":\"Vitórias_E\"})\n",
    "\n",
    "teams_wins = teams_results.groupby(\"Equipes\").count()\n",
    "teams_wins = teams_wins.sort_values(by=\"Vitórias_E\", ascending=False)[[\"Vitórias_E\"]]\n",
    "t_w_barplot = teams_wins.iloc[:10]\n",
    "teams_wins.iloc[:15]"
   ]
  },
  {
   "cell_type": "markdown",
   "metadata": {},
   "source": [
    "<img src=\"ferrari.jpg\" style=\"width:450px;height:325px\"/>"
   ]
  },
  {
   "cell_type": "markdown",
   "metadata": {},
   "source": [
    "Análise: Aqui vemos a hegemonia no quesito mais vitórias da Ferrari, fundada em 1939 por **Enzo Ferrari**, a equipe **Scuderia Ferrari**\n",
    "    é a equipe **mais antiga** em atividade na Fórmula 1, é a única a ter competido em todas as temporadas do mundial até hoje.\n",
    "    Curiosamente a Ferrari só veio a ganhar seu primeiro GP em **1951** na **Grã-Bretanha**, perdendo todos os 11 GP's disputados em\n",
    "    1950 para a equipe **Alfa Romeo** que mais tarde, em 1951, se retirou da Fórmula 1.\n",
    "    "
   ]
  },
  {
   "cell_type": "markdown",
   "metadata": {},
   "source": [
    "## Medidas de Centralidade e Dispersão"
   ]
  },
  {
   "cell_type": "code",
   "execution_count": 9,
   "metadata": {},
   "outputs": [
    {
     "data": {
      "text/html": [
       "<div>\n",
       "<style scoped>\n",
       "    .dataframe tbody tr th:only-of-type {\n",
       "        vertical-align: middle;\n",
       "    }\n",
       "\n",
       "    .dataframe tbody tr th {\n",
       "        vertical-align: top;\n",
       "    }\n",
       "\n",
       "    .dataframe thead th {\n",
       "        text-align: right;\n",
       "    }\n",
       "</style>\n",
       "<table border=\"1\" class=\"dataframe\">\n",
       "  <thead>\n",
       "    <tr style=\"text-align: right;\">\n",
       "      <th></th>\n",
       "      <th>Vitórias_E</th>\n",
       "    </tr>\n",
       "  </thead>\n",
       "  <tbody>\n",
       "    <tr>\n",
       "      <th>Média</th>\n",
       "      <td>22.586957</td>\n",
       "    </tr>\n",
       "    <tr>\n",
       "      <th>Mediana</th>\n",
       "      <td>4.000000</td>\n",
       "    </tr>\n",
       "    <tr>\n",
       "      <th>Desvio Padrão</th>\n",
       "      <td>47.768226</td>\n",
       "    </tr>\n",
       "  </tbody>\n",
       "</table>\n",
       "</div>"
      ],
      "text/plain": [
       "               Vitórias_E\n",
       "Média           22.586957\n",
       "Mediana          4.000000\n",
       "Desvio Padrão   47.768226"
      ]
     },
     "execution_count": 9,
     "metadata": {},
     "output_type": "execute_result"
    }
   ],
   "source": [
    "Medidas_E = {\"Média\": teams_wins[\"Vitórias_E\"].mean(),\n",
    "                  \"Mediana\": teams_wins[\"Vitórias_E\"].median(),\n",
    "                  \"Desvio Padrão\": teams_wins[\"Vitórias_E\"].std()}\n",
    "medidas_e = pd.Series(Medidas_E)\n",
    "\n",
    "t_w_medidas = pd.DataFrame({\"Vitórias_E\": medidas_e})\n",
    "t_w_medidas"
   ]
  },
  {
   "cell_type": "markdown",
   "metadata": {},
   "source": [
    "Análise: Pelo mesmo motivo citado acima, aqui vemos um **desvio padrão muito elevado** pela quantidade de equipes que já disputaram\n",
    "    algum GP na fórmula 1, que são 46 equipes listadas nos dados encontrados."
   ]
  },
  {
   "cell_type": "markdown",
   "metadata": {},
   "source": [
    "## Boxplot"
   ]
  },
  {
   "cell_type": "code",
   "execution_count": 10,
   "metadata": {},
   "outputs": [
    {
     "data": {
      "text/plain": [
       "<matplotlib.axes._subplots.AxesSubplot at 0x2399b55e588>"
      ]
     },
     "execution_count": 10,
     "metadata": {},
     "output_type": "execute_result"
    },
    {
     "data": {
      "image/png": "[encoded data removed]",
      "text/plain": [
       "<Figure size 432x288 with 1 Axes>"
      ]
     },
     "metadata": {
      "needs_background": "light"
     },
     "output_type": "display_data"
    }
   ],
   "source": [
    "teams_wins.boxplot(column=\"Vitórias_E\")"
   ]
  },
  {
   "cell_type": "markdown",
   "metadata": {},
   "source": [
    "## Gráfico de Barra"
   ]
  },
  {
   "cell_type": "code",
   "execution_count": 11,
   "metadata": {},
   "outputs": [
    {
     "data": {
      "text/plain": [
       "Text(0.5, 1.0, 'Top 10 Equipes Vencedores')"
      ]
     },
     "execution_count": 11,
     "metadata": {},
     "output_type": "execute_result"
    },
    {
     "data": {
      "image/png": "[encoded data removed]",
      "text/plain": [
       "<Figure size 432x288 with 1 Axes>"
      ]
     },
     "metadata": {
      "needs_background": "light"
     },
     "output_type": "display_data"
    }
   ],
   "source": [
    "t_w_barplot = t_w_barplot.reset_index()\n",
    "sns.barplot(data=t_w_barplot, x=\"Equipes\", y=\"Vitórias_E\")\n",
    "plt.xticks(rotation=45)\n",
    "plt.title(\"Top 10 Equipes Vencedores\")"
   ]
  },
  {
   "cell_type": "markdown",
   "metadata": {},
   "source": [
    "## Acidentes + Colisões por Temporada\n",
    "Com carros que chegam a mais de 300Km/h em uma corrida, a possibilidade de acontecer acidentes neste esporte é grande. É por isso que analisaremos as temporadas que mais ocorreram acidentes na Fórmula 1, e veremos mais tarde medidas que foram tomadas\n",
    "para evitar que tais acontececem. "
   ]
  },
  {
   "cell_type": "code",
   "execution_count": 12,
   "metadata": {},
   "outputs": [],
   "source": [
    "races = pd.read_csv(\"../../caiov/ICD/projeto_csv/races.csv\")\n",
    "estatistica = pd.read_csv(\"../../caiov/ICD/projeto_csv/status.csv\")\n",
    "resultados = pd.read_csv(\"../../caiov/ICD/projeto_csv/results.csv\")\n",
    "\n",
    "df_acidentes = resultados[(resultados.statusId == 3) | (resultados.statusId == 4)]\n",
    "df_acidentes = df_acidentes.drop([\"points\", \"position\", \"positionText\", \"number\", \"time\", \"milliseconds\", \n",
    "                            \"fastestLap\", \"fastestLapTime\", \"fastestLapSpeed\",\"laps\", \"rank\", \"positionOrder\"], axis=1)"
   ]
  },
  {
   "cell_type": "code",
   "execution_count": 13,
   "metadata": {},
   "outputs": [
    {
     "data": {
      "text/html": [
       "<div>\n",
       "<style scoped>\n",
       "    .dataframe tbody tr th:only-of-type {\n",
       "        vertical-align: middle;\n",
       "    }\n",
       "\n",
       "    .dataframe tbody tr th {\n",
       "        vertical-align: top;\n",
       "    }\n",
       "\n",
       "    .dataframe thead th {\n",
       "        text-align: right;\n",
       "    }\n",
       "</style>\n",
       "<table border=\"1\" class=\"dataframe\">\n",
       "  <thead>\n",
       "    <tr style=\"text-align: right;\">\n",
       "      <th></th>\n",
       "      <th>Acidentes</th>\n",
       "    </tr>\n",
       "    <tr>\n",
       "      <th>Temporada</th>\n",
       "      <th></th>\n",
       "    </tr>\n",
       "  </thead>\n",
       "  <tbody>\n",
       "    <tr>\n",
       "      <th>1977</th>\n",
       "      <td>63</td>\n",
       "    </tr>\n",
       "    <tr>\n",
       "      <th>1975</th>\n",
       "      <td>54</td>\n",
       "    </tr>\n",
       "    <tr>\n",
       "      <th>1976</th>\n",
       "      <td>50</td>\n",
       "    </tr>\n",
       "    <tr>\n",
       "      <th>1994</th>\n",
       "      <td>49</td>\n",
       "    </tr>\n",
       "    <tr>\n",
       "      <th>1978</th>\n",
       "      <td>49</td>\n",
       "    </tr>\n",
       "    <tr>\n",
       "      <th>1981</th>\n",
       "      <td>48</td>\n",
       "    </tr>\n",
       "    <tr>\n",
       "      <th>2012</th>\n",
       "      <td>43</td>\n",
       "    </tr>\n",
       "    <tr>\n",
       "      <th>2010</th>\n",
       "      <td>42</td>\n",
       "    </tr>\n",
       "    <tr>\n",
       "      <th>2006</th>\n",
       "      <td>41</td>\n",
       "    </tr>\n",
       "    <tr>\n",
       "      <th>1982</th>\n",
       "      <td>41</td>\n",
       "    </tr>\n",
       "  </tbody>\n",
       "</table>\n",
       "</div>"
      ],
      "text/plain": [
       "           Acidentes\n",
       "Temporada           \n",
       "1977              63\n",
       "1975              54\n",
       "1976              50\n",
       "1994              49\n",
       "1978              49\n",
       "1981              48\n",
       "2012              43\n",
       "2010              42\n",
       "2006              41\n",
       "1982              41"
      ]
     },
     "execution_count": 13,
     "metadata": {},
     "output_type": "execute_result"
    }
   ],
   "source": [
    "newdata = pd.merge(races, df_acidentes, on=\"raceId\")\n",
    "newdata = newdata.drop([\"url\", \"grid\", \"time\", \"round\", \"date\", \"resultId\",\n",
    "                        \"driverId\",\"raceId\", \"circuitId\", \"constructorId\",\"name\",\"statusId\"], axis=1)\n",
    "newdata = newdata.rename(columns={\"year\":\"Temporada\"})\n",
    "\n",
    "q_acidentes = np.full((1834), 1)\n",
    "newdata[\"Acidentes\"]= q_acidentes\n",
    "\n",
    "newdata = newdata.reset_index(drop=True)\n",
    "newdata = newdata.groupby(\"Temporada\").sum()\n",
    "newdata = newdata.sort_values(by=\"Acidentes\", ascending=False)\n",
    "newdata.iloc[:10]"
   ]
  },
  {
   "cell_type": "markdown",
   "metadata": {},
   "source": [
    "Análise: Nestes dados vemos claramente um **alto índice** de acidentes em alguns anos da **década de 70**, em um gráfico que será mostrado abaixo será possível ver o que **possivelmente causou** tantos acidentes neste período."
   ]
  },
  {
   "cell_type": "markdown",
   "metadata": {},
   "source": [
    "## Medidas de Centralidade e Dispersão"
   ]
  },
  {
   "cell_type": "code",
   "execution_count": 14,
   "metadata": {},
   "outputs": [
    {
     "data": {
      "text/html": [
       "<div>\n",
       "<style scoped>\n",
       "    .dataframe tbody tr th:only-of-type {\n",
       "        vertical-align: middle;\n",
       "    }\n",
       "\n",
       "    .dataframe tbody tr th {\n",
       "        vertical-align: top;\n",
       "    }\n",
       "\n",
       "    .dataframe thead th {\n",
       "        text-align: right;\n",
       "    }\n",
       "</style>\n",
       "<table border=\"1\" class=\"dataframe\">\n",
       "  <thead>\n",
       "    <tr style=\"text-align: right;\">\n",
       "      <th></th>\n",
       "      <th>Acidentes</th>\n",
       "    </tr>\n",
       "  </thead>\n",
       "  <tbody>\n",
       "    <tr>\n",
       "      <th>Média</th>\n",
       "      <td>25.472222</td>\n",
       "    </tr>\n",
       "    <tr>\n",
       "      <th>Mediana</th>\n",
       "      <td>25.000000</td>\n",
       "    </tr>\n",
       "    <tr>\n",
       "      <th>Desvio Padrão</th>\n",
       "      <td>12.844654</td>\n",
       "    </tr>\n",
       "  </tbody>\n",
       "</table>\n",
       "</div>"
      ],
      "text/plain": [
       "               Acidentes\n",
       "Média          25.472222\n",
       "Mediana        25.000000\n",
       "Desvio Padrão  12.844654"
      ]
     },
     "execution_count": 14,
     "metadata": {},
     "output_type": "execute_result"
    }
   ],
   "source": [
    "Medidas_A = {\"Média\": newdata[\"Acidentes\"].mean(),\n",
    "                  \"Mediana\": newdata[\"Acidentes\"].median(),\n",
    "                  \"Desvio Padrão\": newdata[\"Acidentes\"].std()}\n",
    "medidas_a = pd.Series(Medidas_A)\n",
    "\n",
    "d_a_medidas = pd.DataFrame({\"Acidentes\": medidas_a})\n",
    "d_a_medidas"
   ]
  },
  {
   "cell_type": "markdown",
   "metadata": {},
   "source": [
    "## Boxplot"
   ]
  },
  {
   "cell_type": "code",
   "execution_count": 15,
   "metadata": {},
   "outputs": [
    {
     "data": {
      "text/plain": [
       "<matplotlib.axes._subplots.AxesSubplot at 0x2399b4f9c08>"
      ]
     },
     "execution_count": 15,
     "metadata": {},
     "output_type": "execute_result"
    },
    {
     "data": {
      "image/png": "[encoded data removed]",
      "text/plain": [
       "<Figure size 432x288 with 1 Axes>"
      ]
     },
     "metadata": {
      "needs_background": "light"
     },
     "output_type": "display_data"
    }
   ],
   "source": [
    "newdata.boxplot(column=\"Acidentes\")"
   ]
  },
  {
   "cell_type": "markdown",
   "metadata": {},
   "source": [
    "## Histograma"
   ]
  },
  {
   "cell_type": "code",
   "execution_count": 16,
   "metadata": {},
   "outputs": [
    {
     "data": {
      "text/plain": [
       "array([[<matplotlib.axes._subplots.AxesSubplot object at 0x000002399BC37A08>]],\n",
       "      dtype=object)"
      ]
     },
     "execution_count": 16,
     "metadata": {},
     "output_type": "execute_result"
    },
    {
     "data": {
      "image/png": "[encoded data removed]",
      "text/plain": [
       "<Figure size 432x288 with 1 Axes>"
      ]
     },
     "metadata": {
      "needs_background": "light"
     },
     "output_type": "display_data"
    }
   ],
   "source": [
    "newdata.hist(column=\"Acidentes\", bins=15)"
   ]
  },
  {
   "cell_type": "markdown",
   "metadata": {},
   "source": [
    "## Gráfico de dispersão (Agrupamento)"
   ]
  },
  {
   "cell_type": "code",
   "execution_count": 17,
   "metadata": {},
   "outputs": [],
   "source": [
    "newdata = newdata.reset_index()"
   ]
  },
  {
   "cell_type": "code",
   "execution_count": 18,
   "metadata": {},
   "outputs": [
    {
     "data": {
      "text/plain": [
       "<matplotlib.axes._subplots.AxesSubplot at 0x2399c331948>"
      ]
     },
     "execution_count": 18,
     "metadata": {},
     "output_type": "execute_result"
    },
    {
     "data": {
      "image/png": "[encoded data removed]",
      "text/plain": [
       "<Figure size 432x288 with 1 Axes>"
      ]
     },
     "metadata": {
      "needs_background": "light"
     },
     "output_type": "display_data"
    }
   ],
   "source": [
    "from sklearn.cluster import KMeans\n",
    "kmeans = KMeans(n_clusters=3)\n",
    "kmeans.fit(newdata)\n",
    "sns.scatterplot(data=newdata, x=\"Temporada\", y=\"Acidentes\", hue=kmeans.labels_, palette=\"muted\")"
   ]
  },
  {
   "cell_type": "markdown",
   "metadata": {},
   "source": [
    "## Gráfico de Linha"
   ]
  },
  {
   "cell_type": "code",
   "execution_count": 19,
   "metadata": {},
   "outputs": [
    {
     "data": {
      "text/plain": [
       "Text(0.5, 1.0, 'Acidentes por temporada')"
      ]
     },
     "execution_count": 19,
     "metadata": {},
     "output_type": "execute_result"
    },
    {
     "data": {
      "image/png": "[encoded data removed]",
      "text/plain": [
       "<Figure size 432x288 with 1 Axes>"
      ]
     },
     "metadata": {
      "needs_background": "light"
     },
     "output_type": "display_data"
    }
   ],
   "source": [
    "newdata = newdata.reset_index()\n",
    "sns.lineplot(data=newdata, x=\"Temporada\", y=\"Acidentes\", marker=\"o\")\n",
    "plt.title(\"Acidentes por temporada\")"
   ]
  },
  {
   "cell_type": "markdown",
   "metadata": {},
   "source": [
    "Análise: Como citamos acima podemos observar um **alto índice** de acidentes na decáda de 70 e também entre os **anos 2005-2012**,\n",
    "    seguido de uma queda destes números, quais foram os **fatores que culminaram** neste **declínio**?"
   ]
  },
  {
   "cell_type": "markdown",
   "metadata": {},
   "source": [
    "## DataFrame - Fórmula 1\n",
    "Aqui nós transformamos e limpamos alguns outros dados que estavam separados, para que pudéssemos fazer outras análises mais profundas\n",
    "como:   \n",
    "* Analisar as velocidades dos carros no decorrer dos anos;  \n",
    "* Fazer uma comparação entre os pilotos da década de 50 e os atuais;  \n",
    "* Calcular e analisar porcentagens da relação Pole-Vitória."
   ]
  },
  {
   "cell_type": "code",
   "execution_count": 20,
   "metadata": {},
   "outputs": [],
   "source": [
    "pd.options.display.float_format = '{:.2f}'.format\n",
    "\n",
    "races = pd.read_csv(\"../../caiov/ICD/projeto_csv/races.csv\")\n",
    "races = races.drop([\"time\",\"url\"], axis=1)\n",
    "\n",
    "teams_results2 = pd.merge(results,teams, on=\"constructorId\")\n",
    "teams_results2 = teams_results2.drop([\"constructorRef\",\"url\", \"Vitórias_P\"], axis=1)\n",
    "teams_results2 = teams_results2.drop([\"nationality\",\"raceId\",\"resultId\",\"grid\",\"laps\",\n",
    "                                      \"time\",\"fastestLap\",\"rank\",\"fastestLapTime\",\"fastestLapSpeed\"], axis=1)\n",
    "teams_results2 \n",
    "\n",
    "drivers_results2 = pd.merge(results, drivers, on=\"driverId\")\n",
    "drivers_results2 = drivers_results2.rename(columns={\"Vitórias_P\":\"Posição_Final\"})\n",
    "drivers_results2 \n",
    "\n",
    "t_d_results = pd.merge(teams_results2,drivers_results2, on=[\"driverId\",\"constructorId\"])\n",
    "t_d_results = t_d_results.drop([\"rank\",\"fastestLap\",\"driverRef\",\"laps\",\"resultId\"],axis=1)\n",
    "t_d_results = t_d_results.reindex(columns=[\"raceId\",\"driverId\",\"Pilotos\",\"code\",\"nationality\",\"constructorId\",\"name\",\n",
    "                                           \"grid\",\"Posição_Final\",\"time\",\"fastestLapTime\",\"fastestLapSpeed\"])\n",
    "\n",
    "t_d_results = t_d_results.rename(columns={\"name\":\"Montadoras\"})\n",
    "\n",
    "formula_1 = pd.merge(t_d_results,races, on=\"raceId\")\n",
    "formula_1 = formula_1.reindex(columns=[\"raceId\",\"round\",\"circuitId\",\"name\",\"date\",\"year\",\"driverId\",\"Pilotos\",\"code\",\"nationality\",\n",
    "                                       \"Montadoras\",\"constructorId\",\"grid\",\"Posição_Final\",\"time\",\"fastestLapTime\",\"fastestLapSpeed\"])\n",
    "formula_1 = formula_1.drop_duplicates()\n",
    "formula_1 = formula_1.sort_values(by=\"date\")"
   ]
  },
  {
   "cell_type": "markdown",
   "metadata": {},
   "source": [
    "## Análise Tempo \n",
    "\n",
    "As corridas de Fórmula 1 sempre envolveram muita **velocidade**, era certo que com o passar dos anos as equipes de **engenheiros** \n",
    "melhorariam cada vez mais os carros, que teriam **motores mais potentes** e uma **melhor aerodinâmica** tudo em troca de mais\n",
    "velocidade. Entretando como vimos acima os acidentes também se acentuaram. Aqui veremos a **evolução das velocidades** dos carros, e as **medidas de segurança** que foram tomadas para garantir a preservação da vida dos pilotos."
   ]
  },
  {
   "cell_type": "code",
   "execution_count": 36,
   "metadata": {},
   "outputs": [],
   "source": [
    "formula_1_speed = formula_1\n",
    "formula_1_speed = formula_1_speed.drop([\"round\",\"driverId\",\n",
    "                          \"code\",\"constructorId\",\"fastestLapTime\",\"fastestLapSpeed\"], axis=1)\n",
    "\n",
    "formula_1_speed = formula_1_speed[(formula_1_speed.circuitId == 6) | (formula_1_speed.circuitId == 14) | \n",
    "                                  (formula_1_speed.circuitId == 18) | (formula_1_speed.circuitId == 9)]\n",
    "\n",
    "formula_1_speed = formula_1_speed.drop(14186)\n",
    "formula_1_speed = formula_1_speed.sort_values(by=\"circuitId\")\n",
    "\n",
    "formula_1_speed_t = formula_1_speed[\"time\"]\n",
    "formula_1_speed_dt = pd.to_datetime(formula_1_speed_t, format='%H:%M:%S.%f', errors='ignore')\n",
    "formula_1_speed_seconds = (formula_1_speed_dt.dt.hour*60+formula_1_speed_dt.dt.minute)*60 + formula_1_speed_dt.dt.second\n",
    "formula_1_speed[\"Seconds\"] = formula_1_speed_seconds"
   ]
  },
  {
   "cell_type": "code",
   "execution_count": 22,
   "metadata": {},
   "outputs": [
    {
     "data": {
      "text/plain": [
       "Text(0.5, 1.0, 'Análise Tempos')"
      ]
     },
     "execution_count": 22,
     "metadata": {},
     "output_type": "execute_result"
    },
    {
     "data": {
      "image/png": "[encoded data removed]",
      "text/plain": [
       "<Figure size 432x288 with 1 Axes>"
      ]
     },
     "metadata": {
      "needs_background": "light"
     },
     "output_type": "display_data"
    }
   ],
   "source": [
    "sns.lineplot(data=formula_1_speed, x=\"year\", y=\"Seconds\", hue=\"name\", marker=\"o\")\n",
    "plt.title(\"Análise Tempos\")"
   ]
  },
  {
   "cell_type": "markdown",
   "metadata": {},
   "source": [
    "Análise: Podemos observar que aproximadamente no ano de 2010 houve uma mudança brusca na variação dos tempos que estavam em constante diminuição. Tal acontecimento foi ocasionado por uma série de mudanças em algumas regras da Fórmula 1, como: \n",
    "\n",
    "* **Volta da regra de 107%** (*Durante a qualificação, o piloto que não efetuar uma volta dentro de 107% do menor tempo na primeira sessão de qualificação não pode começar a corrida*);\n",
    "* **Proibição de ordens de equipe** (*Equipe não pode exigir ultrapassagens para favorecer um determinado piloto*);  \n",
    "* **Novas normas técnicas impostas pela pirelli;**  \n",
    "* **Mudanças na aerodinâmica dos carros;**  \n",
    "* **Leve aumento do peso mínimo dos veículos;**  \n",
    "* **Impedimento de acessar o circuito 9 horas antes da primeira sessão do dia.**\n",
    "\n",
    "Essas mudanças favoreceram a segurança dos pilotos e de todas as pessoas envolvidas na organização da corrida, como pode ser observado no gráfico abaixo:"
   ]
  },
  {
   "cell_type": "code",
   "execution_count": 23,
   "metadata": {},
   "outputs": [
    {
     "data": {
      "text/plain": [
       "Text(0.5, 1.0, 'Acidentes por temporada')"
      ]
     },
     "execution_count": 23,
     "metadata": {},
     "output_type": "execute_result"
    },
    {
     "data": {
      "image/png": "[encoded data removed]",
      "text/plain": [
       "<Figure size 432x288 with 1 Axes>"
      ]
     },
     "metadata": {
      "needs_background": "light"
     },
     "output_type": "display_data"
    }
   ],
   "source": [
    "sns.lineplot(data=newdata, x=\"Temporada\", y=\"Acidentes\", marker=\"o\")\n",
    "plt.title(\"Acidentes por temporada\")"
   ]
  },
  {
   "cell_type": "markdown",
   "metadata": {},
   "source": [
    "Análise: Houve uma **diminuição** na **quantidade de acidentes** por volta da temporada de **2013**, demostrando a eficácia das **novas normas** impostas pela FIA (Federação Internacional do Automóvel). Em suma, os carros se tornaram levemente mais lentos, mas as corridas se tornaram **mais seguras**, o que eticamente foi a decisão mais correta para evitar a **morte de profissionais** deste esporte, como a trágica morte de **Ayrton Senna** em 1° de Maio de 1994, que perdeu o controle do carro e se chocou contra o muro, fazendo com que o braço direito da suspensão dianteira saísse em direção à sua cabeça acertando-o justo abaixo da viseira. "
   ]
  },
  {
   "cell_type": "markdown",
   "metadata": {},
   "source": [
    "<img src=\"Ayrton_Senna.jpg\" style=\"width:422.5px;height:325px\"/>"
   ]
  },
  {
   "cell_type": "markdown",
   "metadata": {},
   "source": [
    "## Porcentagem Pole-Vitória\n",
    "Na Fórmula 1 os pilotos fazem um **treino qualificatória** na pista para decidir as posições de largada da corrida, o piloto que tem o **tempo mais rápido** neste treino larga em primeiro, ele possui o que é chamado de **Pole Position** ( _Primeira Posição_ ). O piloto que larga em primeiro tem a **vantagem**, mas nem sempre ele é o que vence a corrida, as vezes um piloto\n",
    "retardatário rouba-lhe a vitória, é por isso que vamos analisar a **porcentagem de vitória** dos pilotos que largam em 1°, 2° e 3° lugar."
   ]
  },
  {
   "cell_type": "code",
   "execution_count": 24,
   "metadata": {},
   "outputs": [],
   "source": [
    "soma_p = formula_1['Posição_Final'].sum()\n",
    "\n",
    "soma_grid = formula_1[formula_1.grid == 1]\n",
    "soma_grid = soma_grid[\"grid\"].count()\n",
    "porc = (soma_grid * 100) / soma_p\n",
    "\n",
    "soma_grid_2 = formula_1[formula_1.grid == 2]\n",
    "soma_grid_2 = soma_grid_2[\"grid\"].count()\n",
    "porc_2 = (soma_grid_2 * 100) / soma_p\n",
    "\n",
    "soma_grid_3 = formula_1[formula_1.grid == 3]\n",
    "soma_grid_3 = soma_grid_3[\"grid\"].count()\n",
    "porc_3 = (soma_grid_3 * 100) / soma_p"
   ]
  },
  {
   "cell_type": "code",
   "execution_count": 25,
   "metadata": {},
   "outputs": [
    {
     "data": {
      "text/html": [
       "<div>\n",
       "<style scoped>\n",
       "    .dataframe tbody tr th:only-of-type {\n",
       "        vertical-align: middle;\n",
       "    }\n",
       "\n",
       "    .dataframe tbody tr th {\n",
       "        vertical-align: top;\n",
       "    }\n",
       "\n",
       "    .dataframe thead th {\n",
       "        text-align: right;\n",
       "    }\n",
       "</style>\n",
       "<table border=\"1\" class=\"dataframe\">\n",
       "  <thead>\n",
       "    <tr style=\"text-align: right;\">\n",
       "      <th></th>\n",
       "      <th>Saída</th>\n",
       "      <th>Porcentagem</th>\n",
       "    </tr>\n",
       "  </thead>\n",
       "  <tbody>\n",
       "    <tr>\n",
       "      <th>Q1</th>\n",
       "      <td>1°</td>\n",
       "      <td>41.87</td>\n",
       "    </tr>\n",
       "    <tr>\n",
       "      <th>Q2</th>\n",
       "      <td>2°</td>\n",
       "      <td>23.97</td>\n",
       "    </tr>\n",
       "    <tr>\n",
       "      <th>Q3</th>\n",
       "      <td>3°</td>\n",
       "      <td>12.32</td>\n",
       "    </tr>\n",
       "  </tbody>\n",
       "</table>\n",
       "</div>"
      ],
      "text/plain": [
       "   Saída  Porcentagem\n",
       "Q1    1°        41.87\n",
       "Q2    2°        23.97\n",
       "Q3    3°        12.32"
      ]
     },
     "execution_count": 25,
     "metadata": {},
     "output_type": "execute_result"
    }
   ],
   "source": [
    "valores_dict = {\"Q1\":porc, \"Q2\":porc_2, \"Q3\":porc_3}\n",
    "valores_dict_2 = {\"Q1\":\"1°\", \"Q2\":\"2°\", \"Q3\":\"3°\"}\n",
    "\n",
    "valores = pd.Series(valores_dict)\n",
    "valores_2 = pd.Series(valores_dict_2)\n",
    "\n",
    "porc_valores = pd.DataFrame({\"Saída\":valores_2 ,\"Porcentagem\":valores_dict})\n",
    "porc_valores"
   ]
  },
  {
   "cell_type": "markdown",
   "metadata": {},
   "source": [
    "Análise: Podemos observar que a diferença entre essas 3 posições cai quase **pela metade** quando vamos aumentando uma posição, além disso podemos ver que apenas **41,87%** dos pilotos que largaram na primeira posição em toda a história ganharam a corrida, então **mais da metade** desses pilotos **não conseguiram** a **vitória** após terem obtido o melhor tempo no treino classificatório, tal fato demonstra o quão **imprevisíveis** são as corridas da Fórmula 1."
   ]
  },
  {
   "cell_type": "markdown",
   "metadata": {},
   "source": [
    "# Dados Monaco (1950-1968) e (2005-2019)\n",
    "\n",
    "Aqui iremos calcular o Z-score de pilotos de diferentes épocas da Fórmula 1, e analisaremos qual piloto se sairia melhor se corresse em mesmas condições atualmente. "
   ]
  },
  {
   "cell_type": "markdown",
   "metadata": {},
   "source": [
    "## Monaco (1950-1968)"
   ]
  },
  {
   "cell_type": "code",
   "execution_count": 26,
   "metadata": {
    "scrolled": false
   },
   "outputs": [
    {
     "data": {
      "text/html": [
       "<div>\n",
       "<style scoped>\n",
       "    .dataframe tbody tr th:only-of-type {\n",
       "        vertical-align: middle;\n",
       "    }\n",
       "\n",
       "    .dataframe tbody tr th {\n",
       "        vertical-align: top;\n",
       "    }\n",
       "\n",
       "    .dataframe thead th {\n",
       "        text-align: right;\n",
       "    }\n",
       "</style>\n",
       "<table border=\"1\" class=\"dataframe\">\n",
       "  <thead>\n",
       "    <tr style=\"text-align: right;\">\n",
       "      <th></th>\n",
       "      <th>name</th>\n",
       "      <th>date</th>\n",
       "      <th>year</th>\n",
       "      <th>Pilotos</th>\n",
       "      <th>nationality</th>\n",
       "      <th>Montadoras</th>\n",
       "      <th>grid</th>\n",
       "      <th>Posição_Final</th>\n",
       "      <th>time</th>\n",
       "      <th>Seconds</th>\n",
       "      <th>Zscore</th>\n",
       "    </tr>\n",
       "  </thead>\n",
       "  <tbody>\n",
       "    <tr>\n",
       "      <th>0</th>\n",
       "      <td>Monaco Grand Prix</td>\n",
       "      <td>1968-05-26</td>\n",
       "      <td>1968</td>\n",
       "      <td>Graham Hill</td>\n",
       "      <td>British</td>\n",
       "      <td>Lotus-Ford</td>\n",
       "      <td>1</td>\n",
       "      <td>1</td>\n",
       "      <td>2:00:32.3</td>\n",
       "      <td>7232</td>\n",
       "      <td>-2.64</td>\n",
       "    </tr>\n",
       "    <tr>\n",
       "      <th>1</th>\n",
       "      <td>Monaco Grand Prix</td>\n",
       "      <td>1966-05-22</td>\n",
       "      <td>1966</td>\n",
       "      <td>Jackie Stewart</td>\n",
       "      <td>British</td>\n",
       "      <td>BRM</td>\n",
       "      <td>3</td>\n",
       "      <td>1</td>\n",
       "      <td>2:33:10.5</td>\n",
       "      <td>9190</td>\n",
       "      <td>-0.79</td>\n",
       "    </tr>\n",
       "    <tr>\n",
       "      <th>2</th>\n",
       "      <td>Monaco Grand Prix</td>\n",
       "      <td>1967-05-07</td>\n",
       "      <td>1967</td>\n",
       "      <td>Denny Hulme</td>\n",
       "      <td>New Zealander</td>\n",
       "      <td>Brabham-Repco</td>\n",
       "      <td>4</td>\n",
       "      <td>1</td>\n",
       "      <td>2:34:34.3</td>\n",
       "      <td>9274</td>\n",
       "      <td>-0.71</td>\n",
       "    </tr>\n",
       "    <tr>\n",
       "      <th>3</th>\n",
       "      <td>Monaco Grand Prix</td>\n",
       "      <td>1961-05-14</td>\n",
       "      <td>1961</td>\n",
       "      <td>Stirling Moss</td>\n",
       "      <td>British</td>\n",
       "      <td>Lotus-Climax</td>\n",
       "      <td>1</td>\n",
       "      <td>1</td>\n",
       "      <td>2:45:50.1</td>\n",
       "      <td>9950</td>\n",
       "      <td>-0.07</td>\n",
       "    </tr>\n",
       "    <tr>\n",
       "      <th>4</th>\n",
       "      <td>Monaco Grand Prix</td>\n",
       "      <td>1962-06-03</td>\n",
       "      <td>1962</td>\n",
       "      <td>Bruce McLaren</td>\n",
       "      <td>New Zealander</td>\n",
       "      <td>Cooper-Climax</td>\n",
       "      <td>3</td>\n",
       "      <td>1</td>\n",
       "      <td>2:46:29.7</td>\n",
       "      <td>9989</td>\n",
       "      <td>-0.03</td>\n",
       "    </tr>\n",
       "    <tr>\n",
       "      <th>5</th>\n",
       "      <td>Monaco Grand Prix</td>\n",
       "      <td>1958-05-18</td>\n",
       "      <td>1958</td>\n",
       "      <td>Maurice Trintignant</td>\n",
       "      <td>French</td>\n",
       "      <td>Cooper</td>\n",
       "      <td>5</td>\n",
       "      <td>1</td>\n",
       "      <td>2:52:27.9</td>\n",
       "      <td>10347</td>\n",
       "      <td>0.31</td>\n",
       "    </tr>\n",
       "    <tr>\n",
       "      <th>6</th>\n",
       "      <td>Monaco Grand Prix</td>\n",
       "      <td>1959-05-10</td>\n",
       "      <td>1959</td>\n",
       "      <td>Jack Brabham</td>\n",
       "      <td>Australian</td>\n",
       "      <td>Cooper-Climax</td>\n",
       "      <td>3</td>\n",
       "      <td>1</td>\n",
       "      <td>2:55:51.3</td>\n",
       "      <td>10551</td>\n",
       "      <td>0.50</td>\n",
       "    </tr>\n",
       "    <tr>\n",
       "      <th>7</th>\n",
       "      <td>Monaco Grand Prix</td>\n",
       "      <td>1957-05-19</td>\n",
       "      <td>1957</td>\n",
       "      <td>Juan Fangio</td>\n",
       "      <td>Argentine</td>\n",
       "      <td>Maserati</td>\n",
       "      <td>1</td>\n",
       "      <td>1</td>\n",
       "      <td>3:10:12.8</td>\n",
       "      <td>11412</td>\n",
       "      <td>1.31</td>\n",
       "    </tr>\n",
       "  </tbody>\n",
       "</table>\n",
       "</div>"
      ],
      "text/plain": [
       "                name        date  year              Pilotos    nationality  \\\n",
       "0  Monaco Grand Prix  1968-05-26  1968          Graham Hill        British   \n",
       "1  Monaco Grand Prix  1966-05-22  1966       Jackie Stewart        British   \n",
       "2  Monaco Grand Prix  1967-05-07  1967          Denny Hulme  New Zealander   \n",
       "3  Monaco Grand Prix  1961-05-14  1961        Stirling Moss        British   \n",
       "4  Monaco Grand Prix  1962-06-03  1962        Bruce McLaren  New Zealander   \n",
       "5  Monaco Grand Prix  1958-05-18  1958  Maurice Trintignant         French   \n",
       "6  Monaco Grand Prix  1959-05-10  1959         Jack Brabham     Australian   \n",
       "7  Monaco Grand Prix  1957-05-19  1957          Juan Fangio      Argentine   \n",
       "\n",
       "      Montadoras  grid  Posição_Final       time  Seconds  Zscore  \n",
       "0     Lotus-Ford     1              1  2:00:32.3     7232   -2.64  \n",
       "1            BRM     3              1  2:33:10.5     9190   -0.79  \n",
       "2  Brabham-Repco     4              1  2:34:34.3     9274   -0.71  \n",
       "3   Lotus-Climax     1              1  2:45:50.1     9950   -0.07  \n",
       "4  Cooper-Climax     3              1  2:46:29.7     9989   -0.03  \n",
       "5         Cooper     5              1  2:52:27.9    10347    0.31  \n",
       "6  Cooper-Climax     3              1  2:55:51.3    10551    0.50  \n",
       "7       Maserati     1              1  3:10:12.8    11412    1.31  "
      ]
     },
     "execution_count": 26,
     "metadata": {},
     "output_type": "execute_result"
    }
   ],
   "source": [
    "Monaco_1 = formula_1[formula_1.circuitId == 6]\n",
    "Monaco_1 = Monaco_1[Monaco_1.year <= 1968]\n",
    "Monaco_1 = Monaco_1.sort_values(by=\"time\")\n",
    "Monaco_1 = Monaco_1.drop([\"raceId\",\"round\",\"driverId\",\"circuitId\",\n",
    "                          \"code\",\"constructorId\",\"fastestLapTime\",\"fastestLapSpeed\"], axis=1)\n",
    "Monaco_1 = Monaco_1.reset_index(drop=True)\n",
    "\n",
    "#Transformando tempo em str para segundos.\n",
    "Monaco_1_time = Monaco_1[\"time\"]\n",
    "Monaco_1_dt = pd.to_datetime(Monaco_1_time, format='%H:%M:%S.%f', errors='ignore')\n",
    "Monaco_1_seconds = (Monaco_1_dt.dt.hour*60+Monaco_1_dt.dt.minute)*60 + Monaco_1_dt.dt.second\n",
    "Monaco_1[\"Seconds\"] = Monaco_1_seconds\n",
    "\n",
    "Monaco_1[\"Zscore\"] = (Monaco_1.Seconds - Monaco_1.Seconds.mean())/Monaco_1.Seconds.std()\n",
    "Monaco_1[\"Pilotos\"] = Monaco_1[\"Pilotos\"].drop_duplicates()\n",
    "Monaco_1 = Monaco_1.dropna()\n",
    "Monaco_1 = Monaco_1.reset_index(drop=True)\n",
    "Monaco_1"
   ]
  },
  {
   "cell_type": "code",
   "execution_count": 42,
   "metadata": {},
   "outputs": [
    {
     "data": {
      "text/plain": [
       "Text(0.5, 1.0, 'Monaco (1950-1968)')"
      ]
     },
     "execution_count": 42,
     "metadata": {},
     "output_type": "execute_result"
    },
    {
     "data": {
      "image/png": "[encoded data removed]",
      "text/plain": [
       "<Figure size 432x288 with 1 Axes>"
      ]
     },
     "metadata": {
      "needs_background": "light"
     },
     "output_type": "display_data"
    }
   ],
   "source": [
    "Monaco_1[\"Z-score\"] = Monaco_1[\"Zscore\"] * -1\n",
    "sns.barplot(data=Monaco_1, x=\"Z-score\", y=\"Pilotos\")\n",
    "plt.title(\"Monaco (1950-1968)\")"
   ]
  },
  {
   "cell_type": "markdown",
   "metadata": {},
   "source": [
    "## Monaco (2005-2019)"
   ]
  },
  {
   "cell_type": "code",
   "execution_count": 28,
   "metadata": {
    "scrolled": false
   },
   "outputs": [
    {
     "data": {
      "text/html": [
       "<div>\n",
       "<style scoped>\n",
       "    .dataframe tbody tr th:only-of-type {\n",
       "        vertical-align: middle;\n",
       "    }\n",
       "\n",
       "    .dataframe tbody tr th {\n",
       "        vertical-align: top;\n",
       "    }\n",
       "\n",
       "    .dataframe thead th {\n",
       "        text-align: right;\n",
       "    }\n",
       "</style>\n",
       "<table border=\"1\" class=\"dataframe\">\n",
       "  <thead>\n",
       "    <tr style=\"text-align: right;\">\n",
       "      <th></th>\n",
       "      <th>name</th>\n",
       "      <th>date</th>\n",
       "      <th>year</th>\n",
       "      <th>Pilotos</th>\n",
       "      <th>code</th>\n",
       "      <th>nationality</th>\n",
       "      <th>Montadoras</th>\n",
       "      <th>grid</th>\n",
       "      <th>Posição_Final</th>\n",
       "      <th>time</th>\n",
       "      <th>Seconds</th>\n",
       "      <th>Zscore</th>\n",
       "    </tr>\n",
       "  </thead>\n",
       "  <tbody>\n",
       "    <tr>\n",
       "      <th>0</th>\n",
       "      <td>Monaco Grand Prix</td>\n",
       "      <td>2007-05-27</td>\n",
       "      <td>2007</td>\n",
       "      <td>Fernando Alonso</td>\n",
       "      <td>ALO</td>\n",
       "      <td>Spanish</td>\n",
       "      <td>McLaren</td>\n",
       "      <td>1</td>\n",
       "      <td>1</td>\n",
       "      <td>1:40:29.329</td>\n",
       "      <td>6029</td>\n",
       "      <td>-0.94</td>\n",
       "    </tr>\n",
       "    <tr>\n",
       "      <th>1</th>\n",
       "      <td>Monaco Grand Prix</td>\n",
       "      <td>2009-05-24</td>\n",
       "      <td>2009</td>\n",
       "      <td>Jenson Button</td>\n",
       "      <td>BUT</td>\n",
       "      <td>British</td>\n",
       "      <td>Brawn</td>\n",
       "      <td>1</td>\n",
       "      <td>1</td>\n",
       "      <td>1:40:44.282</td>\n",
       "      <td>6044</td>\n",
       "      <td>-0.92</td>\n",
       "    </tr>\n",
       "    <tr>\n",
       "      <th>2</th>\n",
       "      <td>Monaco Grand Prix</td>\n",
       "      <td>2018-05-27</td>\n",
       "      <td>2018</td>\n",
       "      <td>Daniel Ricciardo</td>\n",
       "      <td>RIC</td>\n",
       "      <td>Australian</td>\n",
       "      <td>Red Bull</td>\n",
       "      <td>1</td>\n",
       "      <td>1</td>\n",
       "      <td>1:42:54.807</td>\n",
       "      <td>6174</td>\n",
       "      <td>-0.72</td>\n",
       "    </tr>\n",
       "    <tr>\n",
       "      <th>3</th>\n",
       "      <td>Monaco Grand Prix</td>\n",
       "      <td>2019-05-26</td>\n",
       "      <td>2019</td>\n",
       "      <td>Lewis Hamilton</td>\n",
       "      <td>HAM</td>\n",
       "      <td>British</td>\n",
       "      <td>Mercedes</td>\n",
       "      <td>1</td>\n",
       "      <td>1</td>\n",
       "      <td>1:43:28.437</td>\n",
       "      <td>6208</td>\n",
       "      <td>-0.67</td>\n",
       "    </tr>\n",
       "    <tr>\n",
       "      <th>4</th>\n",
       "      <td>Monaco Grand Prix</td>\n",
       "      <td>2017-05-28</td>\n",
       "      <td>2017</td>\n",
       "      <td>Sebastian Vettel</td>\n",
       "      <td>VET</td>\n",
       "      <td>German</td>\n",
       "      <td>Ferrari</td>\n",
       "      <td>2</td>\n",
       "      <td>1</td>\n",
       "      <td>1:44:44.340</td>\n",
       "      <td>6284</td>\n",
       "      <td>-0.56</td>\n",
       "    </tr>\n",
       "    <tr>\n",
       "      <th>5</th>\n",
       "      <td>Monaco Grand Prix</td>\n",
       "      <td>2005-05-22</td>\n",
       "      <td>2005</td>\n",
       "      <td>Kimi Räikkönen</td>\n",
       "      <td>RAI</td>\n",
       "      <td>Finnish</td>\n",
       "      <td>McLaren</td>\n",
       "      <td>1</td>\n",
       "      <td>1</td>\n",
       "      <td>1:45:15.556</td>\n",
       "      <td>6315</td>\n",
       "      <td>-0.51</td>\n",
       "    </tr>\n",
       "    <tr>\n",
       "      <th>6</th>\n",
       "      <td>Monaco Grand Prix</td>\n",
       "      <td>2012-05-27</td>\n",
       "      <td>2012</td>\n",
       "      <td>Mark Webber</td>\n",
       "      <td>WEB</td>\n",
       "      <td>Australian</td>\n",
       "      <td>Red Bull</td>\n",
       "      <td>1</td>\n",
       "      <td>1</td>\n",
       "      <td>1:46:06.557</td>\n",
       "      <td>6366</td>\n",
       "      <td>-0.44</td>\n",
       "    </tr>\n",
       "    <tr>\n",
       "      <th>7</th>\n",
       "      <td>Monaco Grand Prix</td>\n",
       "      <td>2015-05-24</td>\n",
       "      <td>2015</td>\n",
       "      <td>Nico Rosberg</td>\n",
       "      <td>ROS</td>\n",
       "      <td>German</td>\n",
       "      <td>Mercedes</td>\n",
       "      <td>2</td>\n",
       "      <td>1</td>\n",
       "      <td>1:49:18.420</td>\n",
       "      <td>6558</td>\n",
       "      <td>-0.15</td>\n",
       "    </tr>\n",
       "  </tbody>\n",
       "</table>\n",
       "</div>"
      ],
      "text/plain": [
       "                name        date  year           Pilotos code nationality  \\\n",
       "0  Monaco Grand Prix  2007-05-27  2007   Fernando Alonso  ALO     Spanish   \n",
       "1  Monaco Grand Prix  2009-05-24  2009     Jenson Button  BUT     British   \n",
       "2  Monaco Grand Prix  2018-05-27  2018  Daniel Ricciardo  RIC  Australian   \n",
       "3  Monaco Grand Prix  2019-05-26  2019    Lewis Hamilton  HAM     British   \n",
       "4  Monaco Grand Prix  2017-05-28  2017  Sebastian Vettel  VET      German   \n",
       "5  Monaco Grand Prix  2005-05-22  2005    Kimi Räikkönen  RAI     Finnish   \n",
       "6  Monaco Grand Prix  2012-05-27  2012       Mark Webber  WEB  Australian   \n",
       "7  Monaco Grand Prix  2015-05-24  2015      Nico Rosberg  ROS      German   \n",
       "\n",
       "  Montadoras  grid  Posição_Final         time  Seconds  Zscore  \n",
       "0    McLaren     1              1  1:40:29.329     6029   -0.94  \n",
       "1      Brawn     1              1  1:40:44.282     6044   -0.92  \n",
       "2   Red Bull     1              1  1:42:54.807     6174   -0.72  \n",
       "3   Mercedes     1              1  1:43:28.437     6208   -0.67  \n",
       "4    Ferrari     2              1  1:44:44.340     6284   -0.56  \n",
       "5    McLaren     1              1  1:45:15.556     6315   -0.51  \n",
       "6   Red Bull     1              1  1:46:06.557     6366   -0.44  \n",
       "7   Mercedes     2              1  1:49:18.420     6558   -0.15  "
      ]
     },
     "execution_count": 28,
     "metadata": {},
     "output_type": "execute_result"
    }
   ],
   "source": [
    "Monaco_2 = formula_1[formula_1.circuitId == 6]\n",
    "Monaco_2 = Monaco_2[Monaco_2.year >= 2005]\n",
    "Monaco_2 = Monaco_2.sort_values(by=\"time\")\n",
    "Monaco_2 = Monaco_2.drop([\"raceId\",\"round\",\"driverId\",\"circuitId\",\"constructorId\",\"fastestLapSpeed\",\"fastestLapTime\"], axis=1)\n",
    "Monaco_2 = Monaco_2.reset_index(drop=True)\n",
    "\n",
    "Monaco_2_time = Monaco_2[\"time\"]\n",
    "Monaco_2_dt = pd.to_datetime(Monaco_2_time, format='%H:%M:%S.%f', errors='ignore')\n",
    "Monaco_2_seconds = (Monaco_2_dt.dt.hour*60+Monaco_2_dt.dt.minute)*60 + Monaco_2_dt.dt.second\n",
    "Monaco_2[\"Seconds\"] = Monaco_2_seconds\n",
    "\n",
    "Monaco_2[\"Zscore\"] = (Monaco_2.Seconds - Monaco_2.Seconds.mean())/Monaco_2.Seconds.std()\n",
    "Monaco_2[\"Pilotos\"] = Monaco_2[\"Pilotos\"].drop_duplicates()\n",
    "Monaco_2 = Monaco_2.dropna()\n",
    "Monaco_2 = Monaco_2.reset_index(drop=True)\n",
    "Monaco_2"
   ]
  },
  {
   "cell_type": "code",
   "execution_count": 43,
   "metadata": {},
   "outputs": [
    {
     "data": {
      "text/plain": [
       "Text(0.5, 1.0, 'Monaco (2005-2019)')"
      ]
     },
     "execution_count": 43,
     "metadata": {},
     "output_type": "execute_result"
    },
    {
     "data": {
      "image/png": "[encoded data removed]",
      "text/plain": [
       "<Figure size 432x288 with 1 Axes>"
      ]
     },
     "metadata": {
      "needs_background": "light"
     },
     "output_type": "display_data"
    }
   ],
   "source": [
    "Monaco_2[\"Z-score\"] = Monaco_2[\"Zscore\"] * -1\n",
    "sns.barplot(data=Monaco_2, x=\"Z-score\", y=\"Pilotos\")\n",
    "plt.title(\"Monaco (2005-2019)\")"
   ]
  },
  {
   "cell_type": "markdown",
   "metadata": {},
   "source": [
    "## Graham Hill x Fernando Alonso\t"
   ]
  },
  {
   "cell_type": "code",
   "execution_count": 30,
   "metadata": {},
   "outputs": [
    {
     "data": {
      "text/html": [
       "<div>\n",
       "<style scoped>\n",
       "    .dataframe tbody tr th:only-of-type {\n",
       "        vertical-align: middle;\n",
       "    }\n",
       "\n",
       "    .dataframe tbody tr th {\n",
       "        vertical-align: top;\n",
       "    }\n",
       "\n",
       "    .dataframe thead th {\n",
       "        text-align: right;\n",
       "    }\n",
       "</style>\n",
       "<table border=\"1\" class=\"dataframe\">\n",
       "  <thead>\n",
       "    <tr style=\"text-align: right;\">\n",
       "      <th></th>\n",
       "      <th>Monaco_1</th>\n",
       "      <th>Monaco_2</th>\n",
       "    </tr>\n",
       "  </thead>\n",
       "  <tbody>\n",
       "    <tr>\n",
       "      <th>Ano</th>\n",
       "      <td>1950-1968</td>\n",
       "      <td>2005-2019</td>\n",
       "    </tr>\n",
       "    <tr>\n",
       "      <th>Fastest Pilot T</th>\n",
       "      <td>2:00:32.3</td>\n",
       "      <td>1:40:29.329</td>\n",
       "    </tr>\n",
       "    <tr>\n",
       "      <th>Fastest Pilot S</th>\n",
       "      <td>7232</td>\n",
       "      <td>6029</td>\n",
       "    </tr>\n",
       "    <tr>\n",
       "      <th>Média</th>\n",
       "      <td>9743.12</td>\n",
       "      <td>6247.25</td>\n",
       "    </tr>\n",
       "    <tr>\n",
       "      <th>Desvio Padrão</th>\n",
       "      <td>1238.52</td>\n",
       "      <td>174.22</td>\n",
       "    </tr>\n",
       "    <tr>\n",
       "      <th>Zscore</th>\n",
       "      <td>-2.64</td>\n",
       "      <td>-0.94</td>\n",
       "    </tr>\n",
       "  </tbody>\n",
       "</table>\n",
       "</div>"
      ],
      "text/plain": [
       "                  Monaco_1     Monaco_2\n",
       "Ano              1950-1968    2005-2019\n",
       "Fastest Pilot T  2:00:32.3  1:40:29.329\n",
       "Fastest Pilot S       7232         6029\n",
       "Média              9743.12      6247.25\n",
       "Desvio Padrão      1238.52       174.22\n",
       "Zscore               -2.64        -0.94"
      ]
     },
     "execution_count": 30,
     "metadata": {},
     "output_type": "execute_result"
    }
   ],
   "source": [
    "Monaco_a = {\"Ano\": \"1950-1968\",\n",
    "                \"Fastest Pilot T\": Monaco_1[\"time\"][0],\n",
    "                    \"Fastest Pilot S\": Monaco_1[\"Seconds\"][0],\n",
    "                        \"Média\": Monaco_1[\"Seconds\"].mean(),\n",
    "                          \"Desvio Padrão\": Monaco_1[\"Seconds\"].std(),\n",
    "                               \"Zscore\": Monaco_1[\"Zscore\"][0]}\n",
    "\n",
    "Monaco_b = {\"Ano\": \"2005-2019\",\n",
    "                \"Fastest Pilot T\": Monaco_2[\"time\"][0],\n",
    "                    \"Fastest Pilot S\": Monaco_2[\"Seconds\"][0],\n",
    "                        \"Média\": Monaco_2[\"Seconds\"].mean(),\n",
    "                          \"Desvio Padrão\": Monaco_2[\"Seconds\"].std(),\n",
    "                              \"Zscore\": Monaco_2[\"Zscore\"][0]}\n",
    "\n",
    "medidas_a = pd.Series(Monaco_a)\n",
    "medidas_b = pd.Series(Monaco_b)\n",
    "\n",
    "d_ab_medidas = pd.DataFrame({\"Monaco_1\": medidas_a, \"Monaco_2\": medidas_b})\n",
    "d_ab_medidas"
   ]
  },
  {
   "cell_type": "markdown",
   "metadata": {},
   "source": [
    "Análise: Vemos que o piloto **Graham Hill** está com um Z-score de **-2.64** desvios padrões abaixo da média, enquanto **Fernando Alonso** está apenas **-0.94**, podemos observar no gráfico de barra como Graham se saiu melhor entre os seus oponentes, a partir deste fato supomos que ou Hill era forte de mais em comparação aos outros pilotos, ou eles que eram muito fracos, ou talvez um pouco dos dois. Já no caso de Alonso, a disputa é visivelmente mais equilibrada, mostrando como os pilotos estão em um patamar parecido. Em uma suposta **disputa** entre **Graham** e **Alonso**, baseado nestes dados, pode-se inferir que talvez Graham venceria o confronto. É claro que só estamos levando em conta 1 fator neste caso, se fizéssemos uma análise mais profunda dos dados, teríamos resultados mais precisos."
   ]
  },
  {
   "cell_type": "markdown",
   "metadata": {},
   "source": [
    "# Dados Monza (1950-1964) e (2006-2020)"
   ]
  },
  {
   "cell_type": "markdown",
   "metadata": {},
   "source": [
    "## Monza (1950-1964)"
   ]
  },
  {
   "cell_type": "code",
   "execution_count": 31,
   "metadata": {},
   "outputs": [
    {
     "data": {
      "text/html": [
       "<div>\n",
       "<style scoped>\n",
       "    .dataframe tbody tr th:only-of-type {\n",
       "        vertical-align: middle;\n",
       "    }\n",
       "\n",
       "    .dataframe tbody tr th {\n",
       "        vertical-align: top;\n",
       "    }\n",
       "\n",
       "    .dataframe thead th {\n",
       "        text-align: right;\n",
       "    }\n",
       "</style>\n",
       "<table border=\"1\" class=\"dataframe\">\n",
       "  <thead>\n",
       "    <tr style=\"text-align: right;\">\n",
       "      <th></th>\n",
       "      <th>name</th>\n",
       "      <th>date</th>\n",
       "      <th>year</th>\n",
       "      <th>Pilotos</th>\n",
       "      <th>nationality</th>\n",
       "      <th>Montadoras</th>\n",
       "      <th>grid</th>\n",
       "      <th>Posição_Final</th>\n",
       "      <th>time</th>\n",
       "      <th>Seconds</th>\n",
       "      <th>Zscore</th>\n",
       "    </tr>\n",
       "  </thead>\n",
       "  <tbody>\n",
       "    <tr>\n",
       "      <th>0</th>\n",
       "      <td>Italian Grand Prix</td>\n",
       "      <td>1961-09-10</td>\n",
       "      <td>1961</td>\n",
       "      <td>Phil Hill</td>\n",
       "      <td>American</td>\n",
       "      <td>Ferrari</td>\n",
       "      <td>4</td>\n",
       "      <td>1</td>\n",
       "      <td>2:03:13.0</td>\n",
       "      <td>7393</td>\n",
       "      <td>-1.42</td>\n",
       "    </tr>\n",
       "    <tr>\n",
       "      <th>1</th>\n",
       "      <td>Italian Grand Prix</td>\n",
       "      <td>1958-09-07</td>\n",
       "      <td>1958</td>\n",
       "      <td>Tony Brooks</td>\n",
       "      <td>British</td>\n",
       "      <td>Vanwall</td>\n",
       "      <td>2</td>\n",
       "      <td>1</td>\n",
       "      <td>2:03:47.8</td>\n",
       "      <td>7427</td>\n",
       "      <td>-1.38</td>\n",
       "    </tr>\n",
       "    <tr>\n",
       "      <th>2</th>\n",
       "      <td>Italian Grand Prix</td>\n",
       "      <td>1959-09-13</td>\n",
       "      <td>1959</td>\n",
       "      <td>Stirling Moss</td>\n",
       "      <td>British</td>\n",
       "      <td>Cooper-Climax</td>\n",
       "      <td>1</td>\n",
       "      <td>1</td>\n",
       "      <td>2:04:05.4</td>\n",
       "      <td>7445</td>\n",
       "      <td>-1.37</td>\n",
       "    </tr>\n",
       "    <tr>\n",
       "      <th>3</th>\n",
       "      <td>Italian Grand Prix</td>\n",
       "      <td>1964-09-06</td>\n",
       "      <td>1964</td>\n",
       "      <td>John Surtees</td>\n",
       "      <td>British</td>\n",
       "      <td>Ferrari</td>\n",
       "      <td>1</td>\n",
       "      <td>1</td>\n",
       "      <td>2:10:51.8</td>\n",
       "      <td>7851</td>\n",
       "      <td>-0.98</td>\n",
       "    </tr>\n",
       "    <tr>\n",
       "      <th>4</th>\n",
       "      <td>Italian Grand Prix</td>\n",
       "      <td>1963-09-08</td>\n",
       "      <td>1963</td>\n",
       "      <td>Jim Clark</td>\n",
       "      <td>British</td>\n",
       "      <td>Lotus-Climax</td>\n",
       "      <td>3</td>\n",
       "      <td>1</td>\n",
       "      <td>2:24:19.6</td>\n",
       "      <td>8659</td>\n",
       "      <td>-0.22</td>\n",
       "    </tr>\n",
       "    <tr>\n",
       "      <th>5</th>\n",
       "      <td>Italian Grand Prix</td>\n",
       "      <td>1955-09-11</td>\n",
       "      <td>1955</td>\n",
       "      <td>Juan Fangio</td>\n",
       "      <td>Argentine</td>\n",
       "      <td>Mercedes</td>\n",
       "      <td>1</td>\n",
       "      <td>1</td>\n",
       "      <td>2:25:04.4</td>\n",
       "      <td>8704</td>\n",
       "      <td>-0.18</td>\n",
       "    </tr>\n",
       "    <tr>\n",
       "      <th>6</th>\n",
       "      <td>Italian Grand Prix</td>\n",
       "      <td>1962-09-16</td>\n",
       "      <td>1962</td>\n",
       "      <td>Graham Hill</td>\n",
       "      <td>British</td>\n",
       "      <td>BRM</td>\n",
       "      <td>2</td>\n",
       "      <td>1</td>\n",
       "      <td>2:29:08.4</td>\n",
       "      <td>8948</td>\n",
       "      <td>0.05</td>\n",
       "    </tr>\n",
       "    <tr>\n",
       "      <th>7</th>\n",
       "      <td>Italian Grand Prix</td>\n",
       "      <td>1951-09-16</td>\n",
       "      <td>1951</td>\n",
       "      <td>Alberto Ascari</td>\n",
       "      <td>Italian</td>\n",
       "      <td>Ferrari</td>\n",
       "      <td>3</td>\n",
       "      <td>1</td>\n",
       "      <td>2:42:39.3</td>\n",
       "      <td>9759</td>\n",
       "      <td>0.82</td>\n",
       "    </tr>\n",
       "    <tr>\n",
       "      <th>8</th>\n",
       "      <td>Italian Grand Prix</td>\n",
       "      <td>1950-09-03</td>\n",
       "      <td>1950</td>\n",
       "      <td>Nino Farina</td>\n",
       "      <td>Italian</td>\n",
       "      <td>Alfa Romeo</td>\n",
       "      <td>3</td>\n",
       "      <td>1</td>\n",
       "      <td>2:51:17.4</td>\n",
       "      <td>10277</td>\n",
       "      <td>1.31</td>\n",
       "    </tr>\n",
       "  </tbody>\n",
       "</table>\n",
       "</div>"
      ],
      "text/plain": [
       "                 name        date  year         Pilotos nationality  \\\n",
       "0  Italian Grand Prix  1961-09-10  1961       Phil Hill    American   \n",
       "1  Italian Grand Prix  1958-09-07  1958     Tony Brooks     British   \n",
       "2  Italian Grand Prix  1959-09-13  1959   Stirling Moss     British   \n",
       "3  Italian Grand Prix  1964-09-06  1964    John Surtees     British   \n",
       "4  Italian Grand Prix  1963-09-08  1963       Jim Clark     British   \n",
       "5  Italian Grand Prix  1955-09-11  1955     Juan Fangio   Argentine   \n",
       "6  Italian Grand Prix  1962-09-16  1962     Graham Hill     British   \n",
       "7  Italian Grand Prix  1951-09-16  1951  Alberto Ascari     Italian   \n",
       "8  Italian Grand Prix  1950-09-03  1950     Nino Farina     Italian   \n",
       "\n",
       "      Montadoras  grid  Posição_Final       time  Seconds  Zscore  \n",
       "0        Ferrari     4              1  2:03:13.0     7393   -1.42  \n",
       "1        Vanwall     2              1  2:03:47.8     7427   -1.38  \n",
       "2  Cooper-Climax     1              1  2:04:05.4     7445   -1.37  \n",
       "3        Ferrari     1              1  2:10:51.8     7851   -0.98  \n",
       "4   Lotus-Climax     3              1  2:24:19.6     8659   -0.22  \n",
       "5       Mercedes     1              1  2:25:04.4     8704   -0.18  \n",
       "6            BRM     2              1  2:29:08.4     8948    0.05  \n",
       "7        Ferrari     3              1  2:42:39.3     9759    0.82  \n",
       "8     Alfa Romeo     3              1  2:51:17.4    10277    1.31  "
      ]
     },
     "execution_count": 31,
     "metadata": {},
     "output_type": "execute_result"
    }
   ],
   "source": [
    "Monza_1 = formula_1[formula_1.circuitId == 14]\n",
    "Monza_1 = Monza_1[Monza_1.year <= 1964]\n",
    "Monza_1 = Monza_1.sort_values(by=\"time\")\n",
    "Monza_1 = Monza_1.drop([\"raceId\",\"round\",\"driverId\",\"circuitId\",\n",
    "                          \"code\",\"constructorId\",\"fastestLapTime\",\"fastestLapSpeed\"], axis=1)\n",
    "Monza_1 = Monza_1.reset_index(drop=True)\n",
    "\n",
    "#Transformando tempo em str para segundos.\n",
    "Monza_1_time = Monza_1[\"time\"]\n",
    "Monza_1_dt = pd.to_datetime(Monza_1_time, format='%H:%M:%S.%f', errors='ignore')\n",
    "Monza_1_seconds = (Monza_1_dt.dt.hour*60+Monza_1_dt.dt.minute)*60 + Monza_1_dt.dt.second\n",
    "Monza_1[\"Seconds\"] = Monza_1_seconds\n",
    "\n",
    "Monza_1[\"Zscore\"] = (Monza_1.Seconds - Monza_1.Seconds.mean())/Monza_1.Seconds.std()\n",
    "Monza_1[\"Pilotos\"] = Monza_1[\"Pilotos\"].drop_duplicates()\n",
    "Monza_1 = Monza_1.dropna()\n",
    "Monza_1 = Monza_1.reset_index(drop=True)\n",
    "Monza_1"
   ]
  },
  {
   "cell_type": "code",
   "execution_count": 38,
   "metadata": {},
   "outputs": [
    {
     "data": {
      "text/plain": [
       "Text(0.5, 1.0, 'Monza (1950-1964)')"
      ]
     },
     "execution_count": 38,
     "metadata": {},
     "output_type": "execute_result"
    },
    {
     "data": {
      "image/png": "[encoded data removed]",
      "text/plain": [
       "<Figure size 432x288 with 1 Axes>"
      ]
     },
     "metadata": {
      "needs_background": "light"
     },
     "output_type": "display_data"
    }
   ],
   "source": [
    "Monza_1[\"Z-score\"] = Monza_1[\"Zscore\"] * -1\n",
    "sns.barplot(data=Monza_1, x=\"Z-score\", y=\"Pilotos\")\n",
    "plt.title(\"Monza (1950-1964)\")"
   ]
  },
  {
   "cell_type": "markdown",
   "metadata": {},
   "source": [
    "## Monza (2006-2020)"
   ]
  },
  {
   "cell_type": "code",
   "execution_count": 33,
   "metadata": {},
   "outputs": [
    {
     "data": {
      "text/html": [
       "<div>\n",
       "<style scoped>\n",
       "    .dataframe tbody tr th:only-of-type {\n",
       "        vertical-align: middle;\n",
       "    }\n",
       "\n",
       "    .dataframe tbody tr th {\n",
       "        vertical-align: top;\n",
       "    }\n",
       "\n",
       "    .dataframe thead th {\n",
       "        text-align: right;\n",
       "    }\n",
       "</style>\n",
       "<table border=\"1\" class=\"dataframe\">\n",
       "  <thead>\n",
       "    <tr style=\"text-align: right;\">\n",
       "      <th></th>\n",
       "      <th>name</th>\n",
       "      <th>date</th>\n",
       "      <th>year</th>\n",
       "      <th>Pilotos</th>\n",
       "      <th>code</th>\n",
       "      <th>nationality</th>\n",
       "      <th>Montadoras</th>\n",
       "      <th>grid</th>\n",
       "      <th>Posição_Final</th>\n",
       "      <th>time</th>\n",
       "      <th>Seconds</th>\n",
       "      <th>Zscore</th>\n",
       "    </tr>\n",
       "  </thead>\n",
       "  <tbody>\n",
       "    <tr>\n",
       "      <th>0</th>\n",
       "      <td>Italian Grand Prix</td>\n",
       "      <td>2006-09-10</td>\n",
       "      <td>2006</td>\n",
       "      <td>Michael Schumacher</td>\n",
       "      <td>MSC</td>\n",
       "      <td>German</td>\n",
       "      <td>Ferrari</td>\n",
       "      <td>2</td>\n",
       "      <td>1</td>\n",
       "      <td>1:14:51.975</td>\n",
       "      <td>4491</td>\n",
       "      <td>-0.66</td>\n",
       "    </tr>\n",
       "    <tr>\n",
       "      <th>1</th>\n",
       "      <td>Italian Grand Prix</td>\n",
       "      <td>2019-09-08</td>\n",
       "      <td>2019</td>\n",
       "      <td>Charles Leclerc</td>\n",
       "      <td>LEC</td>\n",
       "      <td>Monegasque</td>\n",
       "      <td>Ferrari</td>\n",
       "      <td>1</td>\n",
       "      <td>1</td>\n",
       "      <td>1:15:26.665</td>\n",
       "      <td>4526</td>\n",
       "      <td>-0.58</td>\n",
       "    </tr>\n",
       "    <tr>\n",
       "      <th>2</th>\n",
       "      <td>Italian Grand Prix</td>\n",
       "      <td>2017-09-03</td>\n",
       "      <td>2017</td>\n",
       "      <td>Lewis Hamilton</td>\n",
       "      <td>HAM</td>\n",
       "      <td>British</td>\n",
       "      <td>Mercedes</td>\n",
       "      <td>1</td>\n",
       "      <td>1</td>\n",
       "      <td>1:15:32.312</td>\n",
       "      <td>4532</td>\n",
       "      <td>-0.57</td>\n",
       "    </tr>\n",
       "    <tr>\n",
       "      <th>3</th>\n",
       "      <td>Italian Grand Prix</td>\n",
       "      <td>2009-09-13</td>\n",
       "      <td>2009</td>\n",
       "      <td>Rubens Barrichello</td>\n",
       "      <td>BAR</td>\n",
       "      <td>Brazilian</td>\n",
       "      <td>Brawn</td>\n",
       "      <td>5</td>\n",
       "      <td>1</td>\n",
       "      <td>1:16:21.706</td>\n",
       "      <td>4581</td>\n",
       "      <td>-0.47</td>\n",
       "    </tr>\n",
       "    <tr>\n",
       "      <th>4</th>\n",
       "      <td>Italian Grand Prix</td>\n",
       "      <td>2010-09-12</td>\n",
       "      <td>2010</td>\n",
       "      <td>Fernando Alonso</td>\n",
       "      <td>ALO</td>\n",
       "      <td>Spanish</td>\n",
       "      <td>Ferrari</td>\n",
       "      <td>1</td>\n",
       "      <td>1</td>\n",
       "      <td>1:16:24.572</td>\n",
       "      <td>4584</td>\n",
       "      <td>-0.46</td>\n",
       "    </tr>\n",
       "    <tr>\n",
       "      <th>5</th>\n",
       "      <td>Italian Grand Prix</td>\n",
       "      <td>2016-09-04</td>\n",
       "      <td>2016</td>\n",
       "      <td>Nico Rosberg</td>\n",
       "      <td>ROS</td>\n",
       "      <td>German</td>\n",
       "      <td>Mercedes</td>\n",
       "      <td>2</td>\n",
       "      <td>1</td>\n",
       "      <td>1:17:28.089</td>\n",
       "      <td>4648</td>\n",
       "      <td>-0.33</td>\n",
       "    </tr>\n",
       "    <tr>\n",
       "      <th>6</th>\n",
       "      <td>Italian Grand Prix</td>\n",
       "      <td>2013-09-08</td>\n",
       "      <td>2013</td>\n",
       "      <td>Sebastian Vettel</td>\n",
       "      <td>VET</td>\n",
       "      <td>German</td>\n",
       "      <td>Red Bull</td>\n",
       "      <td>1</td>\n",
       "      <td>1</td>\n",
       "      <td>1:18:33.352</td>\n",
       "      <td>4713</td>\n",
       "      <td>-0.19</td>\n",
       "    </tr>\n",
       "  </tbody>\n",
       "</table>\n",
       "</div>"
      ],
      "text/plain": [
       "                 name        date  year             Pilotos code nationality  \\\n",
       "0  Italian Grand Prix  2006-09-10  2006  Michael Schumacher  MSC      German   \n",
       "1  Italian Grand Prix  2019-09-08  2019     Charles Leclerc  LEC  Monegasque   \n",
       "2  Italian Grand Prix  2017-09-03  2017      Lewis Hamilton  HAM     British   \n",
       "3  Italian Grand Prix  2009-09-13  2009  Rubens Barrichello  BAR   Brazilian   \n",
       "4  Italian Grand Prix  2010-09-12  2010     Fernando Alonso  ALO     Spanish   \n",
       "5  Italian Grand Prix  2016-09-04  2016        Nico Rosberg  ROS      German   \n",
       "6  Italian Grand Prix  2013-09-08  2013    Sebastian Vettel  VET      German   \n",
       "\n",
       "  Montadoras  grid  Posição_Final         time  Seconds  Zscore  \n",
       "0    Ferrari     2              1  1:14:51.975     4491   -0.66  \n",
       "1    Ferrari     1              1  1:15:26.665     4526   -0.58  \n",
       "2   Mercedes     1              1  1:15:32.312     4532   -0.57  \n",
       "3      Brawn     5              1  1:16:21.706     4581   -0.47  \n",
       "4    Ferrari     1              1  1:16:24.572     4584   -0.46  \n",
       "5   Mercedes     2              1  1:17:28.089     4648   -0.33  \n",
       "6   Red Bull     1              1  1:18:33.352     4713   -0.19  "
      ]
     },
     "execution_count": 33,
     "metadata": {},
     "output_type": "execute_result"
    }
   ],
   "source": [
    "Monza_2 = formula_1[formula_1.circuitId == 14]\n",
    "Monza_2 = Monza_2[Monza_2.year >= 2006]\n",
    "Monza_2 = Monza_2.sort_values(by=\"time\")\n",
    "Monza_2 = Monza_2.drop([\"raceId\",\"round\",\"driverId\",\"circuitId\",\"constructorId\",\"fastestLapSpeed\",\"fastestLapTime\"], axis=1)\n",
    "Monza_2 = Monza_2.reset_index(drop=True)\n",
    "\n",
    "Monza_2_time = Monza_2[\"time\"]\n",
    "Monza_2_dt = pd.to_datetime(Monza_2_time, format='%H:%M:%S.%f', errors='ignore')\n",
    "Monza_2_seconds = (Monza_2_dt.dt.hour*60+Monza_2_dt.dt.minute)*60 + Monza_2_dt.dt.second\n",
    "Monza_2[\"Seconds\"] = Monza_2_seconds\n",
    "\n",
    "Monza_2[\"Zscore\"] = (Monza_2.Seconds - Monza_2.Seconds.mean())/Monza_2.Seconds.std()\n",
    "Monza_2[\"Pilotos\"] = Monza_2[\"Pilotos\"].drop_duplicates()\n",
    "Monza_2 = Monza_2.dropna()\n",
    "Monza_2 = Monza_2.drop(14)\n",
    "Monza_2 = Monza_2.reset_index(drop=True)\n",
    "Monza_2"
   ]
  },
  {
   "cell_type": "code",
   "execution_count": 39,
   "metadata": {},
   "outputs": [
    {
     "data": {
      "text/plain": [
       "Text(0.5, 1.0, 'Monza (2006-2020)')"
      ]
     },
     "execution_count": 39,
     "metadata": {},
     "output_type": "execute_result"
    },
    {
     "data": {
      "image/png": "[encoded data removed]",
      "text/plain": [
       "<Figure size 432x288 with 1 Axes>"
      ]
     },
     "metadata": {
      "needs_background": "light"
     },
     "output_type": "display_data"
    }
   ],
   "source": [
    "Monza_2[\"Z-score\"] = Monza_2[\"Zscore\"] * -1\n",
    "sns.barplot(data=Monza_2, x=\"Z-score\", y=\"Pilotos\")\n",
    "plt.title(\"Monza (2006-2020)\")"
   ]
  },
  {
   "cell_type": "markdown",
   "metadata": {},
   "source": [
    "## Phil Hill x Michael Schumacher"
   ]
  },
  {
   "cell_type": "code",
   "execution_count": 35,
   "metadata": {},
   "outputs": [
    {
     "data": {
      "text/html": [
       "<div>\n",
       "<style scoped>\n",
       "    .dataframe tbody tr th:only-of-type {\n",
       "        vertical-align: middle;\n",
       "    }\n",
       "\n",
       "    .dataframe tbody tr th {\n",
       "        vertical-align: top;\n",
       "    }\n",
       "\n",
       "    .dataframe thead th {\n",
       "        text-align: right;\n",
       "    }\n",
       "</style>\n",
       "<table border=\"1\" class=\"dataframe\">\n",
       "  <thead>\n",
       "    <tr style=\"text-align: right;\">\n",
       "      <th></th>\n",
       "      <th>Monza_1</th>\n",
       "      <th>Monza_2</th>\n",
       "    </tr>\n",
       "  </thead>\n",
       "  <tbody>\n",
       "    <tr>\n",
       "      <th>Ano</th>\n",
       "      <td>1950-1964</td>\n",
       "      <td>2006-2020</td>\n",
       "    </tr>\n",
       "    <tr>\n",
       "      <th>Fastest Pilot T</th>\n",
       "      <td>2:03:13.0</td>\n",
       "      <td>1:14:51.975</td>\n",
       "    </tr>\n",
       "    <tr>\n",
       "      <th>Fastest Pilot S</th>\n",
       "      <td>7393</td>\n",
       "      <td>4491</td>\n",
       "    </tr>\n",
       "    <tr>\n",
       "      <th>Média</th>\n",
       "      <td>8495.89</td>\n",
       "      <td>4582.14</td>\n",
       "    </tr>\n",
       "    <tr>\n",
       "      <th>Desvio Padrão</th>\n",
       "      <td>1056.01</td>\n",
       "      <td>76.85</td>\n",
       "    </tr>\n",
       "    <tr>\n",
       "      <th>Zscore</th>\n",
       "      <td>-1.42</td>\n",
       "      <td>-0.66</td>\n",
       "    </tr>\n",
       "  </tbody>\n",
       "</table>\n",
       "</div>"
      ],
      "text/plain": [
       "                   Monza_1      Monza_2\n",
       "Ano              1950-1964    2006-2020\n",
       "Fastest Pilot T  2:03:13.0  1:14:51.975\n",
       "Fastest Pilot S       7393         4491\n",
       "Média              8495.89      4582.14\n",
       "Desvio Padrão      1056.01        76.85\n",
       "Zscore               -1.42        -0.66"
      ]
     },
     "execution_count": 35,
     "metadata": {},
     "output_type": "execute_result"
    }
   ],
   "source": [
    "Monza_a = {\"Ano\": \"1950-1964\",\n",
    "                \"Fastest Pilot T\": Monza_1[\"time\"][0],\n",
    "                    \"Fastest Pilot S\": Monza_1[\"Seconds\"][0],\n",
    "                        \"Média\": Monza_1[\"Seconds\"].mean(),\n",
    "                          \"Desvio Padrão\": Monza_1[\"Seconds\"].std(),\n",
    "                               \"Zscore\": Monza_1[\"Zscore\"][0]}\n",
    "\n",
    "Monza_b = {\"Ano\": \"2006-2020\",\n",
    "                \"Fastest Pilot T\": Monza_2[\"time\"][0],\n",
    "                    \"Fastest Pilot S\": Monza_2[\"Seconds\"][0],\n",
    "                        \"Média\": Monza_2[\"Seconds\"].mean(),\n",
    "                          \"Desvio Padrão\": Monza_2[\"Seconds\"].std(),\n",
    "                              \"Zscore\": Monza_2[\"Zscore\"][0]}\n",
    "\n",
    "medidas_a = pd.Series(Monza_a)\n",
    "medidas_b = pd.Series(Monza_b)\n",
    "\n",
    "d_ab_medidas = pd.DataFrame({\"Monza_1\": medidas_a, \"Monza_2\": medidas_b})\n",
    "d_ab_medidas"
   ]
  },
  {
   "cell_type": "markdown",
   "metadata": {},
   "source": [
    "Análise: Assim como no caso acima vemos que novamente o piloto das primeiras décadas da Fórmula 1, talvez levasse a melhor contra um piloto do século 21. **Phil Hill** teve um Z-score de **-1.42** enquanto **Michael Schumacher** teve apenas **-0.66**, observando novamente o gráfico de barra, vemos que a disputa de Phil foi um pouco mais acirrada em relação ao GP de Monaco, já no caso de Schumacher novamente vemos uma disputa bastante equilibrada. Precisamos pontuar que os carros atualmente são bem **mais tecnológicos** que os antigos, nos levando a imaginar os **grandes feitos** que os pilotos das primeiras décadas realizariam se corressem hoje em dia. Infelizmente as suposições que levantamos não podem ser provadas na prática, mas temos os **dados** para **analisar** e **imaginar** o que possivelmente aconteceria."
   ]
  },
  {
   "cell_type": "markdown",
   "metadata": {},
   "source": [
    "# Conclusão"
   ]
  },
  {
   "cell_type": "markdown",
   "metadata": {},
   "source": [
    "Durante esses **71 anos** da Fórmula 1, muitos dados foram gerados, principalmente agora no último século onde os carros possuem\n",
    "    muita tecnologia para **calcular, medir e analisar** o desempenho dos pilotos e dos carros. Encontramos os pilotos mais vencedores, assim como as montadoras, acompanhamos a evolução das velocidades, o aumento do número de acidentes e as medidas de segurança que foram tomadas para garantir a segurança dos pilotos. Foi necessário um **grande processo de limpeza** pelo fato de existir uma grande quantidade de dados de todos esses anos, além disso nas primeiras décadas da Fórmula 1, muitos dados como tempos dos pilotos retardatários não foram registrados, dificultando a análise em alguns casos, ademais temos limitações pelo básico de conhecimento que ainda possuímos. Futuramente podemos **refazer essas análises** com os próximos anos e analisar possíveis **mudanças nos resultados**. Independente de qualquer coisa esse é um esporte que sempre estará em constante **evolução**."
   ]
  }
 ],
 "metadata": {
  "kernelspec": {
   "display_name": "Python 3",
   "language": "python",
   "name": "python3"
  },
  "language_info": {
   "codemirror_mode": {
    "name": "ipython",
    "version": 3
   },
   "file_extension": ".py",
   "mimetype": "text/x-python",
   "name": "python",
   "nbconvert_exporter": "python",
   "pygments_lexer": "ipython3",
   "version": "3.7.6"
  }
 },
 "nbformat": 4,
 "nbformat_minor": 4
}
